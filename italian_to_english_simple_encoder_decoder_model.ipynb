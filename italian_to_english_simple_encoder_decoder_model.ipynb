{
  "nbformat": 4,
  "nbformat_minor": 0,
  "metadata": {
    "colab": {
      "name": "italian_to_english_simple_encoder_decoder_model.ipynb",
      "provenance": [],
      "include_colab_link": true
    },
    "kernelspec": {
      "name": "python3",
      "display_name": "Python 3"
    },
    "accelerator": "GPU"
  },
  "cells": [
    {
      "cell_type": "markdown",
      "metadata": {
        "id": "view-in-github",
        "colab_type": "text"
      },
      "source": [
        "<a href=\"https://colab.research.google.com/github/ashishthomaschempolil/Neural-Machine-Translation-Italian-to-English/blob/master/italian_to_english_simple_encoder_decoder_model.ipynb\" target=\"_parent\"><img src=\"https://colab.research.google.com/assets/colab-badge.svg\" alt=\"Open In Colab\"/></a>"
      ]
    },
    {
      "cell_type": "markdown",
      "metadata": {
        "id": "lGCUazznTtnA"
      },
      "source": [
        "[dataset](http://www.manythings.org/anki/ita-eng.zip)"
      ]
    },
    {
      "cell_type": "code",
      "metadata": {
        "id": "DxpLemF_itGg"
      },
      "source": [
        "import warnings\n",
        "warnings.filterwarnings(\"ignore\")\n",
        "import pandas as pd\n",
        "import matplotlib.pyplot as plt\n",
        "import seaborn as sns\n",
        "sns.set(palette='muted',style='whitegrid')\n",
        "import re\n",
        "from multiprocessing import Process# this is used for multithreading\n",
        "import multiprocessing\n",
        "import tensorflow as tf\n",
        "tf.compat.v1.enable_eager_execution()\n",
        "from tensorflow.keras.layers import TimeDistributed\n",
        "tf.keras.backend.clear_session()\n",
        "from tensorflow.keras.layers import Input, Softmax, RNN, Dense, Embedding, LSTM,Dot\n",
        "from tensorflow.keras.models import Model\n",
        "from sklearn.model_selection import train_test_split\n",
        "import numpy as np\n",
        "import keras.backend as K\n",
        "import nltk.translate.bleu_score as bleu"
      ],
      "execution_count": null,
      "outputs": []
    },
    {
      "cell_type": "code",
      "metadata": {
        "id": "5o97JGiqmHrW",
        "outputId": "bc5dc541-459a-4fba-ec05-dbd310d4b207",
        "colab": {
          "base_uri": "https://localhost:8080/",
          "height": 191
        }
      },
      "source": [
        "tf.executing_eagerly()"
      ],
      "execution_count": null,
      "outputs": [
        {
          "output_type": "error",
          "ename": "NameError",
          "evalue": "ignored",
          "traceback": [
            "\u001b[0;31m---------------------------------------------------------------------------\u001b[0m",
            "\u001b[0;31mNameError\u001b[0m                                 Traceback (most recent call last)",
            "\u001b[0;32m<ipython-input-1-ed9c80fe6ed3>\u001b[0m in \u001b[0;36m<module>\u001b[0;34m()\u001b[0m\n\u001b[0;32m----> 1\u001b[0;31m \u001b[0mtf\u001b[0m\u001b[0;34m.\u001b[0m\u001b[0mexecuting_eagerly\u001b[0m\u001b[0;34m(\u001b[0m\u001b[0;34m)\u001b[0m\u001b[0;34m\u001b[0m\u001b[0;34m\u001b[0m\u001b[0m\n\u001b[0m",
            "\u001b[0;31mNameError\u001b[0m: name 'tf' is not defined"
          ]
        },
        {
          "output_type": "execute_result",
          "data": {
            "text/plain": [
              "True"
            ]
          },
          "metadata": {
            "tags": []
          },
          "execution_count": 3
        }
      ]
    },
    {
      "cell_type": "markdown",
      "metadata": {
        "id": "3k_AlAuKJqVA"
      },
      "source": [
        "<font color='blue'>**Load the data**</font>"
      ]
    },
    {
      "cell_type": "code",
      "metadata": {
        "id": "ZZVBzt2ijxkT",
        "outputId": "6d373d2b-9416-4168-fd8a-24fcdeefbee0",
        "colab": {
          "base_uri": "https://localhost:8080/",
          "height": 72
        }
      },
      "source": [
        "!curl --header 'Host: www.manythings.org' --user-agent 'Mozilla/5.0 (Windows NT 10.0; Win64; x64; rv:81.0) Gecko/20100101 Firefox/81.0' --header 'Accept: text/html,application/xhtml+xml,application/xml;q=0.9,image/webp,*/*;q=0.8' --header 'Accept-Language: en-US,en;q=0.5' --referer 'https://colab.research.google.com/' --cookie '__utma=3028652.342493364.1600351433.1600351433.1600351433.1; __utmz=3028652.1600351433.1.1.utmcsr=(direct)|utmccn=(direct)|utmcmd=(none)' --header 'Upgrade-Insecure-Requests: 1' 'http://www.manythings.org/anki/ita-eng.zip' --output 'ita-eng.zip'"
      ],
      "execution_count": null,
      "outputs": [
        {
          "output_type": "stream",
          "text": [
            "  % Total    % Received % Xferd  Average Speed   Time    Time     Time  Current\n",
            "                                 Dload  Upload   Total   Spent    Left  Speed\n",
            "100 7293k  100 7293k    0     0  14.4M      0 --:--:-- --:--:-- --:--:-- 14.3M\n"
          ],
          "name": "stdout"
        }
      ]
    },
    {
      "cell_type": "code",
      "metadata": {
        "id": "GDtNU3RDj05C",
        "outputId": "75981d02-e985-4648-ea1a-16c5c8fa3f9e",
        "colab": {
          "base_uri": "https://localhost:8080/",
          "height": 72
        }
      },
      "source": [
        "!unzip '/content/ita-eng.zip'"
      ],
      "execution_count": null,
      "outputs": [
        {
          "output_type": "stream",
          "text": [
            "Archive:  /content/ita-eng.zip\n",
            "  inflating: ita.txt                 \n",
            "  inflating: _about.txt              \n"
          ],
          "name": "stdout"
        }
      ]
    },
    {
      "cell_type": "code",
      "metadata": {
        "id": "x554C7-AitGn",
        "outputId": "b3163a28-49e7-4a63-ad01-1948b4641751",
        "colab": {
          "base_uri": "https://localhost:8080/",
          "height": 166
        }
      },
      "source": [
        "filepath = './ita.txt'\n",
        "f = open(filepath,'r',encoding=\"utf8\")\n",
        "lines = f.readlines()\n",
        "total = len(lines) #340432\n",
        "print(\"Sample text:\\n\")\n",
        "print(lines[-1],'\\n','*'*100,'\\n')\n",
        "print(\"The total no. of datapoints:\",total)\n",
        "f.close()"
      ],
      "execution_count": null,
      "outputs": [
        {
          "output_type": "stream",
          "text": [
            "Sample text:\n",
            "\n",
            "Doubtless there exists in this world precisely the right woman for any given man to marry and vice versa; but when you consider that a human being has the opportunity of being acquainted with only a few hundred people, and out of the few hundred that there are but a dozen or less whom he knows intimately, and out of the dozen, one or two friends at most, it will easily be seen, when we remember the number of millions who inhabit this world, that probably, since the earth was created, the right man has never yet met the right woman.\tSenza dubbio esiste in questo mondo proprio la donna giusta per ogni uomo da sposare e viceversa; ma se si considera che un essere umano ha l'opportunità di conoscere solo poche centinaia di persone, e fra le poche centinaia che ce ne sono solo una dozzina o meno che conosce intimamente e fra la dozzina, uno o due amici al massimo, si vedrà facilmente, quando ricorderemo il numero di milioni che abitano questo mondo, che probabilmente, da quando è stata creata la terra, l'uomo giusto non ha mai incontrato la donna giusta.\tCC-BY 2.0 (France) Attribution: tatoeba.org #7697649 (RM) & #8729772 (Guybrush88)\n",
            " \n",
            " **************************************************************************************************** \n",
            "\n",
            "The total no. of datapoints: 341554\n"
          ],
          "name": "stdout"
        }
      ]
    },
    {
      "cell_type": "markdown",
      "metadata": {
        "id": "vmGWTdRmKRph"
      },
      "source": [
        "<font color='blue'>**Preprocess data**</font>"
      ]
    },
    {
      "cell_type": "code",
      "metadata": {
        "id": "mJocXArQuXim",
        "outputId": "f402159e-07a6-480d-d116-8cbbb2f5acb8",
        "colab": {
          "base_uri": "https://localhost:8080/",
          "height": 35
        }
      },
      "source": [
        "from google.colab import drive\n",
        "drive.mount('/content/drive')"
      ],
      "execution_count": null,
      "outputs": [
        {
          "output_type": "stream",
          "text": [
            "Mounted at /content/drive\n"
          ],
          "name": "stdout"
        }
      ]
    },
    {
      "cell_type": "code",
      "metadata": {
        "id": "9QqElB_nKZos"
      },
      "source": [
        "%%time\n",
        "# https://stackoverflow.com/a/47091490/4084039\n",
        "def decontracted(phrase): \n",
        "    \"\"\"Expanding English language contractions in Python\"\"\"\n",
        "    phrase = re.sub(r\"won\\'t\", \"will not\", phrase)\n",
        "    phrase = re.sub(r\"can\\'t\", \"can not\", phrase)\n",
        "\n",
        "    # general\n",
        "    phrase = re.sub(r\"n\\'t\", \" not\", phrase)\n",
        "    phrase = re.sub(r\"\\'re\", \" are\", phrase)\n",
        "    phrase = re.sub(r\"\\'s\", \" is\", phrase)\n",
        "    phrase = re.sub(r\"\\'d\", \" would\", phrase)\n",
        "    phrase = re.sub(r\"\\'ll\", \" will\", phrase)\n",
        "    phrase = re.sub(r\"\\'t\", \" not\", phrase)\n",
        "    phrase = re.sub(r\"\\'ve\", \" have\", phrase)\n",
        "    phrase = re.sub(r\"\\'m\", \" am\", phrase)\n",
        "    return phrase\n",
        "\n",
        "\n",
        "def preprocess(start,end,label):\n",
        "    \"\"\"\n",
        "    preprocess the data from start to end that is given and saves it to label.pkl\n",
        "    if end is False assumes till the end of the list\n",
        "    \"\"\"\n",
        "    \n",
        "    if end:\n",
        "        df = pd.DataFrame(columns=['italian','english'])\n",
        "        with open(filepath,'r',encoding=\"utf8\") as f:\n",
        "            italian = np.array([])\n",
        "            english = np.array([])\n",
        "            for l in f.readlines()[start:end]:\n",
        "                line = re.sub('CC.*',\"\",l) #removing all characters after the start of word CC \n",
        "                line = re.sub('\\t',\"_\",line) #to differentiate between italian and english.\n",
        "                k = line.split('_') #1st will be english and 2nd will be italian of the word\n",
        "                english = np.append(english,decontracted(k[0]).strip().lower()) ##expanding english language contractions and remove trailing spaces and lower all characters\n",
        "                italian = np.append(italian,k[1].strip().lower())\n",
        "        df['italian'] = italian\n",
        "        df['english'] = english\n",
        "    else:\n",
        "        df = pd.DataFrame(columns=['italian','english'])\n",
        "        with open(filepath,'r',encoding=\"utf8\") as f:\n",
        "            italian = np.array([])\n",
        "            english = np.array([])\n",
        "            for l in f.readlines()[start:]:\n",
        "                line = re.sub('CC.*',\"\",l) #removing all characters after the start of word CC \n",
        "                line = re.sub('\\t',\"_\",line) #to differentiate between italian and english.\n",
        "                k = line.split('_') #1st will be english and 2nd will be italian of the word\n",
        "                english = np.append(english,decontracted(k[0]).strip().lower()) ##expanding english language contractions and remove trailing spaces and lower all characters\n",
        "                italian = np.append(italian,k[1].strip().lower())\n",
        "        df['italian'] = italian\n",
        "        df['english'] = english\n",
        "    df.to_pickle(label+'.pkl')\n",
        "\n",
        "def process1():\n",
        "    \"\"\"\n",
        "    first process\n",
        "    \"\"\"\n",
        "    preprocess(start=0,end=int(total/4),label='df1')\n",
        "    \n",
        "\n",
        "def process2():\n",
        "    \"\"\"\n",
        "    first process\n",
        "    \"\"\"\n",
        "    preprocess(start=int(total/4),end=int(2*total/4),label='df2')\n",
        "    \n",
        "\n",
        "def process3():\n",
        "    \"\"\"\n",
        "    first process\n",
        "    \"\"\"\n",
        "    preprocess(start=int(2*total/4),end=int(3*total/4),label='df3')\n",
        "    \n",
        "\n",
        "def process4():\n",
        "    \"\"\"\n",
        "    first process\n",
        "    \"\"\"\n",
        "    preprocess(start=int(3*total/4),end=False,label = 'df4')\n",
        "\n",
        "def main():\n",
        "    #process is used to call multiprogramming\n",
        "    manager=multiprocessing.Manager() \t\n",
        "    p1=Process(target=process1)\n",
        "    p2=Process(target=process2)\n",
        "    p3=Process(target=process3)\n",
        "    p4=Process(target=process4)\n",
        "    #p1.start() is used to start the thread execution\n",
        "    p1.start()\n",
        "    p2.start()\n",
        "    p3.start()\n",
        "    p4.start()\n",
        "    #After completion all the threads are joined\n",
        "    p1.join()\n",
        "    p2.join()\n",
        "    p3.join()\n",
        "    p4.join()\n",
        "\n",
        "if __name__==\"__main__\":\n",
        "    main()"
      ],
      "execution_count": null,
      "outputs": []
    },
    {
      "cell_type": "code",
      "metadata": {
        "id": "RGqCcY4mitGx"
      },
      "source": [
        "filepath = '/content/drive/My Drive/italian_to_english_simple/'\n",
        "df1 = pd.read_pickle(filepath+'df1.pkl')\n",
        "df2 = pd.read_pickle(filepath+'df2.pkl')\n",
        "df3 = pd.read_pickle(filepath+'df3.pkl')\n",
        "df4 = pd.read_pickle(filepath+'df4.pkl')\n",
        "df = df1.append([df2,df3,df4]).reset_index(drop=True)\n",
        "del df1,df2,df3,df4"
      ],
      "execution_count": null,
      "outputs": []
    },
    {
      "cell_type": "code",
      "metadata": {
        "id": "98-lljv-UT5z"
      },
      "source": [
        "def preprocess_italian(x):\n",
        "    \"\"\"\n",
        "    remove all special characters and add '<start>' & '<end>' to italian (encoder i/p)\n",
        "    while adding only '<start>' to english(decoder i/p)\n",
        "    \"\"\"\n",
        "    x = re.sub('\\W+',\" \",x) #replacing all special characters with space\n",
        "    return '<start> '+ x.strip() + ' <end>'\n",
        "\n",
        "def preprocess_english(x):\n",
        "    \"\"\"\n",
        "    remove all special characters and add '<start>' & '<end>' to italian (encoder i/p)\n",
        "    while adding only '<start>' to english(decoder i/p)\n",
        "    \"\"\"\n",
        "    x = re.sub('\\W+',\" \",x) #replacing all special characters with space\n",
        "    return '<start> '+ x.strip() + ' <end>'\n",
        "\n",
        "test_df = df.copy()\n",
        "df['italian'] = df['italian'].apply(preprocess_italian)\n",
        "df['english'] = df['english'].apply(preprocess_english)"
      ],
      "execution_count": null,
      "outputs": []
    },
    {
      "cell_type": "code",
      "metadata": {
        "id": "KQobI6QYUXZT",
        "outputId": "c279308f-ffe4-49aa-baf9-daefe2b8728d",
        "colab": {
          "base_uri": "https://localhost:8080/",
          "height": 72
        }
      },
      "source": [
        "df['italian'].values[-1]"
      ],
      "execution_count": null,
      "outputs": [
        {
          "output_type": "execute_result",
          "data": {
            "application/vnd.google.colaboratory.intrinsic+json": {
              "type": "string"
            },
            "text/plain": [
              "'<start> senza dubbio esiste in questo mondo proprio la donna giusta per ogni uomo da sposare e viceversa ma se si considera che un essere umano ha l opportunità di conoscere solo poche centinaia di persone e fra le poche centinaia che ce ne sono solo una dozzina o meno che conosce intimamente e fra la dozzina uno o due amici al massimo si vedrà facilmente quando ricorderemo il numero di milioni che abitano questo mondo che probabilmente da quando è stata creata la terra l uomo giusto non ha mai incontrato la donna giusta <end>'"
            ]
          },
          "metadata": {
            "tags": []
          },
          "execution_count": 10
        }
      ]
    },
    {
      "cell_type": "code",
      "metadata": {
        "id": "rd5h9Me9UZYD",
        "outputId": "d413d511-abee-46e5-e6e7-ae3ff4952b6b",
        "colab": {
          "base_uri": "https://localhost:8080/",
          "height": 72
        }
      },
      "source": [
        "df['english'].values[-1]"
      ],
      "execution_count": null,
      "outputs": [
        {
          "output_type": "execute_result",
          "data": {
            "application/vnd.google.colaboratory.intrinsic+json": {
              "type": "string"
            },
            "text/plain": [
              "'<start> doubtless there exists in this world precisely the right woman for any given man to marry and vice versa but when you consider that a human being has the opportunity of being acquainted with only a few hundred people and out of the few hundred that there are but a dozen or less whom he knows intimately and out of the dozen one or two friends at most it will easily be seen when we remember the number of millions who inhabit this world that probably since the earth was created the right man has never yet met the right woman <end>'"
            ]
          },
          "metadata": {
            "tags": []
          },
          "execution_count": 11
        }
      ]
    },
    {
      "cell_type": "code",
      "metadata": {
        "id": "Xrw9_fe4_F2W"
      },
      "source": [
        "def remove_start(x):\n",
        "  x_modified = x.replace('<start>','').strip()\n",
        "  return x_modified\n",
        "\n",
        "def remove_end(x):\n",
        "  x_modified = x.replace('<end>','').strip()\n",
        "  return x_modified  "
      ],
      "execution_count": null,
      "outputs": []
    },
    {
      "cell_type": "code",
      "metadata": {
        "id": "QccaLqEpUZ9f",
        "outputId": "4d0178fd-4bd7-4dc7-cb91-13dd5e9d8a83",
        "colab": {
          "base_uri": "https://localhost:8080/",
          "height": 35
        }
      },
      "source": [
        "np.random.seed(42)\n",
        "k = np.random.choice(range(df['italian'].shape[0]),300000) #we are reducing the dataset to 300000 \n",
        "df_new = df.iloc[k,:].copy()\n",
        "df_new['english_ip'] = pd.DataFrame(df['english'].apply(remove_end)) \n",
        "df_new['english_op'] = pd.DataFrame(df['english'].apply(remove_start))\n",
        "\n",
        "train,val =  train_test_split(df_new,test_size=0.2)\n",
        "train.shape,val.shape"
      ],
      "execution_count": null,
      "outputs": [
        {
          "output_type": "execute_result",
          "data": {
            "text/plain": [
              "((240000, 4), (60000, 4))"
            ]
          },
          "metadata": {
            "tags": []
          },
          "execution_count": 13
        }
      ]
    },
    {
      "cell_type": "code",
      "metadata": {
        "id": "5wRHE78LUZqI",
        "outputId": "04d02e80-20e1-4d3c-9438-9c330a34329c",
        "colab": {
          "base_uri": "https://localhost:8080/",
          "height": 54
        }
      },
      "source": [
        "#finding lenghts of each snetence for encoder\n",
        "from tensorflow.keras.preprocessing.text import Tokenizer\n",
        "\n",
        "ita_tokenizer = Tokenizer(filters = '')\n",
        "ita_tokenizer.fit_on_texts(texts = train['italian'].values) #fit tokenizer\n",
        "train_italian = ita_tokenizer.texts_to_sequences(train.italian.values) #tokenize \n",
        "val_italian  = ita_tokenizer.texts_to_sequences(val.italian.values) #tokenize \n",
        "italian_len = np.array([len(i) for i in train_italian]) #getting the len of tokenized sentences for finding value of padding\n",
        "inp_vocab_size = len(ita_tokenizer.word_index)+1 #1 is unknown\n",
        "\n",
        "eng_tokenizer = Tokenizer(filters = '')\n",
        "eng_tokenizer.fit_on_texts(texts =  train['english'].values) \n",
        "train_english_ip = eng_tokenizer.texts_to_sequences(train.english_ip.values)\n",
        "train_english_op = eng_tokenizer.texts_to_sequences(train.english_op.values)\n",
        "val_english_ip = eng_tokenizer.texts_to_sequences(val.english_ip.values)\n",
        "val_english_op = eng_tokenizer.texts_to_sequences(val.english_op.values)\n",
        "english_len = np.array([len(i) for i in train_english_ip])\n",
        "op_vocab_size = len(eng_tokenizer.word_index)+1 #1 is unknown\n",
        "\n",
        "from tensorflow.keras.preprocessing.sequence import pad_sequences\n",
        "print('We will use the max length as padding value for both italian and english which are respectively:\\n %i\\tand\\t%i'%(italian_len.max(),english_len.max()))\n",
        "italian_pad = italian_len.max()\n",
        "english_pad = english_len.max()\n",
        "train_italian = pad_sequences(train_italian,maxlen=italian_pad,padding='post')\n",
        "train_english_ip = pad_sequences(train_english_ip,maxlen=english_pad,padding='post')\n",
        "train_english_op = pad_sequences(train_english_op,maxlen=english_pad,padding='post')\n",
        "\n",
        "val_italian = pad_sequences(val_italian,maxlen=italian_pad,padding='post')\n",
        "val_english_ip = pad_sequences(val_english_ip,maxlen=english_pad,padding='post')\n",
        "val_english_op = pad_sequences(val_english_op,maxlen=english_pad,padding='post')"
      ],
      "execution_count": null,
      "outputs": [
        {
          "output_type": "stream",
          "text": [
            "We will use the max length as padding value for both italian and english which are respectively:\n",
            " 51\tand\t48\n"
          ],
          "name": "stdout"
        }
      ]
    },
    {
      "cell_type": "code",
      "metadata": {
        "id": "fGW455_ZVyoN"
      },
      "source": [
        "batch_size = 60\n",
        "embedding_dim = 256\n",
        "lstm_units = 256\n",
        "input_length = italian_pad\n",
        "output_length = english_pad"
      ],
      "execution_count": null,
      "outputs": []
    },
    {
      "cell_type": "code",
      "metadata": {
        "id": "c9VLuFmrkduL"
      },
      "source": [
        "reverse_eng_word_index = {}\n",
        "for key,value in eng_tokenizer.word_index.items():\n",
        "  reverse_eng_word_index[value] = key"
      ],
      "execution_count": null,
      "outputs": []
    },
    {
      "cell_type": "markdown",
      "metadata": {
        "id": "HkiWovgUV35O"
      },
      "source": [
        "# Encoder"
      ]
    },
    {
      "cell_type": "code",
      "metadata": {
        "id": "zVeh_nFLV6KV"
      },
      "source": [
        "tf.keras.backend.clear_session()\n",
        "#encoder\n",
        "enc_input = Input(shape=(input_length,))\n",
        "enc_embedding = Embedding(input_dim = inp_vocab_size,\n",
        "                      output_dim = embedding_dim,\n",
        "                      mask_zero=True,\n",
        "                      input_length=input_length)(enc_input)\n",
        "enc_op,enc_h,enc_c = LSTM(units = lstm_units,\n",
        "            return_state = True,\n",
        "            )(enc_embedding) #return_sequences = True\n",
        "enc_states = [enc_h,enc_c]\n",
        "#decoder\n",
        "dec_input = Input(shape=(output_length-1,))\n",
        "dec_embedding = Embedding(input_dim = op_vocab_size,\n",
        "                      output_dim = embedding_dim,\n",
        "                      mask_zero=True,\n",
        "                      input_length=output_length)(dec_input)\n",
        "dec_op,_,_ = LSTM(units = lstm_units,\n",
        "            return_state = True,\n",
        "            return_sequences = True\n",
        "            )(dec_embedding,initial_state = enc_states)  #https://stackoverflow.com/a/58152537\n",
        "dec_dense = Dense(units = op_vocab_size,\n",
        "                  activation = 'softmax',\n",
        "                  )\n",
        "dense_op = dec_dense(dec_op) \n",
        "\n",
        "model = Model([enc_input,dec_input],dense_op)\n"
      ],
      "execution_count": null,
      "outputs": []
    },
    {
      "cell_type": "code",
      "metadata": {
        "id": "re4nqCIIoT17",
        "outputId": "707d42e8-a225-4e42-84ff-b8dc8c2396de",
        "colab": {
          "base_uri": "https://localhost:8080/",
          "height": 458
        }
      },
      "source": [
        "model.compile(loss='sparse_categorical_crossentropy',metrics=['accuracy'],optimizer='adam')\n",
        "model.summary()"
      ],
      "execution_count": null,
      "outputs": [
        {
          "output_type": "stream",
          "text": [
            "Model: \"functional_1\"\n",
            "__________________________________________________________________________________________________\n",
            "Layer (type)                    Output Shape         Param #     Connected to                     \n",
            "==================================================================================================\n",
            "input_1 (InputLayer)            [(None, 51)]         0                                            \n",
            "__________________________________________________________________________________________________\n",
            "input_2 (InputLayer)            [(None, 47)]         0                                            \n",
            "__________________________________________________________________________________________________\n",
            "embedding (Embedding)           (None, 51, 256)      5574656     input_1[0][0]                    \n",
            "__________________________________________________________________________________________________\n",
            "embedding_1 (Embedding)         (None, 47, 256)      2918144     input_2[0][0]                    \n",
            "__________________________________________________________________________________________________\n",
            "lstm (LSTM)                     [(None, 256), (None, 525312      embedding[0][0]                  \n",
            "__________________________________________________________________________________________________\n",
            "lstm_1 (LSTM)                   [(None, 47, 256), (N 525312      embedding_1[0][0]                \n",
            "                                                                 lstm[0][1]                       \n",
            "                                                                 lstm[0][2]                       \n",
            "__________________________________________________________________________________________________\n",
            "dense (Dense)                   (None, 47, 11399)    2929543     lstm_1[0][0]                     \n",
            "==================================================================================================\n",
            "Total params: 12,472,967\n",
            "Trainable params: 12,472,967\n",
            "Non-trainable params: 0\n",
            "__________________________________________________________________________________________________\n"
          ],
          "name": "stdout"
        }
      ]
    },
    {
      "cell_type": "code",
      "metadata": {
        "id": "Qghmr4qdhhym"
      },
      "source": [
        "ckp = tf.keras.callbacks.ModelCheckpoint(filepath+'model_normal.hdf5',monitor='val_loss',save_best_only=True)"
      ],
      "execution_count": null,
      "outputs": []
    },
    {
      "cell_type": "code",
      "metadata": {
        "id": "f8qG6EzlodWe",
        "outputId": "e1e10f30-d7de-43e2-cd30-2a74a43b79ed",
        "colab": {
          "base_uri": "https://localhost:8080/",
          "height": 496
        }
      },
      "source": [
        "model.fit(x=[train_italian,train_english_ip],\n",
        "          y=train_english_op,\n",
        "          epochs=10,\n",
        "          verbose=1,\n",
        "          validation_data=([val_italian,val_english_ip],val_english_op),\n",
        "          batch_size=batch_size,\n",
        "          callbacks=[ckp])"
      ],
      "execution_count": null,
      "outputs": [
        {
          "output_type": "stream",
          "text": [
            "Epoch 1/10\n",
            "WARNING:tensorflow:Model was constructed with shape (None, 47) for input Tensor(\"input_2:0\", shape=(None, 47), dtype=float32), but it was called on an input with incompatible shape (60, 48).\n",
            "WARNING:tensorflow:Model was constructed with shape (None, 47) for input Tensor(\"input_2:0\", shape=(None, 47), dtype=float32), but it was called on an input with incompatible shape (60, 48).\n",
            "4000/4000 [==============================] - ETA: 0s - loss: 0.4456 - accuracy: 0.4641WARNING:tensorflow:Model was constructed with shape (None, 47) for input Tensor(\"input_2:0\", shape=(None, 47), dtype=float32), but it was called on an input with incompatible shape (60, 48).\n",
            "WARNING:tensorflow:Callbacks method `on_test_batch_end` is slow compared to the batch time (batch time: 0.0049s vs `on_test_batch_end` time: 0.0398s). Check your callbacks.\n",
            "4000/4000 [==============================] - 769s 192ms/step - loss: 0.4456 - accuracy: 0.4641 - val_loss: 0.2765 - val_accuracy: 0.6342\n",
            "Epoch 2/10\n",
            "4000/4000 [==============================] - 768s 192ms/step - loss: 0.1965 - accuracy: 0.7254 - val_loss: 0.1508 - val_accuracy: 0.7837\n",
            "Epoch 3/10\n",
            "4000/4000 [==============================] - 770s 192ms/step - loss: 0.1071 - accuracy: 0.8376 - val_loss: 0.1047 - val_accuracy: 0.8450\n",
            "Epoch 4/10\n",
            "4000/4000 [==============================] - 756s 189ms/step - loss: 0.0685 - accuracy: 0.8907 - val_loss: 0.0843 - val_accuracy: 0.8747\n",
            "Epoch 5/10\n",
            "4000/4000 [==============================] - 745s 186ms/step - loss: 0.0483 - accuracy: 0.9202 - val_loss: 0.0739 - val_accuracy: 0.8908\n",
            "Epoch 6/10\n",
            "4000/4000 [==============================] - 745s 186ms/step - loss: 0.0362 - accuracy: 0.9389 - val_loss: 0.0671 - val_accuracy: 0.9032\n",
            "Epoch 7/10\n",
            "4000/4000 [==============================] - 744s 186ms/step - loss: 0.0283 - accuracy: 0.9514 - val_loss: 0.0637 - val_accuracy: 0.9104\n",
            "Epoch 8/10\n",
            "4000/4000 [==============================] - 745s 186ms/step - loss: 0.0230 - accuracy: 0.9601 - val_loss: 0.0615 - val_accuracy: 0.9160\n",
            "Epoch 9/10\n",
            "4000/4000 [==============================] - 745s 186ms/step - loss: 0.0192 - accuracy: 0.9663 - val_loss: 0.0610 - val_accuracy: 0.9178\n",
            "Epoch 10/10\n",
            "4000/4000 [==============================] - 744s 186ms/step - loss: 0.0166 - accuracy: 0.9708 - val_loss: 0.0601 - val_accuracy: 0.9211\n"
          ],
          "name": "stdout"
        },
        {
          "output_type": "execute_result",
          "data": {
            "text/plain": [
              "<tensorflow.python.keras.callbacks.History at 0x7f9faf02c6a0>"
            ]
          },
          "metadata": {
            "tags": []
          },
          "execution_count": 20
        }
      ]
    },
    {
      "cell_type": "code",
      "metadata": {
        "id": "a81ovMtVr8aj",
        "outputId": "a4d6faac-6b54-4dd3-d722-7e4bfb32bf6f",
        "colab": {
          "base_uri": "https://localhost:8080/",
          "height": 458
        }
      },
      "source": [
        "model = tf.keras.models.load_model(filepath+'model_normal.hdf5')\n",
        "model.summary()"
      ],
      "execution_count": null,
      "outputs": [
        {
          "output_type": "stream",
          "text": [
            "Model: \"functional_1\"\n",
            "__________________________________________________________________________________________________\n",
            "Layer (type)                    Output Shape         Param #     Connected to                     \n",
            "==================================================================================================\n",
            "input_1 (InputLayer)            [(None, 51)]         0                                            \n",
            "__________________________________________________________________________________________________\n",
            "input_2 (InputLayer)            [(None, 47)]         0                                            \n",
            "__________________________________________________________________________________________________\n",
            "embedding (Embedding)           (None, 51, 256)      5574656     input_1[0][0]                    \n",
            "__________________________________________________________________________________________________\n",
            "embedding_1 (Embedding)         (None, 47, 256)      2918144     input_2[0][0]                    \n",
            "__________________________________________________________________________________________________\n",
            "lstm (LSTM)                     [(None, 256), (None, 525312      embedding[0][0]                  \n",
            "__________________________________________________________________________________________________\n",
            "lstm_1 (LSTM)                   [(None, 47, 256), (N 525312      embedding_1[0][0]                \n",
            "                                                                 lstm[0][1]                       \n",
            "                                                                 lstm[0][2]                       \n",
            "__________________________________________________________________________________________________\n",
            "dense (Dense)                   (None, 47, 11399)    2929543     lstm_1[0][0]                     \n",
            "==================================================================================================\n",
            "Total params: 12,472,967\n",
            "Trainable params: 12,472,967\n",
            "Non-trainable params: 0\n",
            "__________________________________________________________________________________________________\n"
          ],
          "name": "stdout"
        }
      ]
    },
    {
      "cell_type": "code",
      "metadata": {
        "id": "SxaNYl3U0LzL",
        "outputId": "54a524a6-d7ee-44c3-8196-ab672361d8c1",
        "colab": {
          "base_uri": "https://localhost:8080/",
          "height": 533
        }
      },
      "source": [
        "from tensorflow.keras.utils import plot_model\n",
        "plot_model(model,show_shapes=True)"
      ],
      "execution_count": null,
      "outputs": [
        {
          "output_type": "execute_result",
          "data": {
            "image/png": "[encoded data removed]",
            "text/plain": [
              "<IPython.core.display.Image object>"
            ]
          },
          "metadata": {
            "tags": []
          },
          "execution_count": 22
        }
      ]
    },
    {
      "cell_type": "markdown",
      "metadata": {
        "id": "1DzTenrTme0k"
      },
      "source": [
        "# Predict"
      ]
    },
    {
      "cell_type": "code",
      "metadata": {
        "id": "ZqhjSukWqGVO"
      },
      "source": [
        "def predict_model(input_sentence):\n",
        "#https://stackoverflow.com/a/43749036\n",
        "  input_sentence = input_sentence.replace('<start>','') #we need to remove all special characters so we will remove <start> and <end> and add it later if there is one\n",
        "  input_sentence = input_sentence.replace('<end>','') #encoder inp shld contain <start> and <end> as model was trained like that\n",
        "  input_sentence = preprocess_italian(input_sentence)#removes all special characters and adding <start> and <end> to the  input_sentence\n",
        "  input_sentence = np.array([input_sentence])#tokenizer works on array type otherwise there will be error\n",
        "  tokenizer_ip = ita_tokenizer.texts_to_sequences(input_sentence) #tokenizer\n",
        "  tokenizer_ip = pad_sequences(tokenizer_ip,maxlen=italian_pad,padding='post') #padding\n",
        "  encoder_embedding_op = model.layers[2](tokenizer_ip)\n",
        "  encoder_op,encoder_h,encoder_c = model.layers[4](encoder_embedding_op)  #getting the op from encoder embedding\n",
        "  states = [encoder_h,encoder_c]\n",
        "  dec_input = np.array(eng_tokenizer.word_index['<start>']).reshape((1,1)) #index of <start>, shape = 1 row 1 column, input for decoder\n",
        "  dec_op = np.array([])\n",
        "  for i in range(output_length): #maximum length of output sequence\n",
        "    decoder_embedding_op = model.layers[3](dec_input)\n",
        "    decoder_op,decoder_h,decoder_c = model.layers[5](decoder_embedding_op,initial_state = states)\n",
        "    states = [decoder_h,decoder_c]\n",
        "    dense_op = model.layers[-1](decoder_op)\n",
        "    op_value =np.argmax(dense_op) #finding the index with highest probability\n",
        "    if op_value == eng_tokenizer.word_index['<end>']:\n",
        "      break;\n",
        "    dec_op = np.append(dec_op,reverse_eng_word_index[op_value]) #appending the word to a output list\n",
        "    dec_input = np.array(op_value).reshape((1,1)) #the next input\n",
        "  \n",
        "  sentence = \" \".join(j for j in dec_op) #combining the words stored in the list as a sentence\n",
        "  return sentence"
      ],
      "execution_count": null,
      "outputs": []
    },
    {
      "cell_type": "code",
      "metadata": {
        "id": "JHcylHhKqWjP",
        "outputId": "a15ae9e2-d0cf-48ce-cfb4-11fd1618be09",
        "colab": {
          "base_uri": "https://localhost:8080/",
          "height": 36
        }
      },
      "source": [
        "i=1\n",
        "predict_model('tu pensi che tom sia ancora in australia')"
      ],
      "execution_count": null,
      "outputs": [
        {
          "output_type": "execute_result",
          "data": {
            "application/vnd.google.colaboratory.intrinsic+json": {
              "type": "string"
            },
            "text/plain": [
              "'do you think that tom is still in australia'"
            ]
          },
          "metadata": {
            "tags": []
          },
          "execution_count": 24
        }
      ]
    },
    {
      "cell_type": "code",
      "metadata": {
        "id": "MXfCV8Airx97",
        "outputId": "2c588549-d871-4296-e3f7-20000fd3bcf6",
        "colab": {
          "base_uri": "https://localhost:8080/",
          "height": 36
        }
      },
      "source": [
        "val.italian.values[i] #italian sentence given as input"
      ],
      "execution_count": null,
      "outputs": [
        {
          "output_type": "execute_result",
          "data": {
            "application/vnd.google.colaboratory.intrinsic+json": {
              "type": "string"
            },
            "text/plain": [
              "'<start> tu pensi che tom sia ancora in australia <end>'"
            ]
          },
          "metadata": {
            "tags": []
          },
          "execution_count": 25
        }
      ]
    },
    {
      "cell_type": "code",
      "metadata": {
        "id": "1u7UvyzqBxpK",
        "outputId": "0451eff2-78e5-47b6-8495-7b70c810c9d8",
        "colab": {
          "base_uri": "https://localhost:8080/",
          "height": 36
        }
      },
      "source": [
        "val.english.values[i] #true english translation"
      ],
      "execution_count": null,
      "outputs": [
        {
          "output_type": "execute_result",
          "data": {
            "application/vnd.google.colaboratory.intrinsic+json": {
              "type": "string"
            },
            "text/plain": [
              "'<start> do you think tom is still in australia <end>'"
            ]
          },
          "metadata": {
            "tags": []
          },
          "execution_count": 26
        }
      ]
    },
    {
      "cell_type": "markdown",
      "metadata": {
        "id": "z2E88TsUmixp"
      },
      "source": [
        "# Bleu Score"
      ]
    },
    {
      "cell_type": "code",
      "metadata": {
        "id": "UJ1gFeWEF8mV",
        "outputId": "1971ad11-f206-4f91-e131-dcbac8f7b788",
        "colab": {
          "base_uri": "https://localhost:8080/",
          "height": 54
        }
      },
      "source": [
        "k = np.random.choice(range(val.shape[0]),1000)\n",
        "bleu_score = []\n",
        "predicted_sentence = []\n",
        "for i in k:\n",
        "  predict = predict_model(val.italian.values[i])\n",
        "  predicted_sentence.append(predict)\n",
        "  reference = val.english.values[i].replace('<start>','') #replace start and end from the text\n",
        "  reference = reference.replace('<end>','').strip()\n",
        "  _ = bleu.sentence_bleu(reference,predict)\n",
        "  bleu_score.append(_)\n",
        "\n",
        "bleu_score=np.array(bleu_score)\n",
        "print(\"The average bleu score obtained is:\\n%.3f\"%(bleu_score.mean()))"
      ],
      "execution_count": null,
      "outputs": [
        {
          "output_type": "stream",
          "text": [
            "The average bleu score obtained is:\n",
            "0.845\n"
          ],
          "name": "stdout"
        }
      ]
    }
  ]
}