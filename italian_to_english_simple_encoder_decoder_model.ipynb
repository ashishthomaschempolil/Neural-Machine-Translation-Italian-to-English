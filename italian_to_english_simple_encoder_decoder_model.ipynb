{
  "nbformat": 4,
  "nbformat_minor": 0,
  "metadata": {
    "colab": {
      "name": "italian_to_english_simple_encoder_decoder_model.ipynb",
      "provenance": [],
      "include_colab_link": true
    },
    "kernelspec": {
      "name": "python3",
      "display_name": "Python 3"
    },
    "accelerator": "GPU",
    "widgets": {
      "application/vnd.jupyter.widget-state+json": {
        "9d395a86c2bd4541ba42cf5f73198b7d": {
          "model_module": "@jupyter-widgets/controls",
          "model_name": "VBoxModel",
          "state": {
            "_view_name": "VBoxView",
            "_dom_classes": [],
            "_model_name": "VBoxModel",
            "_view_module": "@jupyter-widgets/controls",
            "_model_module_version": "1.5.0",
            "_view_count": null,
            "_view_module_version": "1.5.0",
            "box_style": "",
            "layout": "IPY_MODEL_da4016034e2e4018a772ac6af9418f07",
            "_model_module": "@jupyter-widgets/controls",
            "children": [
              "IPY_MODEL_ef7b9a938ace4d7f8b6f8e86ab896663",
              "IPY_MODEL_26c80f9b9c654024b62e958a6e823259"
            ]
          }
        },
        "da4016034e2e4018a772ac6af9418f07": {
          "model_module": "@jupyter-widgets/base",
          "model_name": "LayoutModel",
          "state": {
            "_view_name": "LayoutView",
            "grid_template_rows": null,
            "right": null,
            "justify_content": null,
            "_view_module": "@jupyter-widgets/base",
            "overflow": null,
            "_model_module_version": "1.2.0",
            "_view_count": null,
            "flex_flow": null,
            "width": null,
            "min_width": null,
            "border": null,
            "align_items": null,
            "bottom": null,
            "_model_module": "@jupyter-widgets/base",
            "top": null,
            "grid_column": null,
            "overflow_y": null,
            "overflow_x": null,
            "grid_auto_flow": null,
            "grid_area": null,
            "grid_template_columns": null,
            "flex": null,
            "_model_name": "LayoutModel",
            "justify_items": null,
            "grid_row": null,
            "max_height": null,
            "align_content": null,
            "visibility": null,
            "align_self": null,
            "height": null,
            "min_height": null,
            "padding": null,
            "grid_auto_rows": null,
            "grid_gap": null,
            "max_width": null,
            "order": null,
            "_view_module_version": "1.2.0",
            "grid_template_areas": null,
            "object_position": null,
            "object_fit": null,
            "grid_auto_columns": null,
            "margin": null,
            "display": null,
            "left": null
          }
        },
        "ef7b9a938ace4d7f8b6f8e86ab896663": {
          "model_module": "@jupyter-widgets/controls",
          "model_name": "LabelModel",
          "state": {
            "_view_name": "LabelView",
            "style": "IPY_MODEL_9a5fafe6b72f42848bc857ad02ff0b37",
            "_dom_classes": [],
            "description": "",
            "_model_name": "LabelModel",
            "placeholder": "​",
            "_view_module": "@jupyter-widgets/controls",
            "_model_module_version": "1.5.0",
            "value": " 21.56MB of 21.56MB uploaded (0.00MB deduped)\r",
            "_view_count": null,
            "_view_module_version": "1.5.0",
            "description_tooltip": null,
            "_model_module": "@jupyter-widgets/controls",
            "layout": "IPY_MODEL_1b82807416a140849baa418beb7afe3e"
          }
        },
        "26c80f9b9c654024b62e958a6e823259": {
          "model_module": "@jupyter-widgets/controls",
          "model_name": "FloatProgressModel",
          "state": {
            "_view_name": "ProgressView",
            "style": "IPY_MODEL_82af5deef0bd4bd49f55efa070730067",
            "_dom_classes": [],
            "description": "",
            "_model_name": "FloatProgressModel",
            "bar_style": "",
            "max": 1,
            "_view_module": "@jupyter-widgets/controls",
            "_model_module_version": "1.5.0",
            "value": 1,
            "_view_count": null,
            "_view_module_version": "1.5.0",
            "orientation": "horizontal",
            "min": 0,
            "description_tooltip": null,
            "_model_module": "@jupyter-widgets/controls",
            "layout": "IPY_MODEL_9a7eaf2ddbed461ea8818cc95b523924"
          }
        },
        "9a5fafe6b72f42848bc857ad02ff0b37": {
          "model_module": "@jupyter-widgets/controls",
          "model_name": "DescriptionStyleModel",
          "state": {
            "_view_name": "StyleView",
            "_model_name": "DescriptionStyleModel",
            "description_width": "",
            "_view_module": "@jupyter-widgets/base",
            "_model_module_version": "1.5.0",
            "_view_count": null,
            "_view_module_version": "1.2.0",
            "_model_module": "@jupyter-widgets/controls"
          }
        },
        "1b82807416a140849baa418beb7afe3e": {
          "model_module": "@jupyter-widgets/base",
          "model_name": "LayoutModel",
          "state": {
            "_view_name": "LayoutView",
            "grid_template_rows": null,
            "right": null,
            "justify_content": null,
            "_view_module": "@jupyter-widgets/base",
            "overflow": null,
            "_model_module_version": "1.2.0",
            "_view_count": null,
            "flex_flow": null,
            "width": null,
            "min_width": null,
            "border": null,
            "align_items": null,
            "bottom": null,
            "_model_module": "@jupyter-widgets/base",
            "top": null,
            "grid_column": null,
            "overflow_y": null,
            "overflow_x": null,
            "grid_auto_flow": null,
            "grid_area": null,
            "grid_template_columns": null,
            "flex": null,
            "_model_name": "LayoutModel",
            "justify_items": null,
            "grid_row": null,
            "max_height": null,
            "align_content": null,
            "visibility": null,
            "align_self": null,
            "height": null,
            "min_height": null,
            "padding": null,
            "grid_auto_rows": null,
            "grid_gap": null,
            "max_width": null,
            "order": null,
            "_view_module_version": "1.2.0",
            "grid_template_areas": null,
            "object_position": null,
            "object_fit": null,
            "grid_auto_columns": null,
            "margin": null,
            "display": null,
            "left": null
          }
        },
        "82af5deef0bd4bd49f55efa070730067": {
          "model_module": "@jupyter-widgets/controls",
          "model_name": "ProgressStyleModel",
          "state": {
            "_view_name": "StyleView",
            "_model_name": "ProgressStyleModel",
            "description_width": "",
            "_view_module": "@jupyter-widgets/base",
            "_model_module_version": "1.5.0",
            "_view_count": null,
            "_view_module_version": "1.2.0",
            "bar_color": null,
            "_model_module": "@jupyter-widgets/controls"
          }
        },
        "9a7eaf2ddbed461ea8818cc95b523924": {
          "model_module": "@jupyter-widgets/base",
          "model_name": "LayoutModel",
          "state": {
            "_view_name": "LayoutView",
            "grid_template_rows": null,
            "right": null,
            "justify_content": null,
            "_view_module": "@jupyter-widgets/base",
            "overflow": null,
            "_model_module_version": "1.2.0",
            "_view_count": null,
            "flex_flow": null,
            "width": null,
            "min_width": null,
            "border": null,
            "align_items": null,
            "bottom": null,
            "_model_module": "@jupyter-widgets/base",
            "top": null,
            "grid_column": null,
            "overflow_y": null,
            "overflow_x": null,
            "grid_auto_flow": null,
            "grid_area": null,
            "grid_template_columns": null,
            "flex": null,
            "_model_name": "LayoutModel",
            "justify_items": null,
            "grid_row": null,
            "max_height": null,
            "align_content": null,
            "visibility": null,
            "align_self": null,
            "height": null,
            "min_height": null,
            "padding": null,
            "grid_auto_rows": null,
            "grid_gap": null,
            "max_width": null,
            "order": null,
            "_view_module_version": "1.2.0",
            "grid_template_areas": null,
            "object_position": null,
            "object_fit": null,
            "grid_auto_columns": null,
            "margin": null,
            "display": null,
            "left": null
          }
        },
        "d187522c15cd49b2af4d838241e733ef": {
          "model_module": "@jupyter-widgets/controls",
          "model_name": "VBoxModel",
          "state": {
            "_view_name": "VBoxView",
            "_dom_classes": [],
            "_model_name": "VBoxModel",
            "_view_module": "@jupyter-widgets/controls",
            "_model_module_version": "1.5.0",
            "_view_count": null,
            "_view_module_version": "1.5.0",
            "box_style": "",
            "layout": "IPY_MODEL_191e8dfee67a477291b16b76f4aebc60",
            "_model_module": "@jupyter-widgets/controls",
            "children": [
              "IPY_MODEL_c81979b23a8a4ba6bea132d5d4aed87e",
              "IPY_MODEL_abd73f8aaff14309abdcfc67ea265bab"
            ]
          }
        },
        "191e8dfee67a477291b16b76f4aebc60": {
          "model_module": "@jupyter-widgets/base",
          "model_name": "LayoutModel",
          "state": {
            "_view_name": "LayoutView",
            "grid_template_rows": null,
            "right": null,
            "justify_content": null,
            "_view_module": "@jupyter-widgets/base",
            "overflow": null,
            "_model_module_version": "1.2.0",
            "_view_count": null,
            "flex_flow": null,
            "width": null,
            "min_width": null,
            "border": null,
            "align_items": null,
            "bottom": null,
            "_model_module": "@jupyter-widgets/base",
            "top": null,
            "grid_column": null,
            "overflow_y": null,
            "overflow_x": null,
            "grid_auto_flow": null,
            "grid_area": null,
            "grid_template_columns": null,
            "flex": null,
            "_model_name": "LayoutModel",
            "justify_items": null,
            "grid_row": null,
            "max_height": null,
            "align_content": null,
            "visibility": null,
            "align_self": null,
            "height": null,
            "min_height": null,
            "padding": null,
            "grid_auto_rows": null,
            "grid_gap": null,
            "max_width": null,
            "order": null,
            "_view_module_version": "1.2.0",
            "grid_template_areas": null,
            "object_position": null,
            "object_fit": null,
            "grid_auto_columns": null,
            "margin": null,
            "display": null,
            "left": null
          }
        },
        "c81979b23a8a4ba6bea132d5d4aed87e": {
          "model_module": "@jupyter-widgets/controls",
          "model_name": "LabelModel",
          "state": {
            "_view_name": "LabelView",
            "style": "IPY_MODEL_a2624f747416495789c63ec6fb1c9810",
            "_dom_classes": [],
            "description": "",
            "_model_name": "LabelModel",
            "placeholder": "​",
            "_view_module": "@jupyter-widgets/controls",
            "_model_module_version": "1.5.0",
            "value": " 0.17MB of 0.17MB uploaded (0.00MB deduped)\r",
            "_view_count": null,
            "_view_module_version": "1.5.0",
            "description_tooltip": null,
            "_model_module": "@jupyter-widgets/controls",
            "layout": "IPY_MODEL_6bd20a0d3d1844c783434ceaab27a403"
          }
        },
        "abd73f8aaff14309abdcfc67ea265bab": {
          "model_module": "@jupyter-widgets/controls",
          "model_name": "FloatProgressModel",
          "state": {
            "_view_name": "ProgressView",
            "style": "IPY_MODEL_38dc6bcf0de549138ead52218f4ff797",
            "_dom_classes": [],
            "description": "",
            "_model_name": "FloatProgressModel",
            "bar_style": "",
            "max": 1,
            "_view_module": "@jupyter-widgets/controls",
            "_model_module_version": "1.5.0",
            "value": 1,
            "_view_count": null,
            "_view_module_version": "1.5.0",
            "orientation": "horizontal",
            "min": 0,
            "description_tooltip": null,
            "_model_module": "@jupyter-widgets/controls",
            "layout": "IPY_MODEL_46cf004ef3a94c05b481793178f96f09"
          }
        },
        "a2624f747416495789c63ec6fb1c9810": {
          "model_module": "@jupyter-widgets/controls",
          "model_name": "DescriptionStyleModel",
          "state": {
            "_view_name": "StyleView",
            "_model_name": "DescriptionStyleModel",
            "description_width": "",
            "_view_module": "@jupyter-widgets/base",
            "_model_module_version": "1.5.0",
            "_view_count": null,
            "_view_module_version": "1.2.0",
            "_model_module": "@jupyter-widgets/controls"
          }
        },
        "6bd20a0d3d1844c783434ceaab27a403": {
          "model_module": "@jupyter-widgets/base",
          "model_name": "LayoutModel",
          "state": {
            "_view_name": "LayoutView",
            "grid_template_rows": null,
            "right": null,
            "justify_content": null,
            "_view_module": "@jupyter-widgets/base",
            "overflow": null,
            "_model_module_version": "1.2.0",
            "_view_count": null,
            "flex_flow": null,
            "width": null,
            "min_width": null,
            "border": null,
            "align_items": null,
            "bottom": null,
            "_model_module": "@jupyter-widgets/base",
            "top": null,
            "grid_column": null,
            "overflow_y": null,
            "overflow_x": null,
            "grid_auto_flow": null,
            "grid_area": null,
            "grid_template_columns": null,
            "flex": null,
            "_model_name": "LayoutModel",
            "justify_items": null,
            "grid_row": null,
            "max_height": null,
            "align_content": null,
            "visibility": null,
            "align_self": null,
            "height": null,
            "min_height": null,
            "padding": null,
            "grid_auto_rows": null,
            "grid_gap": null,
            "max_width": null,
            "order": null,
            "_view_module_version": "1.2.0",
            "grid_template_areas": null,
            "object_position": null,
            "object_fit": null,
            "grid_auto_columns": null,
            "margin": null,
            "display": null,
            "left": null
          }
        },
        "38dc6bcf0de549138ead52218f4ff797": {
          "model_module": "@jupyter-widgets/controls",
          "model_name": "ProgressStyleModel",
          "state": {
            "_view_name": "StyleView",
            "_model_name": "ProgressStyleModel",
            "description_width": "",
            "_view_module": "@jupyter-widgets/base",
            "_model_module_version": "1.5.0",
            "_view_count": null,
            "_view_module_version": "1.2.0",
            "bar_color": null,
            "_model_module": "@jupyter-widgets/controls"
          }
        },
        "46cf004ef3a94c05b481793178f96f09": {
          "model_module": "@jupyter-widgets/base",
          "model_name": "LayoutModel",
          "state": {
            "_view_name": "LayoutView",
            "grid_template_rows": null,
            "right": null,
            "justify_content": null,
            "_view_module": "@jupyter-widgets/base",
            "overflow": null,
            "_model_module_version": "1.2.0",
            "_view_count": null,
            "flex_flow": null,
            "width": null,
            "min_width": null,
            "border": null,
            "align_items": null,
            "bottom": null,
            "_model_module": "@jupyter-widgets/base",
            "top": null,
            "grid_column": null,
            "overflow_y": null,
            "overflow_x": null,
            "grid_auto_flow": null,
            "grid_area": null,
            "grid_template_columns": null,
            "flex": null,
            "_model_name": "LayoutModel",
            "justify_items": null,
            "grid_row": null,
            "max_height": null,
            "align_content": null,
            "visibility": null,
            "align_self": null,
            "height": null,
            "min_height": null,
            "padding": null,
            "grid_auto_rows": null,
            "grid_gap": null,
            "max_width": null,
            "order": null,
            "_view_module_version": "1.2.0",
            "grid_template_areas": null,
            "object_position": null,
            "object_fit": null,
            "grid_auto_columns": null,
            "margin": null,
            "display": null,
            "left": null
          }
        },
        "fd943b3a467c439a86cf79a9172c3b94": {
          "model_module": "@jupyter-widgets/controls",
          "model_name": "VBoxModel",
          "state": {
            "_view_name": "VBoxView",
            "_dom_classes": [],
            "_model_name": "VBoxModel",
            "_view_module": "@jupyter-widgets/controls",
            "_model_module_version": "1.5.0",
            "_view_count": null,
            "_view_module_version": "1.5.0",
            "box_style": "",
            "layout": "IPY_MODEL_8e23a93a9987408696a7e6425badc681",
            "_model_module": "@jupyter-widgets/controls",
            "children": [
              "IPY_MODEL_1051c92933d64f78a48d0115d81ca84a",
              "IPY_MODEL_2a0d0a649b324dd8be88a6f2549ca25b"
            ]
          }
        },
        "8e23a93a9987408696a7e6425badc681": {
          "model_module": "@jupyter-widgets/base",
          "model_name": "LayoutModel",
          "state": {
            "_view_name": "LayoutView",
            "grid_template_rows": null,
            "right": null,
            "justify_content": null,
            "_view_module": "@jupyter-widgets/base",
            "overflow": null,
            "_model_module_version": "1.2.0",
            "_view_count": null,
            "flex_flow": null,
            "width": null,
            "min_width": null,
            "border": null,
            "align_items": null,
            "bottom": null,
            "_model_module": "@jupyter-widgets/base",
            "top": null,
            "grid_column": null,
            "overflow_y": null,
            "overflow_x": null,
            "grid_auto_flow": null,
            "grid_area": null,
            "grid_template_columns": null,
            "flex": null,
            "_model_name": "LayoutModel",
            "justify_items": null,
            "grid_row": null,
            "max_height": null,
            "align_content": null,
            "visibility": null,
            "align_self": null,
            "height": null,
            "min_height": null,
            "padding": null,
            "grid_auto_rows": null,
            "grid_gap": null,
            "max_width": null,
            "order": null,
            "_view_module_version": "1.2.0",
            "grid_template_areas": null,
            "object_position": null,
            "object_fit": null,
            "grid_auto_columns": null,
            "margin": null,
            "display": null,
            "left": null
          }
        },
        "1051c92933d64f78a48d0115d81ca84a": {
          "model_module": "@jupyter-widgets/controls",
          "model_name": "LabelModel",
          "state": {
            "_view_name": "LabelView",
            "style": "IPY_MODEL_ede8bad8be2e4fd09b15f7d4b178c0b7",
            "_dom_classes": [],
            "description": "",
            "_model_name": "LabelModel",
            "placeholder": "​",
            "_view_module": "@jupyter-widgets/controls",
            "_model_module_version": "1.5.0",
            "value": " 36.84MB of 36.84MB uploaded (0.00MB deduped)\r",
            "_view_count": null,
            "_view_module_version": "1.5.0",
            "description_tooltip": null,
            "_model_module": "@jupyter-widgets/controls",
            "layout": "IPY_MODEL_fb6f52d12b07480db34d0649910b9322"
          }
        },
        "2a0d0a649b324dd8be88a6f2549ca25b": {
          "model_module": "@jupyter-widgets/controls",
          "model_name": "FloatProgressModel",
          "state": {
            "_view_name": "ProgressView",
            "style": "IPY_MODEL_1404ac40667e480fb2adbdeecf149394",
            "_dom_classes": [],
            "description": "",
            "_model_name": "FloatProgressModel",
            "bar_style": "",
            "max": 1,
            "_view_module": "@jupyter-widgets/controls",
            "_model_module_version": "1.5.0",
            "value": 1,
            "_view_count": null,
            "_view_module_version": "1.5.0",
            "orientation": "horizontal",
            "min": 0,
            "description_tooltip": null,
            "_model_module": "@jupyter-widgets/controls",
            "layout": "IPY_MODEL_1ad14cc22fa3421e9ed80491b2b05a08"
          }
        },
        "ede8bad8be2e4fd09b15f7d4b178c0b7": {
          "model_module": "@jupyter-widgets/controls",
          "model_name": "DescriptionStyleModel",
          "state": {
            "_view_name": "StyleView",
            "_model_name": "DescriptionStyleModel",
            "description_width": "",
            "_view_module": "@jupyter-widgets/base",
            "_model_module_version": "1.5.0",
            "_view_count": null,
            "_view_module_version": "1.2.0",
            "_model_module": "@jupyter-widgets/controls"
          }
        },
        "fb6f52d12b07480db34d0649910b9322": {
          "model_module": "@jupyter-widgets/base",
          "model_name": "LayoutModel",
          "state": {
            "_view_name": "LayoutView",
            "grid_template_rows": null,
            "right": null,
            "justify_content": null,
            "_view_module": "@jupyter-widgets/base",
            "overflow": null,
            "_model_module_version": "1.2.0",
            "_view_count": null,
            "flex_flow": null,
            "width": null,
            "min_width": null,
            "border": null,
            "align_items": null,
            "bottom": null,
            "_model_module": "@jupyter-widgets/base",
            "top": null,
            "grid_column": null,
            "overflow_y": null,
            "overflow_x": null,
            "grid_auto_flow": null,
            "grid_area": null,
            "grid_template_columns": null,
            "flex": null,
            "_model_name": "LayoutModel",
            "justify_items": null,
            "grid_row": null,
            "max_height": null,
            "align_content": null,
            "visibility": null,
            "align_self": null,
            "height": null,
            "min_height": null,
            "padding": null,
            "grid_auto_rows": null,
            "grid_gap": null,
            "max_width": null,
            "order": null,
            "_view_module_version": "1.2.0",
            "grid_template_areas": null,
            "object_position": null,
            "object_fit": null,
            "grid_auto_columns": null,
            "margin": null,
            "display": null,
            "left": null
          }
        },
        "1404ac40667e480fb2adbdeecf149394": {
          "model_module": "@jupyter-widgets/controls",
          "model_name": "ProgressStyleModel",
          "state": {
            "_view_name": "StyleView",
            "_model_name": "ProgressStyleModel",
            "description_width": "",
            "_view_module": "@jupyter-widgets/base",
            "_model_module_version": "1.5.0",
            "_view_count": null,
            "_view_module_version": "1.2.0",
            "bar_color": null,
            "_model_module": "@jupyter-widgets/controls"
          }
        },
        "1ad14cc22fa3421e9ed80491b2b05a08": {
          "model_module": "@jupyter-widgets/base",
          "model_name": "LayoutModel",
          "state": {
            "_view_name": "LayoutView",
            "grid_template_rows": null,
            "right": null,
            "justify_content": null,
            "_view_module": "@jupyter-widgets/base",
            "overflow": null,
            "_model_module_version": "1.2.0",
            "_view_count": null,
            "flex_flow": null,
            "width": null,
            "min_width": null,
            "border": null,
            "align_items": null,
            "bottom": null,
            "_model_module": "@jupyter-widgets/base",
            "top": null,
            "grid_column": null,
            "overflow_y": null,
            "overflow_x": null,
            "grid_auto_flow": null,
            "grid_area": null,
            "grid_template_columns": null,
            "flex": null,
            "_model_name": "LayoutModel",
            "justify_items": null,
            "grid_row": null,
            "max_height": null,
            "align_content": null,
            "visibility": null,
            "align_self": null,
            "height": null,
            "min_height": null,
            "padding": null,
            "grid_auto_rows": null,
            "grid_gap": null,
            "max_width": null,
            "order": null,
            "_view_module_version": "1.2.0",
            "grid_template_areas": null,
            "object_position": null,
            "object_fit": null,
            "grid_auto_columns": null,
            "margin": null,
            "display": null,
            "left": null
          }
        },
        "07d234d86ba84b1193715873e7f74f55": {
          "model_module": "@jupyter-widgets/controls",
          "model_name": "VBoxModel",
          "state": {
            "_view_name": "VBoxView",
            "_dom_classes": [],
            "_model_name": "VBoxModel",
            "_view_module": "@jupyter-widgets/controls",
            "_model_module_version": "1.5.0",
            "_view_count": null,
            "_view_module_version": "1.5.0",
            "box_style": "",
            "layout": "IPY_MODEL_6b2207c7d0c34d548cb1c9059e6422b1",
            "_model_module": "@jupyter-widgets/controls",
            "children": [
              "IPY_MODEL_7dffa95ba984411790593287f9d3b919",
              "IPY_MODEL_3fedee6eaf02451b812306cd395e58d9"
            ]
          }
        },
        "6b2207c7d0c34d548cb1c9059e6422b1": {
          "model_module": "@jupyter-widgets/base",
          "model_name": "LayoutModel",
          "state": {
            "_view_name": "LayoutView",
            "grid_template_rows": null,
            "right": null,
            "justify_content": null,
            "_view_module": "@jupyter-widgets/base",
            "overflow": null,
            "_model_module_version": "1.2.0",
            "_view_count": null,
            "flex_flow": null,
            "width": null,
            "min_width": null,
            "border": null,
            "align_items": null,
            "bottom": null,
            "_model_module": "@jupyter-widgets/base",
            "top": null,
            "grid_column": null,
            "overflow_y": null,
            "overflow_x": null,
            "grid_auto_flow": null,
            "grid_area": null,
            "grid_template_columns": null,
            "flex": null,
            "_model_name": "LayoutModel",
            "justify_items": null,
            "grid_row": null,
            "max_height": null,
            "align_content": null,
            "visibility": null,
            "align_self": null,
            "height": null,
            "min_height": null,
            "padding": null,
            "grid_auto_rows": null,
            "grid_gap": null,
            "max_width": null,
            "order": null,
            "_view_module_version": "1.2.0",
            "grid_template_areas": null,
            "object_position": null,
            "object_fit": null,
            "grid_auto_columns": null,
            "margin": null,
            "display": null,
            "left": null
          }
        },
        "7dffa95ba984411790593287f9d3b919": {
          "model_module": "@jupyter-widgets/controls",
          "model_name": "LabelModel",
          "state": {
            "_view_name": "LabelView",
            "style": "IPY_MODEL_1437f509e0a24867b3d166d68ba2457b",
            "_dom_classes": [],
            "description": "",
            "_model_name": "LabelModel",
            "placeholder": "​",
            "_view_module": "@jupyter-widgets/controls",
            "_model_module_version": "1.5.0",
            "value": " 0.19MB of 0.19MB uploaded (0.00MB deduped)\r",
            "_view_count": null,
            "_view_module_version": "1.5.0",
            "description_tooltip": null,
            "_model_module": "@jupyter-widgets/controls",
            "layout": "IPY_MODEL_e1a0757201ea4baf9e9c3a9c5303c6f0"
          }
        },
        "3fedee6eaf02451b812306cd395e58d9": {
          "model_module": "@jupyter-widgets/controls",
          "model_name": "FloatProgressModel",
          "state": {
            "_view_name": "ProgressView",
            "style": "IPY_MODEL_c725125acebf483cbec366df0eb53d78",
            "_dom_classes": [],
            "description": "",
            "_model_name": "FloatProgressModel",
            "bar_style": "",
            "max": 1,
            "_view_module": "@jupyter-widgets/controls",
            "_model_module_version": "1.5.0",
            "value": 1,
            "_view_count": null,
            "_view_module_version": "1.5.0",
            "orientation": "horizontal",
            "min": 0,
            "description_tooltip": null,
            "_model_module": "@jupyter-widgets/controls",
            "layout": "IPY_MODEL_a25e2f2f2ed24cc88b60532fc8cfe101"
          }
        },
        "1437f509e0a24867b3d166d68ba2457b": {
          "model_module": "@jupyter-widgets/controls",
          "model_name": "DescriptionStyleModel",
          "state": {
            "_view_name": "StyleView",
            "_model_name": "DescriptionStyleModel",
            "description_width": "",
            "_view_module": "@jupyter-widgets/base",
            "_model_module_version": "1.5.0",
            "_view_count": null,
            "_view_module_version": "1.2.0",
            "_model_module": "@jupyter-widgets/controls"
          }
        },
        "e1a0757201ea4baf9e9c3a9c5303c6f0": {
          "model_module": "@jupyter-widgets/base",
          "model_name": "LayoutModel",
          "state": {
            "_view_name": "LayoutView",
            "grid_template_rows": null,
            "right": null,
            "justify_content": null,
            "_view_module": "@jupyter-widgets/base",
            "overflow": null,
            "_model_module_version": "1.2.0",
            "_view_count": null,
            "flex_flow": null,
            "width": null,
            "min_width": null,
            "border": null,
            "align_items": null,
            "bottom": null,
            "_model_module": "@jupyter-widgets/base",
            "top": null,
            "grid_column": null,
            "overflow_y": null,
            "overflow_x": null,
            "grid_auto_flow": null,
            "grid_area": null,
            "grid_template_columns": null,
            "flex": null,
            "_model_name": "LayoutModel",
            "justify_items": null,
            "grid_row": null,
            "max_height": null,
            "align_content": null,
            "visibility": null,
            "align_self": null,
            "height": null,
            "min_height": null,
            "padding": null,
            "grid_auto_rows": null,
            "grid_gap": null,
            "max_width": null,
            "order": null,
            "_view_module_version": "1.2.0",
            "grid_template_areas": null,
            "object_position": null,
            "object_fit": null,
            "grid_auto_columns": null,
            "margin": null,
            "display": null,
            "left": null
          }
        },
        "c725125acebf483cbec366df0eb53d78": {
          "model_module": "@jupyter-widgets/controls",
          "model_name": "ProgressStyleModel",
          "state": {
            "_view_name": "StyleView",
            "_model_name": "ProgressStyleModel",
            "description_width": "",
            "_view_module": "@jupyter-widgets/base",
            "_model_module_version": "1.5.0",
            "_view_count": null,
            "_view_module_version": "1.2.0",
            "bar_color": null,
            "_model_module": "@jupyter-widgets/controls"
          }
        },
        "a25e2f2f2ed24cc88b60532fc8cfe101": {
          "model_module": "@jupyter-widgets/base",
          "model_name": "LayoutModel",
          "state": {
            "_view_name": "LayoutView",
            "grid_template_rows": null,
            "right": null,
            "justify_content": null,
            "_view_module": "@jupyter-widgets/base",
            "overflow": null,
            "_model_module_version": "1.2.0",
            "_view_count": null,
            "flex_flow": null,
            "width": null,
            "min_width": null,
            "border": null,
            "align_items": null,
            "bottom": null,
            "_model_module": "@jupyter-widgets/base",
            "top": null,
            "grid_column": null,
            "overflow_y": null,
            "overflow_x": null,
            "grid_auto_flow": null,
            "grid_area": null,
            "grid_template_columns": null,
            "flex": null,
            "_model_name": "LayoutModel",
            "justify_items": null,
            "grid_row": null,
            "max_height": null,
            "align_content": null,
            "visibility": null,
            "align_self": null,
            "height": null,
            "min_height": null,
            "padding": null,
            "grid_auto_rows": null,
            "grid_gap": null,
            "max_width": null,
            "order": null,
            "_view_module_version": "1.2.0",
            "grid_template_areas": null,
            "object_position": null,
            "object_fit": null,
            "grid_auto_columns": null,
            "margin": null,
            "display": null,
            "left": null
          }
        },
        "2b89829cb7b4479f9e15c6b5756731b5": {
          "model_module": "@jupyter-widgets/controls",
          "model_name": "VBoxModel",
          "state": {
            "_view_name": "VBoxView",
            "_dom_classes": [],
            "_model_name": "VBoxModel",
            "_view_module": "@jupyter-widgets/controls",
            "_model_module_version": "1.5.0",
            "_view_count": null,
            "_view_module_version": "1.5.0",
            "box_style": "",
            "layout": "IPY_MODEL_09e24ad6421f411bb19dea55e3b3121c",
            "_model_module": "@jupyter-widgets/controls",
            "children": [
              "IPY_MODEL_3a9e33c11318417eae89d7fe62557392",
              "IPY_MODEL_44542365a572427f932f49298defc22d"
            ]
          }
        },
        "09e24ad6421f411bb19dea55e3b3121c": {
          "model_module": "@jupyter-widgets/base",
          "model_name": "LayoutModel",
          "state": {
            "_view_name": "LayoutView",
            "grid_template_rows": null,
            "right": null,
            "justify_content": null,
            "_view_module": "@jupyter-widgets/base",
            "overflow": null,
            "_model_module_version": "1.2.0",
            "_view_count": null,
            "flex_flow": null,
            "width": null,
            "min_width": null,
            "border": null,
            "align_items": null,
            "bottom": null,
            "_model_module": "@jupyter-widgets/base",
            "top": null,
            "grid_column": null,
            "overflow_y": null,
            "overflow_x": null,
            "grid_auto_flow": null,
            "grid_area": null,
            "grid_template_columns": null,
            "flex": null,
            "_model_name": "LayoutModel",
            "justify_items": null,
            "grid_row": null,
            "max_height": null,
            "align_content": null,
            "visibility": null,
            "align_self": null,
            "height": null,
            "min_height": null,
            "padding": null,
            "grid_auto_rows": null,
            "grid_gap": null,
            "max_width": null,
            "order": null,
            "_view_module_version": "1.2.0",
            "grid_template_areas": null,
            "object_position": null,
            "object_fit": null,
            "grid_auto_columns": null,
            "margin": null,
            "display": null,
            "left": null
          }
        },
        "3a9e33c11318417eae89d7fe62557392": {
          "model_module": "@jupyter-widgets/controls",
          "model_name": "LabelModel",
          "state": {
            "_view_name": "LabelView",
            "style": "IPY_MODEL_ba2ce37a217549aa8d7bf02b55c11b93",
            "_dom_classes": [],
            "description": "",
            "_model_name": "LabelModel",
            "placeholder": "​",
            "_view_module": "@jupyter-widgets/controls",
            "_model_module_version": "1.5.0",
            "value": " 0.27MB of 0.27MB uploaded (0.00MB deduped)\r",
            "_view_count": null,
            "_view_module_version": "1.5.0",
            "description_tooltip": null,
            "_model_module": "@jupyter-widgets/controls",
            "layout": "IPY_MODEL_96e146e3dabf417180ea820681dbf512"
          }
        },
        "44542365a572427f932f49298defc22d": {
          "model_module": "@jupyter-widgets/controls",
          "model_name": "FloatProgressModel",
          "state": {
            "_view_name": "ProgressView",
            "style": "IPY_MODEL_844d00a96ae24fcca58650ac7fab6614",
            "_dom_classes": [],
            "description": "",
            "_model_name": "FloatProgressModel",
            "bar_style": "",
            "max": 1,
            "_view_module": "@jupyter-widgets/controls",
            "_model_module_version": "1.5.0",
            "value": 1,
            "_view_count": null,
            "_view_module_version": "1.5.0",
            "orientation": "horizontal",
            "min": 0,
            "description_tooltip": null,
            "_model_module": "@jupyter-widgets/controls",
            "layout": "IPY_MODEL_234d1906afe248e9a9cad5ec686d1a5b"
          }
        },
        "ba2ce37a217549aa8d7bf02b55c11b93": {
          "model_module": "@jupyter-widgets/controls",
          "model_name": "DescriptionStyleModel",
          "state": {
            "_view_name": "StyleView",
            "_model_name": "DescriptionStyleModel",
            "description_width": "",
            "_view_module": "@jupyter-widgets/base",
            "_model_module_version": "1.5.0",
            "_view_count": null,
            "_view_module_version": "1.2.0",
            "_model_module": "@jupyter-widgets/controls"
          }
        },
        "96e146e3dabf417180ea820681dbf512": {
          "model_module": "@jupyter-widgets/base",
          "model_name": "LayoutModel",
          "state": {
            "_view_name": "LayoutView",
            "grid_template_rows": null,
            "right": null,
            "justify_content": null,
            "_view_module": "@jupyter-widgets/base",
            "overflow": null,
            "_model_module_version": "1.2.0",
            "_view_count": null,
            "flex_flow": null,
            "width": null,
            "min_width": null,
            "border": null,
            "align_items": null,
            "bottom": null,
            "_model_module": "@jupyter-widgets/base",
            "top": null,
            "grid_column": null,
            "overflow_y": null,
            "overflow_x": null,
            "grid_auto_flow": null,
            "grid_area": null,
            "grid_template_columns": null,
            "flex": null,
            "_model_name": "LayoutModel",
            "justify_items": null,
            "grid_row": null,
            "max_height": null,
            "align_content": null,
            "visibility": null,
            "align_self": null,
            "height": null,
            "min_height": null,
            "padding": null,
            "grid_auto_rows": null,
            "grid_gap": null,
            "max_width": null,
            "order": null,
            "_view_module_version": "1.2.0",
            "grid_template_areas": null,
            "object_position": null,
            "object_fit": null,
            "grid_auto_columns": null,
            "margin": null,
            "display": null,
            "left": null
          }
        },
        "844d00a96ae24fcca58650ac7fab6614": {
          "model_module": "@jupyter-widgets/controls",
          "model_name": "ProgressStyleModel",
          "state": {
            "_view_name": "StyleView",
            "_model_name": "ProgressStyleModel",
            "description_width": "",
            "_view_module": "@jupyter-widgets/base",
            "_model_module_version": "1.5.0",
            "_view_count": null,
            "_view_module_version": "1.2.0",
            "bar_color": null,
            "_model_module": "@jupyter-widgets/controls"
          }
        },
        "234d1906afe248e9a9cad5ec686d1a5b": {
          "model_module": "@jupyter-widgets/base",
          "model_name": "LayoutModel",
          "state": {
            "_view_name": "LayoutView",
            "grid_template_rows": null,
            "right": null,
            "justify_content": null,
            "_view_module": "@jupyter-widgets/base",
            "overflow": null,
            "_model_module_version": "1.2.0",
            "_view_count": null,
            "flex_flow": null,
            "width": null,
            "min_width": null,
            "border": null,
            "align_items": null,
            "bottom": null,
            "_model_module": "@jupyter-widgets/base",
            "top": null,
            "grid_column": null,
            "overflow_y": null,
            "overflow_x": null,
            "grid_auto_flow": null,
            "grid_area": null,
            "grid_template_columns": null,
            "flex": null,
            "_model_name": "LayoutModel",
            "justify_items": null,
            "grid_row": null,
            "max_height": null,
            "align_content": null,
            "visibility": null,
            "align_self": null,
            "height": null,
            "min_height": null,
            "padding": null,
            "grid_auto_rows": null,
            "grid_gap": null,
            "max_width": null,
            "order": null,
            "_view_module_version": "1.2.0",
            "grid_template_areas": null,
            "object_position": null,
            "object_fit": null,
            "grid_auto_columns": null,
            "margin": null,
            "display": null,
            "left": null
          }
        }
      }
    }
  },
  "cells": [
    {
      "cell_type": "markdown",
      "metadata": {
        "id": "view-in-github",
        "colab_type": "text"
      },
      "source": [
        "<a href=\"https://colab.research.google.com/github/ashishthomaschempolil/Neural-Machine-Translation-Italian-to-English/blob/master/italian_to_english_simple_encoder_decoder_model.ipynb\" target=\"_parent\"><img src=\"https://colab.research.google.com/assets/colab-badge.svg\" alt=\"Open In Colab\"/></a>"
      ]
    },
    {
      "cell_type": "markdown",
      "metadata": {
        "id": "lGCUazznTtnA"
      },
      "source": [
        "[dataset](http://www.manythings.org/anki/ita-eng.zip)"
      ]
    },
    {
      "cell_type": "code",
      "metadata": {
        "colab": {
          "base_uri": "https://localhost:8080/"
        },
        "id": "kpVlso_97dZ6",
        "outputId": "3c596c0a-178f-41b2-e3c1-1482f2010d99"
      },
      "source": [
        "!pip install -qq wandb"
      ],
      "execution_count": 17,
      "outputs": [
        {
          "output_type": "stream",
          "text": [
            "\u001b[K     |████████████████████████████████| 1.8MB 8.1MB/s \n",
            "\u001b[K     |████████████████████████████████| 102kB 12.1MB/s \n",
            "\u001b[K     |████████████████████████████████| 174kB 50.0MB/s \n",
            "\u001b[K     |████████████████████████████████| 133kB 51.9MB/s \n",
            "\u001b[K     |████████████████████████████████| 71kB 11.2MB/s \n",
            "\u001b[?25h  Building wheel for subprocess32 (setup.py) ... \u001b[?25l\u001b[?25hdone\n",
            "  Building wheel for pathtools (setup.py) ... \u001b[?25l\u001b[?25hdone\n"
          ],
          "name": "stdout"
        }
      ]
    },
    {
      "cell_type": "code",
      "metadata": {
        "id": "DxpLemF_itGg"
      },
      "source": [
        "import warnings\n",
        "warnings.filterwarnings(\"ignore\")\n",
        "import pandas as pd\n",
        "import matplotlib.pyplot as plt\n",
        "import seaborn as sns\n",
        "sns.set(palette='muted',style='whitegrid')\n",
        "import re\n",
        "from multiprocessing import Process# this is used for multithreading\n",
        "import multiprocessing\n",
        "import tensorflow as tf\n",
        "tf.compat.v1.enable_eager_execution()\n",
        "from tensorflow.keras.layers import TimeDistributed\n",
        "tf.keras.backend.clear_session()\n",
        "from tensorflow.keras.layers import Input, Softmax, RNN, Dense, Embedding, LSTM,Dot\n",
        "from tensorflow.keras.models import Model\n",
        "from sklearn.model_selection import train_test_split\n",
        "import numpy as np\n",
        "import keras.backend as K\n",
        "import nltk.translate.bleu_score as bleu\n",
        "import os\n",
        "import wandb\n",
        "from wandb.keras import WandbCallback"
      ],
      "execution_count": 18,
      "outputs": []
    },
    {
      "cell_type": "markdown",
      "metadata": {
        "id": "3k_AlAuKJqVA"
      },
      "source": [
        "<font color='blue'>**Load the data**</font>"
      ]
    },
    {
      "cell_type": "code",
      "metadata": {
        "id": "ZZVBzt2ijxkT",
        "colab": {
          "base_uri": "https://localhost:8080/"
        },
        "outputId": "64b9e7e6-3ca6-4fce-be43-4042c80ed54c"
      },
      "source": [
        "!curl --header 'Host: www.manythings.org' --user-agent 'Mozilla/5.0 (Macintosh; Intel Mac OS X 10.15; rv:89.0) Gecko/20100101 Firefox/89.0' --header 'Accept: text/html,application/xhtml+xml,application/xml;q=0.9,image/webp,*/*;q=0.8' --header 'Accept-Language: en-US,en;q=0.5' --referer 'https://colab.research.google.com/' --header 'DNT: 1' --header 'Upgrade-Insecure-Requests: 1' 'http://www.manythings.org/anki/ita-eng.zip' --output 'ita-eng.zip'"
      ],
      "execution_count": 2,
      "outputs": [
        {
          "output_type": "stream",
          "text": [
            "  % Total    % Received % Xferd  Average Speed   Time    Time     Time  Current\n",
            "                                 Dload  Upload   Total   Spent    Left  Speed\n",
            "100 7466k  100 7466k    0     0  6453k      0  0:00:01  0:00:01 --:--:-- 6453k\n"
          ],
          "name": "stdout"
        }
      ]
    },
    {
      "cell_type": "code",
      "metadata": {
        "id": "GDtNU3RDj05C"
      },
      "source": [
        "!unzip -qq '/content/ita-eng.zip'"
      ],
      "execution_count": 3,
      "outputs": []
    },
    {
      "cell_type": "code",
      "metadata": {
        "id": "x554C7-AitGn",
        "colab": {
          "base_uri": "https://localhost:8080/"
        },
        "outputId": "4b06667e-36a3-4984-99d9-c8f92de4ac8e"
      },
      "source": [
        "filepath = './ita.txt'\n",
        "f = open(filepath,'r',encoding=\"utf8\")\n",
        "lines = f.readlines()\n",
        "total = len(lines) #340432\n",
        "print(\"Sample text:\\n\")\n",
        "print(lines[-1],'\\n','*'*100,'\\n')\n",
        "print(\"The total no. of datapoints:\",total)\n",
        "f.close()"
      ],
      "execution_count": 4,
      "outputs": [
        {
          "output_type": "stream",
          "text": [
            "Sample text:\n",
            "\n",
            "Doubtless there exists in this world precisely the right woman for any given man to marry and vice versa; but when you consider that a human being has the opportunity of being acquainted with only a few hundred people, and out of the few hundred that there are but a dozen or less whom he knows intimately, and out of the dozen, one or two friends at most, it will easily be seen, when we remember the number of millions who inhabit this world, that probably, since the earth was created, the right man has never yet met the right woman.\tSenza dubbio esiste in questo mondo proprio la donna giusta per ogni uomo da sposare e viceversa; ma se si considera che un essere umano ha l'opportunità di conoscere solo poche centinaia di persone, e fra le poche centinaia che ce ne sono solo una dozzina o meno che conosce intimamente e fra la dozzina, uno o due amici al massimo, si vedrà facilmente, quando ricorderemo il numero di milioni che abitano questo mondo, che probabilmente, da quando è stata creata la terra, l'uomo giusto non ha mai incontrato la donna giusta.\tCC-BY 2.0 (France) Attribution: tatoeba.org #7697649 (RM) & #8729772 (Guybrush88)\n",
            " \n",
            " **************************************************************************************************** \n",
            "\n",
            "The total no. of datapoints: 348324\n"
          ],
          "name": "stdout"
        }
      ]
    },
    {
      "cell_type": "markdown",
      "metadata": {
        "id": "vmGWTdRmKRph"
      },
      "source": [
        "<font color='blue'>**Preprocess data**</font>"
      ]
    },
    {
      "cell_type": "code",
      "metadata": {
        "id": "mJocXArQuXim",
        "colab": {
          "base_uri": "https://localhost:8080/"
        },
        "outputId": "10a15e65-1229-484f-bb82-2bc135180120"
      },
      "source": [
        "from google.colab import drive\n",
        "drive.mount('/content/drive')"
      ],
      "execution_count": 5,
      "outputs": [
        {
          "output_type": "stream",
          "text": [
            "Mounted at /content/drive\n"
          ],
          "name": "stdout"
        }
      ]
    },
    {
      "cell_type": "code",
      "metadata": {
        "id": "jS4rdve54B-T"
      },
      "source": [
        "filepath = '/content/drive/My Drive/italian_to_english_simple/'"
      ],
      "execution_count": 8,
      "outputs": []
    },
    {
      "cell_type": "code",
      "metadata": {
        "id": "9QqElB_nKZos",
        "colab": {
          "base_uri": "https://localhost:8080/"
        },
        "outputId": "ac5e5ed0-5c27-44d5-9119-790386781f87"
      },
      "source": [
        "%%time\n",
        "# https://stackoverflow.com/a/47091490/4084039\n",
        "def decontracted(phrase): \n",
        "    \"\"\"Expanding English language contractions in Python\"\"\"\n",
        "    phrase = re.sub(r\"won\\'t\", \"will not\", phrase)\n",
        "    phrase = re.sub(r\"can\\'t\", \"can not\", phrase)\n",
        "\n",
        "    # general\n",
        "    phrase = re.sub(r\"n\\'t\", \" not\", phrase)\n",
        "    phrase = re.sub(r\"\\'re\", \" are\", phrase)\n",
        "    phrase = re.sub(r\"\\'s\", \" is\", phrase)\n",
        "    phrase = re.sub(r\"\\'d\", \" would\", phrase)\n",
        "    phrase = re.sub(r\"\\'ll\", \" will\", phrase)\n",
        "    phrase = re.sub(r\"\\'t\", \" not\", phrase)\n",
        "    phrase = re.sub(r\"\\'ve\", \" have\", phrase)\n",
        "    phrase = re.sub(r\"\\'m\", \" am\", phrase)\n",
        "    return phrase\n",
        "\n",
        "\n",
        "def preprocess(start,end,label):\n",
        "    \"\"\"\n",
        "    preprocess the data from start to end that is given and saves it to label.pkl\n",
        "    if end is False assumes till the end of the list\n",
        "    \"\"\"\n",
        "    \n",
        "    if end:\n",
        "        df = pd.DataFrame(columns=['italian','english'])\n",
        "        with open(filepath,'r',encoding=\"utf8\") as f:\n",
        "            italian = np.array([])\n",
        "            english = np.array([])\n",
        "            for l in f.readlines()[start:end]:\n",
        "                line = re.sub('CC.*',\"\",l) #removing all characters after the start of word CC \n",
        "                line = re.sub('\\t',\"_\",line) #to differentiate between italian and english.\n",
        "                k = line.split('_') #1st will be english and 2nd will be italian of the word\n",
        "                english = np.append(english,decontracted(k[0]).strip().lower()) ##expanding english language contractions and remove trailing spaces and lower all characters\n",
        "                italian = np.append(italian,k[1].strip().lower())\n",
        "        df['italian'] = italian\n",
        "        df['english'] = english\n",
        "    else:\n",
        "        df = pd.DataFrame(columns=['italian','english'])\n",
        "        with open(filepath,'r',encoding=\"utf8\") as f:\n",
        "            italian = np.array([])\n",
        "            english = np.array([])\n",
        "            for l in f.readlines()[start:]:\n",
        "                line = re.sub('CC.*',\"\",l) #removing all characters after the start of word CC \n",
        "                line = re.sub('\\t',\"_\",line) #to differentiate between italian and english.\n",
        "                k = line.split('_') #1st will be english and 2nd will be italian of the word\n",
        "                english = np.append(english,decontracted(k[0]).strip().lower()) ##expanding english language contractions and remove trailing spaces and lower all characters\n",
        "                italian = np.append(italian,k[1].strip().lower())\n",
        "        df['italian'] = italian\n",
        "        df['english'] = english\n",
        "    df.to_pickle(label+'.pkl')\n",
        "\n",
        "def process1():\n",
        "    \"\"\"\n",
        "    first process\n",
        "    \"\"\"\n",
        "    preprocess(start=0,end=int(total/4),label='df1')\n",
        "    \n",
        "\n",
        "def process2():\n",
        "    \"\"\"\n",
        "    first process\n",
        "    \"\"\"\n",
        "    preprocess(start=int(total/4),end=int(2*total/4),label='df2')\n",
        "    \n",
        "\n",
        "def process3():\n",
        "    \"\"\"\n",
        "    first process\n",
        "    \"\"\"\n",
        "    preprocess(start=int(2*total/4),end=int(3*total/4),label='df3')\n",
        "    \n",
        "\n",
        "def process4():\n",
        "    \"\"\"\n",
        "    first process\n",
        "    \"\"\"\n",
        "    preprocess(start=int(3*total/4),end=False,label = 'df4')\n",
        "\n",
        "def main():\n",
        "    #process is used to call multiprogramming\n",
        "    manager=multiprocessing.Manager() \t\n",
        "    p1=Process(target=process1)\n",
        "    p2=Process(target=process2)\n",
        "    p3=Process(target=process3)\n",
        "    p4=Process(target=process4)\n",
        "    #p1.start() is used to start the thread execution\n",
        "    p1.start()\n",
        "    p2.start()\n",
        "    p3.start()\n",
        "    p4.start()\n",
        "    #After completion all the threads are joined\n",
        "    p1.join()\n",
        "    p2.join()\n",
        "    p3.join()\n",
        "    p4.join()\n",
        "\n",
        "if __name__==\"__main__\":\n",
        "  if 'df.pkl' not in os.listdir(filepath):\n",
        "    main()\n",
        "  else:\n",
        "    print(\"df.pkl already generated\")"
      ],
      "execution_count": 9,
      "outputs": [
        {
          "output_type": "stream",
          "text": [
            "df.pkl already generated\n",
            "CPU times: user 278 µs, sys: 62 µs, total: 340 µs\n",
            "Wall time: 746 µs\n"
          ],
          "name": "stdout"
        }
      ]
    },
    {
      "cell_type": "code",
      "metadata": {
        "id": "RGqCcY4mitGx",
        "colab": {
          "base_uri": "https://localhost:8080/",
          "height": 299,
          "referenced_widgets": [
            "9d395a86c2bd4541ba42cf5f73198b7d",
            "da4016034e2e4018a772ac6af9418f07",
            "ef7b9a938ace4d7f8b6f8e86ab896663",
            "26c80f9b9c654024b62e958a6e823259",
            "9a5fafe6b72f42848bc857ad02ff0b37",
            "1b82807416a140849baa418beb7afe3e",
            "82af5deef0bd4bd49f55efa070730067",
            "9a7eaf2ddbed461ea8818cc95b523924"
          ]
        },
        "outputId": "5ef1a0e3-a74c-44a7-9d48-62e8c25674c3"
      },
      "source": [
        "# run = wandb.init(project = 'italian to english',name = 'dataset_generation')\n",
        "# filepath = '/content/drive/My Drive/italian_to_english_simple/'\n",
        "# df1 = pd.read_pickle(filepath+'df1.pkl')\n",
        "# df2 = pd.read_pickle(filepath+'df2.pkl')\n",
        "# df3 = pd.read_pickle(filepath+'df3.pkl')\n",
        "# df4 = pd.read_pickle(filepath+'df4.pkl')\n",
        "# df = df1.append([df2,df3,df4]).reset_index(drop=True)\n",
        "# del df1,df2,df3,df4\n",
        "# artifact = wandb.Artifact(name = \"dataframe_unprocessed\",type = 'dataset')\n",
        "# artifact.add_file(os.path.join(filepath,'df.pkl'))\n",
        "# run.log_artifact(artifact)\n",
        "# run.finish()"
      ],
      "execution_count": 19,
      "outputs": [
        {
          "output_type": "display_data",
          "data": {
            "application/javascript": [
              "\n",
              "        window._wandbApiKey = new Promise((resolve, reject) => {\n",
              "            function loadScript(url) {\n",
              "            return new Promise(function(resolve, reject) {\n",
              "                let newScript = document.createElement(\"script\");\n",
              "                newScript.onerror = reject;\n",
              "                newScript.onload = resolve;\n",
              "                document.body.appendChild(newScript);\n",
              "                newScript.src = url;\n",
              "            });\n",
              "            }\n",
              "            loadScript(\"https://cdn.jsdelivr.net/npm/postmate/build/postmate.min.js\").then(() => {\n",
              "            const iframe = document.createElement('iframe')\n",
              "            iframe.style.cssText = \"width:0;height:0;border:none\"\n",
              "            document.body.appendChild(iframe)\n",
              "            const handshake = new Postmate({\n",
              "                container: iframe,\n",
              "                url: 'https://wandb.ai/authorize'\n",
              "            });\n",
              "            const timeout = setTimeout(() => reject(\"Couldn't auto authenticate\"), 5000)\n",
              "            handshake.then(function(child) {\n",
              "                child.on('authorize', data => {\n",
              "                    clearTimeout(timeout)\n",
              "                    resolve(data)\n",
              "                });\n",
              "            });\n",
              "            })\n",
              "        });\n",
              "    "
            ],
            "text/plain": [
              "<IPython.core.display.Javascript object>"
            ]
          },
          "metadata": {
            "tags": []
          }
        },
        {
          "output_type": "stream",
          "text": [
            "\u001b[34m\u001b[1mwandb\u001b[0m: Appending key for api.wandb.ai to your netrc file: /root/.netrc\n"
          ],
          "name": "stderr"
        },
        {
          "output_type": "display_data",
          "data": {
            "text/html": [
              "\n",
              "                Tracking run with wandb version 0.10.32<br/>\n",
              "                Syncing run <strong style=\"color:#cdcd00\">dataset_generation</strong> to <a href=\"https://wandb.ai\" target=\"_blank\">Weights & Biases</a> <a href=\"https://docs.wandb.com/integrations/jupyter.html\" target=\"_blank\">(Documentation)</a>.<br/>\n",
              "                Project page: <a href=\"https://wandb.ai/ashisht7/italian%20to%20english\" target=\"_blank\">https://wandb.ai/ashisht7/italian%20to%20english</a><br/>\n",
              "                Run page: <a href=\"https://wandb.ai/ashisht7/italian%20to%20english/runs/23jmcomy\" target=\"_blank\">https://wandb.ai/ashisht7/italian%20to%20english/runs/23jmcomy</a><br/>\n",
              "                Run data is saved locally in <code>/content/wandb/run-20210613_152051-23jmcomy</code><br/><br/>\n",
              "            "
            ],
            "text/plain": [
              "<IPython.core.display.HTML object>"
            ]
          },
          "metadata": {
            "tags": []
          }
        },
        {
          "output_type": "display_data",
          "data": {
            "text/html": [
              "<br/>Waiting for W&B process to finish, PID 423<br/>Program ended successfully."
            ],
            "text/plain": [
              "<IPython.core.display.HTML object>"
            ]
          },
          "metadata": {
            "tags": []
          }
        },
        {
          "output_type": "display_data",
          "data": {
            "application/vnd.jupyter.widget-view+json": {
              "model_id": "9d395a86c2bd4541ba42cf5f73198b7d",
              "version_minor": 0,
              "version_major": 2
            },
            "text/plain": [
              "VBox(children=(Label(value=' 21.54MB of 21.54MB uploaded (0.00MB deduped)\\r'), FloatProgress(value=1.0, max=1.…"
            ]
          },
          "metadata": {
            "tags": []
          }
        },
        {
          "output_type": "display_data",
          "data": {
            "text/html": [
              "Find user logs for this run at: <code>/content/wandb/run-20210613_152051-23jmcomy/logs/debug.log</code>"
            ],
            "text/plain": [
              "<IPython.core.display.HTML object>"
            ]
          },
          "metadata": {
            "tags": []
          }
        },
        {
          "output_type": "display_data",
          "data": {
            "text/html": [
              "Find internal logs for this run at: <code>/content/wandb/run-20210613_152051-23jmcomy/logs/debug-internal.log</code>"
            ],
            "text/plain": [
              "<IPython.core.display.HTML object>"
            ]
          },
          "metadata": {
            "tags": []
          }
        },
        {
          "output_type": "display_data",
          "data": {
            "text/html": [
              "Synced 4 W&B file(s), 0 media file(s), 3 artifact file(s) and 1 other file(s)"
            ],
            "text/plain": [
              "<IPython.core.display.HTML object>"
            ]
          },
          "metadata": {
            "tags": []
          }
        },
        {
          "output_type": "display_data",
          "data": {
            "text/html": [
              "\n",
              "                    <br/>Synced <strong style=\"color:#cdcd00\">dataset_generation</strong>: <a href=\"https://wandb.ai/ashisht7/italian%20to%20english/runs/23jmcomy\" target=\"_blank\">https://wandb.ai/ashisht7/italian%20to%20english/runs/23jmcomy</a><br/>\n",
              "                "
            ],
            "text/plain": [
              "<IPython.core.display.HTML object>"
            ]
          },
          "metadata": {
            "tags": []
          }
        }
      ]
    },
    {
      "cell_type": "code",
      "metadata": {
        "colab": {
          "base_uri": "https://localhost:8080/",
          "height": 263,
          "referenced_widgets": [
            "d187522c15cd49b2af4d838241e733ef",
            "191e8dfee67a477291b16b76f4aebc60",
            "c81979b23a8a4ba6bea132d5d4aed87e",
            "abd73f8aaff14309abdcfc67ea265bab",
            "a2624f747416495789c63ec6fb1c9810",
            "6bd20a0d3d1844c783434ceaab27a403",
            "38dc6bcf0de549138ead52218f4ff797",
            "46cf004ef3a94c05b481793178f96f09"
          ]
        },
        "id": "x05U57qk7YoH",
        "outputId": "9f02dd6a-b9dd-428c-82c1-3092452331c3"
      },
      "source": [
        "#using the logged artifact\n",
        "# run = wandb.init(project = 'italian to english')\n",
        "# artifact = run.use_artifact('ashisht7/italian to english/dataframe_unprocessed:latest',type = 'dataset')\n",
        "# artifact_dir = artifact.download()\n",
        "# run.finish()\n",
        "\n",
        "# path = os.path.join(artifact_dir,\"df.pkl\")\n",
        "# df = pd.read_pickle(path)"
      ],
      "execution_count": 34,
      "outputs": [
        {
          "output_type": "display_data",
          "data": {
            "text/html": [
              "\n",
              "                Tracking run with wandb version 0.10.32<br/>\n",
              "                Syncing run <strong style=\"color:#cdcd00\">dauntless-rain-8</strong> to <a href=\"https://wandb.ai\" target=\"_blank\">Weights & Biases</a> <a href=\"https://docs.wandb.com/integrations/jupyter.html\" target=\"_blank\">(Documentation)</a>.<br/>\n",
              "                Project page: <a href=\"https://wandb.ai/ashisht7/italian%20to%20english\" target=\"_blank\">https://wandb.ai/ashisht7/italian%20to%20english</a><br/>\n",
              "                Run page: <a href=\"https://wandb.ai/ashisht7/italian%20to%20english/runs/33t82i94\" target=\"_blank\">https://wandb.ai/ashisht7/italian%20to%20english/runs/33t82i94</a><br/>\n",
              "                Run data is saved locally in <code>/content/wandb/run-20210613_154319-33t82i94</code><br/><br/>\n",
              "            "
            ],
            "text/plain": [
              "<IPython.core.display.HTML object>"
            ]
          },
          "metadata": {
            "tags": []
          }
        },
        {
          "output_type": "display_data",
          "data": {
            "text/html": [
              "<br/>Waiting for W&B process to finish, PID 1098<br/>Program ended successfully."
            ],
            "text/plain": [
              "<IPython.core.display.HTML object>"
            ]
          },
          "metadata": {
            "tags": []
          }
        },
        {
          "output_type": "display_data",
          "data": {
            "application/vnd.jupyter.widget-view+json": {
              "model_id": "d187522c15cd49b2af4d838241e733ef",
              "version_minor": 0,
              "version_major": 2
            },
            "text/plain": [
              "VBox(children=(Label(value=' 0.13MB of 0.13MB uploaded (0.00MB deduped)\\r'), FloatProgress(value=1.0, max=1.0)…"
            ]
          },
          "metadata": {
            "tags": []
          }
        },
        {
          "output_type": "display_data",
          "data": {
            "text/html": [
              "Find user logs for this run at: <code>/content/wandb/run-20210613_154319-33t82i94/logs/debug.log</code>"
            ],
            "text/plain": [
              "<IPython.core.display.HTML object>"
            ]
          },
          "metadata": {
            "tags": []
          }
        },
        {
          "output_type": "display_data",
          "data": {
            "text/html": [
              "Find internal logs for this run at: <code>/content/wandb/run-20210613_154319-33t82i94/logs/debug-internal.log</code>"
            ],
            "text/plain": [
              "<IPython.core.display.HTML object>"
            ]
          },
          "metadata": {
            "tags": []
          }
        },
        {
          "output_type": "display_data",
          "data": {
            "text/html": [
              "Synced 4 W&B file(s), 0 media file(s), 2 artifact file(s) and 1 other file(s)"
            ],
            "text/plain": [
              "<IPython.core.display.HTML object>"
            ]
          },
          "metadata": {
            "tags": []
          }
        },
        {
          "output_type": "display_data",
          "data": {
            "text/html": [
              "\n",
              "                    <br/>Synced <strong style=\"color:#cdcd00\">dauntless-rain-8</strong>: <a href=\"https://wandb.ai/ashisht7/italian%20to%20english/runs/33t82i94\" target=\"_blank\">https://wandb.ai/ashisht7/italian%20to%20english/runs/33t82i94</a><br/>\n",
              "                "
            ],
            "text/plain": [
              "<IPython.core.display.HTML object>"
            ]
          },
          "metadata": {
            "tags": []
          }
        }
      ]
    },
    {
      "cell_type": "code",
      "metadata": {
        "id": "98-lljv-UT5z",
        "colab": {
          "base_uri": "https://localhost:8080/",
          "height": 263,
          "referenced_widgets": [
            "fd943b3a467c439a86cf79a9172c3b94",
            "8e23a93a9987408696a7e6425badc681",
            "1051c92933d64f78a48d0115d81ca84a",
            "2a0d0a649b324dd8be88a6f2549ca25b",
            "ede8bad8be2e4fd09b15f7d4b178c0b7",
            "fb6f52d12b07480db34d0649910b9322",
            "1404ac40667e480fb2adbdeecf149394",
            "1ad14cc22fa3421e9ed80491b2b05a08"
          ]
        },
        "outputId": "114fa151-1a0c-4472-881c-24e24037ba16"
      },
      "source": [
        "# run = wandb.init(project = \"italian to english\",name = 'preprocessing the data')\n",
        "# artifact = wandb.Artifact(name = \"dataframe_preprocessed\",type = 'dataset')\n",
        "\n",
        "# def preprocess_italian(x):\n",
        "#     \"\"\"\n",
        "#     remove all special characters and add '<start>' & '<end>' to italian (encoder i/p)\n",
        "#     while adding only '<start>' to english(decoder i/p)\n",
        "#     \"\"\"\n",
        "#     x = re.sub('\\W+',\" \",x) #replacing all special characters with space\n",
        "#     return '<start> '+ x.strip() + ' <end>'\n",
        "\n",
        "# def preprocess_english(x):\n",
        "#     \"\"\"\n",
        "#     remove all special characters and add '<start>' & '<end>' to italian (encoder i/p)\n",
        "#     while adding only '<start>' to english(decoder i/p)\n",
        "#     \"\"\"\n",
        "#     x = re.sub('\\W+',\" \",x) #replacing all special characters with space\n",
        "#     return '<start> '+ x.strip() + ' <end>'\n",
        "\n",
        "# test_df = df.copy()\n",
        "# df['italian'] = df['italian'].apply(preprocess_italian)\n",
        "# df['english'] = df['english'].apply(preprocess_english)\n",
        "\n",
        "# df.to_pickle(\"./df.pkl\")\n",
        "# artifact.add_file(\"df.pkl\")\n",
        "# run.log_artifact(artifact)\n",
        "# run.finish()"
      ],
      "execution_count": 37,
      "outputs": [
        {
          "output_type": "display_data",
          "data": {
            "text/html": [
              "\n",
              "                Tracking run with wandb version 0.10.32<br/>\n",
              "                Syncing run <strong style=\"color:#cdcd00\">preprocessing the data</strong> to <a href=\"https://wandb.ai\" target=\"_blank\">Weights & Biases</a> <a href=\"https://docs.wandb.com/integrations/jupyter.html\" target=\"_blank\">(Documentation)</a>.<br/>\n",
              "                Project page: <a href=\"https://wandb.ai/ashisht7/italian%20to%20english\" target=\"_blank\">https://wandb.ai/ashisht7/italian%20to%20english</a><br/>\n",
              "                Run page: <a href=\"https://wandb.ai/ashisht7/italian%20to%20english/runs/2j19vjqc\" target=\"_blank\">https://wandb.ai/ashisht7/italian%20to%20english/runs/2j19vjqc</a><br/>\n",
              "                Run data is saved locally in <code>/content/wandb/run-20210613_155021-2j19vjqc</code><br/><br/>\n",
              "            "
            ],
            "text/plain": [
              "<IPython.core.display.HTML object>"
            ]
          },
          "metadata": {
            "tags": []
          }
        },
        {
          "output_type": "display_data",
          "data": {
            "text/html": [
              "<br/>Waiting for W&B process to finish, PID 1245<br/>Program ended successfully."
            ],
            "text/plain": [
              "<IPython.core.display.HTML object>"
            ]
          },
          "metadata": {
            "tags": []
          }
        },
        {
          "output_type": "display_data",
          "data": {
            "application/vnd.jupyter.widget-view+json": {
              "model_id": "fd943b3a467c439a86cf79a9172c3b94",
              "version_minor": 0,
              "version_major": 2
            },
            "text/plain": [
              "VBox(children=(Label(value=' 36.80MB of 36.80MB uploaded (0.00MB deduped)\\r'), FloatProgress(value=1.0, max=1.…"
            ]
          },
          "metadata": {
            "tags": []
          }
        },
        {
          "output_type": "display_data",
          "data": {
            "text/html": [
              "Find user logs for this run at: <code>/content/wandb/run-20210613_155021-2j19vjqc/logs/debug.log</code>"
            ],
            "text/plain": [
              "<IPython.core.display.HTML object>"
            ]
          },
          "metadata": {
            "tags": []
          }
        },
        {
          "output_type": "display_data",
          "data": {
            "text/html": [
              "Find internal logs for this run at: <code>/content/wandb/run-20210613_155021-2j19vjqc/logs/debug-internal.log</code>"
            ],
            "text/plain": [
              "<IPython.core.display.HTML object>"
            ]
          },
          "metadata": {
            "tags": []
          }
        },
        {
          "output_type": "display_data",
          "data": {
            "text/html": [
              "Synced 4 W&B file(s), 0 media file(s), 3 artifact file(s) and 1 other file(s)"
            ],
            "text/plain": [
              "<IPython.core.display.HTML object>"
            ]
          },
          "metadata": {
            "tags": []
          }
        },
        {
          "output_type": "display_data",
          "data": {
            "text/html": [
              "\n",
              "                    <br/>Synced <strong style=\"color:#cdcd00\">preprocessing the data</strong>: <a href=\"https://wandb.ai/ashisht7/italian%20to%20english/runs/2j19vjqc\" target=\"_blank\">https://wandb.ai/ashisht7/italian%20to%20english/runs/2j19vjqc</a><br/>\n",
              "                "
            ],
            "text/plain": [
              "<IPython.core.display.HTML object>"
            ]
          },
          "metadata": {
            "tags": []
          }
        }
      ]
    },
    {
      "cell_type": "code",
      "metadata": {
        "colab": {
          "base_uri": "https://localhost:8080/",
          "height": 263,
          "referenced_widgets": [
            "07d234d86ba84b1193715873e7f74f55",
            "6b2207c7d0c34d548cb1c9059e6422b1",
            "7dffa95ba984411790593287f9d3b919",
            "3fedee6eaf02451b812306cd395e58d9",
            "1437f509e0a24867b3d166d68ba2457b",
            "e1a0757201ea4baf9e9c3a9c5303c6f0",
            "c725125acebf483cbec366df0eb53d78",
            "a25e2f2f2ed24cc88b60532fc8cfe101"
          ]
        },
        "id": "TEyFBq54EwRo",
        "outputId": "ce323ca3-fa5e-4b52-a2a7-d564dc65065c"
      },
      "source": [
        "#using the logged artifact\n",
        "run = wandb.init(project = 'italian to english')\n",
        "artifact = run.use_artifact('ashisht7/italian to english/dataframe_preprocessed:v0', type='dataset')\n",
        "artifact_dir = artifact.download()\n",
        "run.finish()\n",
        "\n",
        "path = os.path.join(artifact_dir,\"df.pkl\")\n",
        "df = pd.read_pickle(path)"
      ],
      "execution_count": 38,
      "outputs": [
        {
          "output_type": "display_data",
          "data": {
            "text/html": [
              "\n",
              "                Tracking run with wandb version 0.10.32<br/>\n",
              "                Syncing run <strong style=\"color:#cdcd00\">ruby-armadillo-10</strong> to <a href=\"https://wandb.ai\" target=\"_blank\">Weights & Biases</a> <a href=\"https://docs.wandb.com/integrations/jupyter.html\" target=\"_blank\">(Documentation)</a>.<br/>\n",
              "                Project page: <a href=\"https://wandb.ai/ashisht7/italian%20to%20english\" target=\"_blank\">https://wandb.ai/ashisht7/italian%20to%20english</a><br/>\n",
              "                Run page: <a href=\"https://wandb.ai/ashisht7/italian%20to%20english/runs/fdbx7kjn\" target=\"_blank\">https://wandb.ai/ashisht7/italian%20to%20english/runs/fdbx7kjn</a><br/>\n",
              "                Run data is saved locally in <code>/content/wandb/run-20210613_155419-fdbx7kjn</code><br/><br/>\n",
              "            "
            ],
            "text/plain": [
              "<IPython.core.display.HTML object>"
            ]
          },
          "metadata": {
            "tags": []
          }
        },
        {
          "output_type": "display_data",
          "data": {
            "text/html": [
              "<br/>Waiting for W&B process to finish, PID 1309<br/>Program ended successfully."
            ],
            "text/plain": [
              "<IPython.core.display.HTML object>"
            ]
          },
          "metadata": {
            "tags": []
          }
        },
        {
          "output_type": "display_data",
          "data": {
            "application/vnd.jupyter.widget-view+json": {
              "model_id": "07d234d86ba84b1193715873e7f74f55",
              "version_minor": 0,
              "version_major": 2
            },
            "text/plain": [
              "VBox(children=(Label(value=' 0.15MB of 0.15MB uploaded (0.00MB deduped)\\r'), FloatProgress(value=1.0, max=1.0)…"
            ]
          },
          "metadata": {
            "tags": []
          }
        },
        {
          "output_type": "display_data",
          "data": {
            "text/html": [
              "Find user logs for this run at: <code>/content/wandb/run-20210613_155419-fdbx7kjn/logs/debug.log</code>"
            ],
            "text/plain": [
              "<IPython.core.display.HTML object>"
            ]
          },
          "metadata": {
            "tags": []
          }
        },
        {
          "output_type": "display_data",
          "data": {
            "text/html": [
              "Find internal logs for this run at: <code>/content/wandb/run-20210613_155419-fdbx7kjn/logs/debug-internal.log</code>"
            ],
            "text/plain": [
              "<IPython.core.display.HTML object>"
            ]
          },
          "metadata": {
            "tags": []
          }
        },
        {
          "output_type": "display_data",
          "data": {
            "text/html": [
              "Synced 4 W&B file(s), 0 media file(s), 2 artifact file(s) and 1 other file(s)"
            ],
            "text/plain": [
              "<IPython.core.display.HTML object>"
            ]
          },
          "metadata": {
            "tags": []
          }
        },
        {
          "output_type": "display_data",
          "data": {
            "text/html": [
              "\n",
              "                    <br/>Synced <strong style=\"color:#cdcd00\">ruby-armadillo-10</strong>: <a href=\"https://wandb.ai/ashisht7/italian%20to%20english/runs/fdbx7kjn\" target=\"_blank\">https://wandb.ai/ashisht7/italian%20to%20english/runs/fdbx7kjn</a><br/>\n",
              "                "
            ],
            "text/plain": [
              "<IPython.core.display.HTML object>"
            ]
          },
          "metadata": {
            "tags": []
          }
        }
      ]
    },
    {
      "cell_type": "code",
      "metadata": {
        "id": "KQobI6QYUXZT",
        "colab": {
          "base_uri": "https://localhost:8080/",
          "height": 109
        },
        "outputId": "cdcfb5f9-dd04-4926-8dab-12e221ef5fa2"
      },
      "source": [
        "df['italian'].values[-1]"
      ],
      "execution_count": 39,
      "outputs": [
        {
          "output_type": "execute_result",
          "data": {
            "application/vnd.google.colaboratory.intrinsic+json": {
              "type": "string"
            },
            "text/plain": [
              "'<start> start senza dubbio esiste in questo mondo proprio la donna giusta per ogni uomo da sposare e viceversa ma se si considera che un essere umano ha l opportunità di conoscere solo poche centinaia di persone e fra le poche centinaia che ce ne sono solo una dozzina o meno che conosce intimamente e fra la dozzina uno o due amici al massimo si vedrà facilmente quando ricorderemo il numero di milioni che abitano questo mondo che probabilmente da quando è stata creata la terra l uomo giusto non ha mai incontrato la donna giusta end <end>'"
            ]
          },
          "metadata": {
            "tags": []
          },
          "execution_count": 39
        }
      ]
    },
    {
      "cell_type": "code",
      "metadata": {
        "id": "rd5h9Me9UZYD",
        "colab": {
          "base_uri": "https://localhost:8080/",
          "height": 109
        },
        "outputId": "c9853d91-3352-435e-9edd-8de6e65efe91"
      },
      "source": [
        "df['english'].values[-1]"
      ],
      "execution_count": 40,
      "outputs": [
        {
          "output_type": "execute_result",
          "data": {
            "application/vnd.google.colaboratory.intrinsic+json": {
              "type": "string"
            },
            "text/plain": [
              "'<start> start doubtless there exists in this world precisely the right woman for any given man to marry and vice versa but when you consider that a human being has the opportunity of being acquainted with only a few hundred people and out of the few hundred that there are but a dozen or less whom he knows intimately and out of the dozen one or two friends at most it will easily be seen when we remember the number of millions who inhabit this world that probably since the earth was created the right man has never yet met the right woman end <end>'"
            ]
          },
          "metadata": {
            "tags": []
          },
          "execution_count": 40
        }
      ]
    },
    {
      "cell_type": "code",
      "metadata": {
        "id": "Xrw9_fe4_F2W"
      },
      "source": [
        "def remove_start(x):\n",
        "  x_modified = x.replace('<start>','').strip()\n",
        "  return x_modified\n",
        "\n",
        "def remove_end(x):\n",
        "  x_modified = x.replace('<end>','').strip()\n",
        "  return x_modified  "
      ],
      "execution_count": 41,
      "outputs": []
    },
    {
      "cell_type": "code",
      "metadata": {
        "id": "QccaLqEpUZ9f",
        "colab": {
          "base_uri": "https://localhost:8080/"
        },
        "outputId": "7aa30408-4f8e-437e-c010-0adb22427595"
      },
      "source": [
        "np.random.seed(42)\n",
        "k = np.random.choice(range(df['italian'].shape[0]),300000) #we are reducing the dataset to 300000 \n",
        "df_new = df.iloc[k,:].copy()\n",
        "df_new['english_ip'] = pd.DataFrame(df['english'].apply(remove_end)) \n",
        "df_new['english_op'] = pd.DataFrame(df['english'].apply(remove_start))\n",
        "\n",
        "train,val =  train_test_split(df_new,test_size=0.2)\n",
        "train.shape,val.shape"
      ],
      "execution_count": 42,
      "outputs": [
        {
          "output_type": "execute_result",
          "data": {
            "text/plain": [
              "((240000, 4), (60000, 4))"
            ]
          },
          "metadata": {
            "tags": []
          },
          "execution_count": 42
        }
      ]
    },
    {
      "cell_type": "code",
      "metadata": {
        "id": "5wRHE78LUZqI",
        "colab": {
          "base_uri": "https://localhost:8080/"
        },
        "outputId": "472fc4ad-841e-4bae-a873-fb44162dd81b"
      },
      "source": [
        "#finding lenghts of each snetence for encoder\n",
        "from tensorflow.keras.preprocessing.text import Tokenizer\n",
        "\n",
        "ita_tokenizer = Tokenizer(filters = '')\n",
        "ita_tokenizer.fit_on_texts(texts = train['italian'].values) #fit tokenizer\n",
        "train_italian = ita_tokenizer.texts_to_sequences(train.italian.values) #tokenize \n",
        "val_italian  = ita_tokenizer.texts_to_sequences(val.italian.values) #tokenize \n",
        "italian_len = np.array([len(i) for i in train_italian]) #getting the len of tokenized sentences for finding value of padding\n",
        "inp_vocab_size = len(ita_tokenizer.word_index)+1 #1 is unknown\n",
        "\n",
        "eng_tokenizer = Tokenizer(filters = '')\n",
        "eng_tokenizer.fit_on_texts(texts =  train['english'].values) \n",
        "train_english_ip = eng_tokenizer.texts_to_sequences(train.english_ip.values)\n",
        "train_english_op = eng_tokenizer.texts_to_sequences(train.english_op.values)\n",
        "val_english_ip = eng_tokenizer.texts_to_sequences(val.english_ip.values)\n",
        "val_english_op = eng_tokenizer.texts_to_sequences(val.english_op.values)\n",
        "english_len = np.array([len(i) for i in train_english_ip])\n",
        "op_vocab_size = len(eng_tokenizer.word_index)+1 #1 is unknown\n",
        "\n",
        "from tensorflow.keras.preprocessing.sequence import pad_sequences\n",
        "print('We will use the max length as padding value for both italian and english which are respectively:\\n %i\\tand\\t%i'%(italian_len.max(),english_len.max()))\n",
        "italian_pad = italian_len.max()\n",
        "english_pad = english_len.max()\n",
        "train_italian = pad_sequences(train_italian,maxlen=italian_pad,padding='post')\n",
        "train_english_ip = pad_sequences(train_english_ip,maxlen=english_pad,padding='post')\n",
        "train_english_op = pad_sequences(train_english_op,maxlen=english_pad,padding='post')\n",
        "\n",
        "val_italian = pad_sequences(val_italian,maxlen=italian_pad,padding='post')\n",
        "val_english_ip = pad_sequences(val_english_ip,maxlen=english_pad,padding='post')\n",
        "val_english_op = pad_sequences(val_english_op,maxlen=english_pad,padding='post')"
      ],
      "execution_count": 64,
      "outputs": [
        {
          "output_type": "stream",
          "text": [
            "We will use the max length as padding value for both italian and english which are respectively:\n",
            " 98\tand\t104\n"
          ],
          "name": "stdout"
        }
      ]
    },
    {
      "cell_type": "code",
      "metadata": {
        "id": "fGW455_ZVyoN"
      },
      "source": [
        "run = wandb.init(project = \"italian to english\",name = 'modelling')\n",
        "config = run.config\n",
        "config.batch_size = 60\n",
        "config.embedding_dim = 256\n",
        "config.lstm_units = 256\n",
        "config.input_length = italian_pad\n",
        "config.output_length = english_pad\n",
        "config.inp_vocab_size = inp_vocab_size\n",
        "config.op_vocab_size = op_vocab_size"
      ],
      "execution_count": null,
      "outputs": []
    },
    {
      "cell_type": "code",
      "metadata": {
        "id": "c9VLuFmrkduL"
      },
      "source": [
        "reverse_eng_word_index = {}\n",
        "for key,value in eng_tokenizer.word_index.items():\n",
        "  reverse_eng_word_index[value] = key"
      ],
      "execution_count": 73,
      "outputs": []
    },
    {
      "cell_type": "markdown",
      "metadata": {
        "id": "HkiWovgUV35O"
      },
      "source": [
        "# Encoder"
      ]
    },
    {
      "cell_type": "code",
      "metadata": {
        "id": "zVeh_nFLV6KV"
      },
      "source": [
        "tf.keras.backend.clear_session()\n",
        "#encoder\n",
        "enc_input = Input(shape=(input_length,))\n",
        "enc_embedding = Embedding(input_dim = config.inp_vocab_size,\n",
        "                      output_dim = config.embedding_dim,\n",
        "                      mask_zero=True,\n",
        "                      input_length=config.input_length)(enc_input)\n",
        "enc_op,enc_h,enc_c = LSTM(units = config.lstm_units,\n",
        "            return_state = True,\n",
        "            )(enc_embedding) #return_sequences = True\n",
        "enc_states = [enc_h,enc_c]\n",
        "#decoder\n",
        "dec_input = Input(shape=(config.output_length,))\n",
        "dec_embedding = Embedding(input_dim = config.op_vocab_size,\n",
        "                      output_dim = config.embedding_dim,\n",
        "                      mask_zero=True,\n",
        "                      input_length=config.output_length)(dec_input)\n",
        "dec_op,_,_ = LSTM(units = config.lstm_units,\n",
        "            return_state = True,\n",
        "            return_sequences = True\n",
        "            )(dec_embedding,initial_state = enc_states)  #https://stackoverflow.com/a/58152537\n",
        "dec_dense = Dense(units = config.op_vocab_size,\n",
        "                  activation = 'softmax',\n",
        "                  )\n",
        "dense_op = dec_dense(dec_op) \n",
        "\n",
        "model = Model([enc_input,dec_input],dense_op)\n"
      ],
      "execution_count": 74,
      "outputs": []
    },
    {
      "cell_type": "code",
      "metadata": {
        "id": "re4nqCIIoT17",
        "colab": {
          "base_uri": "https://localhost:8080/"
        },
        "outputId": "37123cd1-3ab7-47ad-c8b8-a6237c0d3023"
      },
      "source": [
        "config.optimizer = 'adam'\n",
        "model.compile(loss='sparse_categorical_crossentropy',metrics=['accuracy'],optimizer=config.optimizer)\n",
        "model.summary()"
      ],
      "execution_count": 75,
      "outputs": [
        {
          "output_type": "stream",
          "text": [
            "Model: \"model\"\n",
            "__________________________________________________________________________________________________\n",
            "Layer (type)                    Output Shape         Param #     Connected to                     \n",
            "==================================================================================================\n",
            "input_1 (InputLayer)            [(None, 98)]         0                                            \n",
            "__________________________________________________________________________________________________\n",
            "input_2 (InputLayer)            [(None, 104)]        0                                            \n",
            "__________________________________________________________________________________________________\n",
            "embedding (Embedding)           (None, 98, 256)      5617152     input_1[0][0]                    \n",
            "__________________________________________________________________________________________________\n",
            "embedding_1 (Embedding)         (None, 104, 256)     2949376     input_2[0][0]                    \n",
            "__________________________________________________________________________________________________\n",
            "lstm (LSTM)                     [(None, 256), (None, 525312      embedding[0][0]                  \n",
            "__________________________________________________________________________________________________\n",
            "lstm_1 (LSTM)                   [(None, 104, 256), ( 525312      embedding_1[0][0]                \n",
            "                                                                 lstm[0][1]                       \n",
            "                                                                 lstm[0][2]                       \n",
            "__________________________________________________________________________________________________\n",
            "dense (Dense)                   (None, 104, 11521)   2960897     lstm_1[0][0]                     \n",
            "==================================================================================================\n",
            "Total params: 12,578,049\n",
            "Trainable params: 12,578,049\n",
            "Non-trainable params: 0\n",
            "__________________________________________________________________________________________________\n"
          ],
          "name": "stdout"
        }
      ]
    },
    {
      "cell_type": "code",
      "metadata": {
        "id": "Qghmr4qdhhym"
      },
      "source": [
        "ckp = tf.keras.callbacks.ModelCheckpoint(filepath+'model_normal.hdf5',monitor='val_loss',save_best_only=True)"
      ],
      "execution_count": 76,
      "outputs": []
    },
    {
      "cell_type": "code",
      "metadata": {
        "id": "f8qG6EzlodWe",
        "colab": {
          "base_uri": "https://localhost:8080/"
        },
        "outputId": "43fa8a94-4853-4161-ede5-03e1898e050d"
      },
      "source": [
        "# model.fit(x=[train_italian,train_english_ip],\n",
        "#           y=train_english_op,\n",
        "#           epochs=10,\n",
        "#           verbose=1,\n",
        "#           validation_data=([val_italian,val_english_ip],val_english_op),\n",
        "#           batch_size=batch_size,\n",
        "#           callbacks=[ckp,WandbCallback()])"
      ],
      "execution_count": 77,
      "outputs": [
        {
          "output_type": "stream",
          "text": [
            "Epoch 1/10\n",
            "4000/4000 [==============================] - 628s 154ms/step - loss: 0.2174 - accuracy: 0.5610 - val_loss: 0.1351 - val_accuracy: 0.7020\n",
            "Epoch 2/10\n",
            "4000/4000 [==============================] - 648s 162ms/step - loss: 0.0964 - accuracy: 0.7749 - val_loss: 0.0733 - val_accuracy: 0.8235\n",
            "Epoch 3/10\n",
            "4000/4000 [==============================] - 607s 152ms/step - loss: 0.0526 - accuracy: 0.8663 - val_loss: 0.0505 - val_accuracy: 0.8749\n",
            "Epoch 4/10\n",
            "4000/4000 [==============================] - 605s 151ms/step - loss: 0.0336 - accuracy: 0.9095 - val_loss: 0.0402 - val_accuracy: 0.8989\n",
            "Epoch 5/10\n",
            "4000/4000 [==============================] - 635s 159ms/step - loss: 0.0236 - accuracy: 0.9337 - val_loss: 0.0353 - val_accuracy: 0.9116\n",
            "Epoch 6/10\n",
            "4000/4000 [==============================] - 600s 150ms/step - loss: 0.0176 - accuracy: 0.9489 - val_loss: 0.0320 - val_accuracy: 0.9221\n",
            "Epoch 7/10\n",
            "4000/4000 [==============================] - 599s 150ms/step - loss: 0.0136 - accuracy: 0.9595 - val_loss: 0.0303 - val_accuracy: 0.9276\n",
            "Epoch 8/10\n",
            "4000/4000 [==============================] - 598s 150ms/step - loss: 0.0110 - accuracy: 0.9668 - val_loss: 0.0294 - val_accuracy: 0.9315\n",
            "Epoch 9/10\n",
            "4000/4000 [==============================] - 590s 147ms/step - loss: 0.0091 - accuracy: 0.9721 - val_loss: 0.0290 - val_accuracy: 0.9341\n",
            "Epoch 10/10\n",
            "4000/4000 [==============================] - 625s 156ms/step - loss: 0.0077 - accuracy: 0.9760 - val_loss: 0.0286 - val_accuracy: 0.9372\n"
          ],
          "name": "stdout"
        },
        {
          "output_type": "execute_result",
          "data": {
            "text/plain": [
              "<tensorflow.python.keras.callbacks.History at 0x7f18a9c7a890>"
            ]
          },
          "metadata": {
            "tags": []
          },
          "execution_count": 77
        }
      ]
    },
    {
      "cell_type": "code",
      "metadata": {
        "colab": {
          "base_uri": "https://localhost:8080/"
        },
        "id": "QAipz-YMmQzQ",
        "outputId": "53956558-92e1-4e8c-d3fb-bb5d9d76024e"
      },
      "source": [
        "# artifact = wandb.Artifact(\"model-best\",type = 'model')\n",
        "# artifact.add_file(\"/content/drive/MyDrive/italian_to_english_simple/model_normal.hdf5\")\n",
        "# run.log_artifact(artifact,name = \"model-best.h5\")\n",
        "# run.finish()"
      ],
      "execution_count": 92,
      "outputs": [
        {
          "output_type": "execute_result",
          "data": {
            "text/plain": [
              "<wandb.sdk.wandb_artifacts.Artifact at 0x7f18ab2811d0>"
            ]
          },
          "metadata": {
            "tags": []
          },
          "execution_count": 92
        }
      ]
    },
    {
      "cell_type": "code",
      "metadata": {
        "colab": {
          "base_uri": "https://localhost:8080/",
          "height": 282,
          "referenced_widgets": [
            "2b89829cb7b4479f9e15c6b5756731b5",
            "09e24ad6421f411bb19dea55e3b3121c",
            "3a9e33c11318417eae89d7fe62557392",
            "44542365a572427f932f49298defc22d",
            "ba2ce37a217549aa8d7bf02b55c11b93",
            "96e146e3dabf417180ea820681dbf512",
            "844d00a96ae24fcca58650ac7fab6614",
            "234d1906afe248e9a9cad5ec686d1a5b"
          ]
        },
        "id": "b3H_AobPoMCw",
        "outputId": "3152465e-e717-40a7-8279-a025b9825668"
      },
      "source": [
        "#using the logged artifact\n",
        "run = wandb.init(project = 'italian to english')\n",
        "artifact = run.use_artifact('ashisht7/italian to english/model-best:latest', type='model')\n",
        "artifact_dir = artifact.download()\n",
        "run.finish()\n",
        "\n",
        "path = os.path.join(artifact_dir,\"model_normal.hdf5\")"
      ],
      "execution_count": 94,
      "outputs": [
        {
          "output_type": "display_data",
          "data": {
            "text/html": [
              "\n",
              "                Tracking run with wandb version 0.10.32<br/>\n",
              "                Syncing run <strong style=\"color:#cdcd00\">prime-donkey-16</strong> to <a href=\"https://wandb.ai\" target=\"_blank\">Weights & Biases</a> <a href=\"https://docs.wandb.com/integrations/jupyter.html\" target=\"_blank\">(Documentation)</a>.<br/>\n",
              "                Project page: <a href=\"https://wandb.ai/ashisht7/italian%20to%20english\" target=\"_blank\">https://wandb.ai/ashisht7/italian%20to%20english</a><br/>\n",
              "                Run page: <a href=\"https://wandb.ai/ashisht7/italian%20to%20english/runs/3f6dnzhf\" target=\"_blank\">https://wandb.ai/ashisht7/italian%20to%20english/runs/3f6dnzhf</a><br/>\n",
              "                Run data is saved locally in <code>/content/wandb/run-20210613_182841-3f6dnzhf</code><br/><br/>\n",
              "            "
            ],
            "text/plain": [
              "<IPython.core.display.HTML object>"
            ]
          },
          "metadata": {
            "tags": []
          }
        },
        {
          "output_type": "stream",
          "text": [
            "\u001b[34m\u001b[1mwandb\u001b[0m: Downloading large artifact model-best:latest, 144.00MB. 1 files... Done. 0:0:0\n"
          ],
          "name": "stderr"
        },
        {
          "output_type": "display_data",
          "data": {
            "text/html": [
              "<br/>Waiting for W&B process to finish, PID 2160<br/>Program ended successfully."
            ],
            "text/plain": [
              "<IPython.core.display.HTML object>"
            ]
          },
          "metadata": {
            "tags": []
          }
        },
        {
          "output_type": "display_data",
          "data": {
            "application/vnd.jupyter.widget-view+json": {
              "model_id": "2b89829cb7b4479f9e15c6b5756731b5",
              "version_minor": 0,
              "version_major": 2
            },
            "text/plain": [
              "VBox(children=(Label(value=' 0.21MB of 0.21MB uploaded (0.00MB deduped)\\r'), FloatProgress(value=1.0, max=1.0)…"
            ]
          },
          "metadata": {
            "tags": []
          }
        },
        {
          "output_type": "display_data",
          "data": {
            "text/html": [
              "Find user logs for this run at: <code>/content/wandb/run-20210613_182841-3f6dnzhf/logs/debug.log</code>"
            ],
            "text/plain": [
              "<IPython.core.display.HTML object>"
            ]
          },
          "metadata": {
            "tags": []
          }
        },
        {
          "output_type": "display_data",
          "data": {
            "text/html": [
              "Find internal logs for this run at: <code>/content/wandb/run-20210613_182841-3f6dnzhf/logs/debug-internal.log</code>"
            ],
            "text/plain": [
              "<IPython.core.display.HTML object>"
            ]
          },
          "metadata": {
            "tags": []
          }
        },
        {
          "output_type": "display_data",
          "data": {
            "text/html": [
              "Synced 5 W&B file(s), 0 media file(s), 2 artifact file(s) and 1 other file(s)"
            ],
            "text/plain": [
              "<IPython.core.display.HTML object>"
            ]
          },
          "metadata": {
            "tags": []
          }
        },
        {
          "output_type": "display_data",
          "data": {
            "text/html": [
              "\n",
              "                    <br/>Synced <strong style=\"color:#cdcd00\">prime-donkey-16</strong>: <a href=\"https://wandb.ai/ashisht7/italian%20to%20english/runs/3f6dnzhf\" target=\"_blank\">https://wandb.ai/ashisht7/italian%20to%20english/runs/3f6dnzhf</a><br/>\n",
              "                "
            ],
            "text/plain": [
              "<IPython.core.display.HTML object>"
            ]
          },
          "metadata": {
            "tags": []
          }
        }
      ]
    },
    {
      "cell_type": "code",
      "metadata": {
        "id": "a81ovMtVr8aj",
        "colab": {
          "base_uri": "https://localhost:8080/"
        },
        "outputId": "75c461c8-dd51-409f-cd45-1329d9a57ff1"
      },
      "source": [
        "model = tf.keras.models.load_model(path)\n",
        "model.summary()"
      ],
      "execution_count": 95,
      "outputs": [
        {
          "output_type": "stream",
          "text": [
            "Model: \"model\"\n",
            "__________________________________________________________________________________________________\n",
            "Layer (type)                    Output Shape         Param #     Connected to                     \n",
            "==================================================================================================\n",
            "input_1 (InputLayer)            [(None, 98)]         0                                            \n",
            "__________________________________________________________________________________________________\n",
            "input_2 (InputLayer)            [(None, 104)]        0                                            \n",
            "__________________________________________________________________________________________________\n",
            "embedding (Embedding)           (None, 98, 256)      5617152     input_1[0][0]                    \n",
            "__________________________________________________________________________________________________\n",
            "embedding_1 (Embedding)         (None, 104, 256)     2949376     input_2[0][0]                    \n",
            "__________________________________________________________________________________________________\n",
            "lstm (LSTM)                     [(None, 256), (None, 525312      embedding[0][0]                  \n",
            "__________________________________________________________________________________________________\n",
            "lstm_1 (LSTM)                   [(None, 104, 256), ( 525312      embedding_1[0][0]                \n",
            "                                                                 lstm[0][1]                       \n",
            "                                                                 lstm[0][2]                       \n",
            "__________________________________________________________________________________________________\n",
            "dense (Dense)                   (None, 104, 11521)   2960897     lstm_1[0][0]                     \n",
            "==================================================================================================\n",
            "Total params: 12,578,049\n",
            "Trainable params: 12,578,049\n",
            "Non-trainable params: 0\n",
            "__________________________________________________________________________________________________\n"
          ],
          "name": "stdout"
        }
      ]
    },
    {
      "cell_type": "code",
      "metadata": {
        "id": "SxaNYl3U0LzL",
        "colab": {
          "base_uri": "https://localhost:8080/",
          "height": 533
        },
        "outputId": "cc63d03c-04d7-4cd0-be7f-b93ea30a8a55"
      },
      "source": [
        "from tensorflow.keras.utils import plot_model\n",
        "plot_model(model,show_shapes=True)"
      ],
      "execution_count": 96,
      "outputs": [
        {
          "output_type": "execute_result",
          "data": {
            "image/png": "[encoded data removed]",
            "text/plain": [
              "<IPython.core.display.Image object>"
            ]
          },
          "metadata": {
            "tags": []
          },
          "execution_count": 96
        }
      ]
    },
    {
      "cell_type": "markdown",
      "metadata": {
        "id": "1DzTenrTme0k"
      },
      "source": [
        "# Predict"
      ]
    },
    {
      "cell_type": "code",
      "metadata": {
        "id": "ZqhjSukWqGVO"
      },
      "source": [
        "def predict_model(input_sentence):\n",
        "#https://stackoverflow.com/a/43749036\n",
        "  input_sentence = input_sentence.replace('<start>','') #we need to remove all special characters so we will remove <start> and <end> and add it later if there is one\n",
        "  input_sentence = input_sentence.replace('<end>','') #encoder inp shld contain <start> and <end> as model was trained like that\n",
        "  input_sentence = preprocess_italian(input_sentence)#removes all special characters and adding <start> and <end> to the  input_sentence\n",
        "  input_sentence = np.array([input_sentence])#tokenizer works on array type otherwise there will be error\n",
        "  tokenizer_ip = ita_tokenizer.texts_to_sequences(input_sentence) #tokenizer\n",
        "  tokenizer_ip = pad_sequences(tokenizer_ip,maxlen=italian_pad,padding='post') #padding\n",
        "  encoder_embedding_op = model.layers[2](tokenizer_ip)\n",
        "  encoder_op,encoder_h,encoder_c = model.layers[4](encoder_embedding_op)  #getting the op from encoder embedding\n",
        "  states = [encoder_h,encoder_c]\n",
        "  dec_input = np.array(eng_tokenizer.word_index['<start>']).reshape((1,1)) #index of <start>, shape = 1 row 1 column, input for decoder\n",
        "  dec_op = np.array([])\n",
        "  for i in range(output_length): #maximum length of output sequence\n",
        "    decoder_embedding_op = model.layers[3](dec_input)\n",
        "    decoder_op,decoder_h,decoder_c = model.layers[5](decoder_embedding_op,initial_state = states)\n",
        "    states = [decoder_h,decoder_c]\n",
        "    dense_op = model.layers[-1](decoder_op)\n",
        "    op_value =np.argmax(dense_op) #finding the index with highest probability\n",
        "    if op_value == eng_tokenizer.word_index['<end>']:\n",
        "      break;\n",
        "    dec_op = np.append(dec_op,reverse_eng_word_index[op_value]) #appending the word to a output list\n",
        "    dec_input = np.array(op_value).reshape((1,1)) #the next input\n",
        "  \n",
        "  sentence = \" \".join(j for j in dec_op) #combining the words stored in the list as a sentence\n",
        "  return sentence"
      ],
      "execution_count": 97,
      "outputs": []
    },
    {
      "cell_type": "code",
      "metadata": {
        "id": "JHcylHhKqWjP",
        "colab": {
          "base_uri": "https://localhost:8080/",
          "height": 36
        },
        "outputId": "422a22f9-2e6a-421c-e49d-62920598ae1d"
      },
      "source": [
        "i=1\n",
        "predict_model('tu pensi che tom sia ancora in australia')"
      ],
      "execution_count": 98,
      "outputs": [
        {
          "output_type": "execute_result",
          "data": {
            "application/vnd.google.colaboratory.intrinsic+json": {
              "type": "string"
            },
            "text/plain": [
              "'start do you think that tom is still in australia end'"
            ]
          },
          "metadata": {
            "tags": []
          },
          "execution_count": 98
        }
      ]
    },
    {
      "cell_type": "code",
      "metadata": {
        "id": "MXfCV8Airx97",
        "colab": {
          "base_uri": "https://localhost:8080/",
          "height": 36
        },
        "outputId": "e8809051-7db7-4600-85ae-9377921d09c2"
      },
      "source": [
        "val.italian.values[i] #italian sentence given as input"
      ],
      "execution_count": 99,
      "outputs": [
        {
          "output_type": "execute_result",
          "data": {
            "application/vnd.google.colaboratory.intrinsic+json": {
              "type": "string"
            },
            "text/plain": [
              "'<start> start l appartamento di tom è molto ordinato end <end>'"
            ]
          },
          "metadata": {
            "tags": []
          },
          "execution_count": 99
        }
      ]
    },
    {
      "cell_type": "code",
      "metadata": {
        "id": "1u7UvyzqBxpK",
        "colab": {
          "base_uri": "https://localhost:8080/",
          "height": 36
        },
        "outputId": "44cf768f-5f77-4034-aa35-7736ae330da6"
      },
      "source": [
        "val.english.values[i] #true english translation"
      ],
      "execution_count": 100,
      "outputs": [
        {
          "output_type": "execute_result",
          "data": {
            "application/vnd.google.colaboratory.intrinsic+json": {
              "type": "string"
            },
            "text/plain": [
              "'<start> start tom is apartment is very tidy end <end>'"
            ]
          },
          "metadata": {
            "tags": []
          },
          "execution_count": 100
        }
      ]
    },
    {
      "cell_type": "markdown",
      "metadata": {
        "id": "z2E88TsUmixp"
      },
      "source": [
        "# Bleu Score"
      ]
    },
    {
      "cell_type": "code",
      "metadata": {
        "id": "UJ1gFeWEF8mV",
        "colab": {
          "base_uri": "https://localhost:8080/"
        },
        "outputId": "30204952-1a5b-496a-c015-ec52c0d286ad"
      },
      "source": [
        "k = np.random.choice(range(val.shape[0]),1000)\n",
        "bleu_score = []\n",
        "predicted_sentence = []\n",
        "for i in k:\n",
        "  predict = predict_model(val.italian.values[i])\n",
        "  predicted_sentence.append(predict)\n",
        "  reference = val.english.values[i].replace('<start>','') #replace start and end from the text\n",
        "  reference = reference.replace('<end>','').strip()\n",
        "  _ = bleu.sentence_bleu([reference],predict)\n",
        "  bleu_score.append(_)\n",
        "\n",
        "bleu_score=np.array(bleu_score)\n",
        "print(\"The average bleu score obtained is:\\n%.3f\"%(bleu_score.mean()))"
      ],
      "execution_count": 102,
      "outputs": [
        {
          "output_type": "stream",
          "text": [
            "The average bleu score obtained is:\n",
            "0.908\n"
          ],
          "name": "stdout"
        }
      ]
    }
  ]
}