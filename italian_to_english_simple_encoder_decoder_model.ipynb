{
  "nbformat": 4,
  "nbformat_minor": 0,
  "metadata": {
    "colab": {
      "name": "italian_to_english_simple_encoder_decoder_model.ipynb",
      "provenance": [],
      "collapsed_sections": [],
      "include_colab_link": true
    },
    "kernelspec": {
      "name": "python3",
      "display_name": "Python 3"
    },
    "accelerator": "GPU",
    "widgets": {
      "application/vnd.jupyter.widget-state+json": {
        "25dc2392a6cd46fa8c6c0499e7f65e2a": {
          "model_module": "@jupyter-widgets/controls",
          "model_name": "VBoxModel",
          "state": {
            "_view_name": "VBoxView",
            "_dom_classes": [],
            "_model_name": "VBoxModel",
            "_view_module": "@jupyter-widgets/controls",
            "_model_module_version": "1.5.0",
            "_view_count": null,
            "_view_module_version": "1.5.0",
            "box_style": "",
            "layout": "IPY_MODEL_fc5f061a17f841b98a7309d2ff386e7d",
            "_model_module": "@jupyter-widgets/controls",
            "children": [
              "IPY_MODEL_0816466ae75645aebc01627ae3821ec1",
              "IPY_MODEL_ca3019c4a2db41bb9bb194e1f2012525"
            ]
          }
        },
        "fc5f061a17f841b98a7309d2ff386e7d": {
          "model_module": "@jupyter-widgets/base",
          "model_name": "LayoutModel",
          "state": {
            "_view_name": "LayoutView",
            "grid_template_rows": null,
            "right": null,
            "justify_content": null,
            "_view_module": "@jupyter-widgets/base",
            "overflow": null,
            "_model_module_version": "1.2.0",
            "_view_count": null,
            "flex_flow": null,
            "width": null,
            "min_width": null,
            "border": null,
            "align_items": null,
            "bottom": null,
            "_model_module": "@jupyter-widgets/base",
            "top": null,
            "grid_column": null,
            "overflow_y": null,
            "overflow_x": null,
            "grid_auto_flow": null,
            "grid_area": null,
            "grid_template_columns": null,
            "flex": null,
            "_model_name": "LayoutModel",
            "justify_items": null,
            "grid_row": null,
            "max_height": null,
            "align_content": null,
            "visibility": null,
            "align_self": null,
            "height": null,
            "min_height": null,
            "padding": null,
            "grid_auto_rows": null,
            "grid_gap": null,
            "max_width": null,
            "order": null,
            "_view_module_version": "1.2.0",
            "grid_template_areas": null,
            "object_position": null,
            "object_fit": null,
            "grid_auto_columns": null,
            "margin": null,
            "display": null,
            "left": null
          }
        },
        "0816466ae75645aebc01627ae3821ec1": {
          "model_module": "@jupyter-widgets/controls",
          "model_name": "LabelModel",
          "state": {
            "_view_name": "LabelView",
            "style": "IPY_MODEL_f2519ef927ee4afd99b95d8aedf8cd62",
            "_dom_classes": [],
            "description": "",
            "_model_name": "LabelModel",
            "placeholder": "​",
            "_view_module": "@jupyter-widgets/controls",
            "_model_module_version": "1.5.0",
            "value": " 0.17MB of 0.17MB uploaded (0.00MB deduped)\r",
            "_view_count": null,
            "_view_module_version": "1.5.0",
            "description_tooltip": null,
            "_model_module": "@jupyter-widgets/controls",
            "layout": "IPY_MODEL_6b76e6b50dfb42ebb3b1f5e05f6d2695"
          }
        },
        "ca3019c4a2db41bb9bb194e1f2012525": {
          "model_module": "@jupyter-widgets/controls",
          "model_name": "FloatProgressModel",
          "state": {
            "_view_name": "ProgressView",
            "style": "IPY_MODEL_122cd24fc40c427d93f3e20afa13adbf",
            "_dom_classes": [],
            "description": "",
            "_model_name": "FloatProgressModel",
            "bar_style": "",
            "max": 1,
            "_view_module": "@jupyter-widgets/controls",
            "_model_module_version": "1.5.0",
            "value": 1,
            "_view_count": null,
            "_view_module_version": "1.5.0",
            "orientation": "horizontal",
            "min": 0,
            "description_tooltip": null,
            "_model_module": "@jupyter-widgets/controls",
            "layout": "IPY_MODEL_e9721abdf05543b1aa61485bb05a6a2d"
          }
        },
        "f2519ef927ee4afd99b95d8aedf8cd62": {
          "model_module": "@jupyter-widgets/controls",
          "model_name": "DescriptionStyleModel",
          "state": {
            "_view_name": "StyleView",
            "_model_name": "DescriptionStyleModel",
            "description_width": "",
            "_view_module": "@jupyter-widgets/base",
            "_model_module_version": "1.5.0",
            "_view_count": null,
            "_view_module_version": "1.2.0",
            "_model_module": "@jupyter-widgets/controls"
          }
        },
        "6b76e6b50dfb42ebb3b1f5e05f6d2695": {
          "model_module": "@jupyter-widgets/base",
          "model_name": "LayoutModel",
          "state": {
            "_view_name": "LayoutView",
            "grid_template_rows": null,
            "right": null,
            "justify_content": null,
            "_view_module": "@jupyter-widgets/base",
            "overflow": null,
            "_model_module_version": "1.2.0",
            "_view_count": null,
            "flex_flow": null,
            "width": null,
            "min_width": null,
            "border": null,
            "align_items": null,
            "bottom": null,
            "_model_module": "@jupyter-widgets/base",
            "top": null,
            "grid_column": null,
            "overflow_y": null,
            "overflow_x": null,
            "grid_auto_flow": null,
            "grid_area": null,
            "grid_template_columns": null,
            "flex": null,
            "_model_name": "LayoutModel",
            "justify_items": null,
            "grid_row": null,
            "max_height": null,
            "align_content": null,
            "visibility": null,
            "align_self": null,
            "height": null,
            "min_height": null,
            "padding": null,
            "grid_auto_rows": null,
            "grid_gap": null,
            "max_width": null,
            "order": null,
            "_view_module_version": "1.2.0",
            "grid_template_areas": null,
            "object_position": null,
            "object_fit": null,
            "grid_auto_columns": null,
            "margin": null,
            "display": null,
            "left": null
          }
        },
        "122cd24fc40c427d93f3e20afa13adbf": {
          "model_module": "@jupyter-widgets/controls",
          "model_name": "ProgressStyleModel",
          "state": {
            "_view_name": "StyleView",
            "_model_name": "ProgressStyleModel",
            "description_width": "",
            "_view_module": "@jupyter-widgets/base",
            "_model_module_version": "1.5.0",
            "_view_count": null,
            "_view_module_version": "1.2.0",
            "bar_color": null,
            "_model_module": "@jupyter-widgets/controls"
          }
        },
        "e9721abdf05543b1aa61485bb05a6a2d": {
          "model_module": "@jupyter-widgets/base",
          "model_name": "LayoutModel",
          "state": {
            "_view_name": "LayoutView",
            "grid_template_rows": null,
            "right": null,
            "justify_content": null,
            "_view_module": "@jupyter-widgets/base",
            "overflow": null,
            "_model_module_version": "1.2.0",
            "_view_count": null,
            "flex_flow": null,
            "width": null,
            "min_width": null,
            "border": null,
            "align_items": null,
            "bottom": null,
            "_model_module": "@jupyter-widgets/base",
            "top": null,
            "grid_column": null,
            "overflow_y": null,
            "overflow_x": null,
            "grid_auto_flow": null,
            "grid_area": null,
            "grid_template_columns": null,
            "flex": null,
            "_model_name": "LayoutModel",
            "justify_items": null,
            "grid_row": null,
            "max_height": null,
            "align_content": null,
            "visibility": null,
            "align_self": null,
            "height": null,
            "min_height": null,
            "padding": null,
            "grid_auto_rows": null,
            "grid_gap": null,
            "max_width": null,
            "order": null,
            "_view_module_version": "1.2.0",
            "grid_template_areas": null,
            "object_position": null,
            "object_fit": null,
            "grid_auto_columns": null,
            "margin": null,
            "display": null,
            "left": null
          }
        },
        "854aec4a1a874ca7ad32e548390bbaac": {
          "model_module": "@jupyter-widgets/controls",
          "model_name": "VBoxModel",
          "state": {
            "_view_name": "VBoxView",
            "_dom_classes": [],
            "_model_name": "VBoxModel",
            "_view_module": "@jupyter-widgets/controls",
            "_model_module_version": "1.5.0",
            "_view_count": null,
            "_view_module_version": "1.5.0",
            "box_style": "",
            "layout": "IPY_MODEL_623567884ac545438daf846b11280f0e",
            "_model_module": "@jupyter-widgets/controls",
            "children": [
              "IPY_MODEL_cba2eb15ff7d4c56a435a2e67a343412",
              "IPY_MODEL_e6c76550e6a3453fae3ec2c0ec0fbf8d"
            ]
          }
        },
        "623567884ac545438daf846b11280f0e": {
          "model_module": "@jupyter-widgets/base",
          "model_name": "LayoutModel",
          "state": {
            "_view_name": "LayoutView",
            "grid_template_rows": null,
            "right": null,
            "justify_content": null,
            "_view_module": "@jupyter-widgets/base",
            "overflow": null,
            "_model_module_version": "1.2.0",
            "_view_count": null,
            "flex_flow": null,
            "width": null,
            "min_width": null,
            "border": null,
            "align_items": null,
            "bottom": null,
            "_model_module": "@jupyter-widgets/base",
            "top": null,
            "grid_column": null,
            "overflow_y": null,
            "overflow_x": null,
            "grid_auto_flow": null,
            "grid_area": null,
            "grid_template_columns": null,
            "flex": null,
            "_model_name": "LayoutModel",
            "justify_items": null,
            "grid_row": null,
            "max_height": null,
            "align_content": null,
            "visibility": null,
            "align_self": null,
            "height": null,
            "min_height": null,
            "padding": null,
            "grid_auto_rows": null,
            "grid_gap": null,
            "max_width": null,
            "order": null,
            "_view_module_version": "1.2.0",
            "grid_template_areas": null,
            "object_position": null,
            "object_fit": null,
            "grid_auto_columns": null,
            "margin": null,
            "display": null,
            "left": null
          }
        },
        "cba2eb15ff7d4c56a435a2e67a343412": {
          "model_module": "@jupyter-widgets/controls",
          "model_name": "LabelModel",
          "state": {
            "_view_name": "LabelView",
            "style": "IPY_MODEL_af83bf5379124205ad7263e6904b616a",
            "_dom_classes": [],
            "description": "",
            "_model_name": "LabelModel",
            "placeholder": "​",
            "_view_module": "@jupyter-widgets/controls",
            "_model_module_version": "1.5.0",
            "value": " 0.15MB of 0.15MB uploaded (0.00MB deduped)\r",
            "_view_count": null,
            "_view_module_version": "1.5.0",
            "description_tooltip": null,
            "_model_module": "@jupyter-widgets/controls",
            "layout": "IPY_MODEL_e45752304d104194a1b90d3b8307c20f"
          }
        },
        "e6c76550e6a3453fae3ec2c0ec0fbf8d": {
          "model_module": "@jupyter-widgets/controls",
          "model_name": "FloatProgressModel",
          "state": {
            "_view_name": "ProgressView",
            "style": "IPY_MODEL_7fc55460a16d43bd9a606cffd2e53a45",
            "_dom_classes": [],
            "description": "",
            "_model_name": "FloatProgressModel",
            "bar_style": "",
            "max": 1,
            "_view_module": "@jupyter-widgets/controls",
            "_model_module_version": "1.5.0",
            "value": 1,
            "_view_count": null,
            "_view_module_version": "1.5.0",
            "orientation": "horizontal",
            "min": 0,
            "description_tooltip": null,
            "_model_module": "@jupyter-widgets/controls",
            "layout": "IPY_MODEL_a342e981c3b640018ecad81ecabe7c4c"
          }
        },
        "af83bf5379124205ad7263e6904b616a": {
          "model_module": "@jupyter-widgets/controls",
          "model_name": "DescriptionStyleModel",
          "state": {
            "_view_name": "StyleView",
            "_model_name": "DescriptionStyleModel",
            "description_width": "",
            "_view_module": "@jupyter-widgets/base",
            "_model_module_version": "1.5.0",
            "_view_count": null,
            "_view_module_version": "1.2.0",
            "_model_module": "@jupyter-widgets/controls"
          }
        },
        "e45752304d104194a1b90d3b8307c20f": {
          "model_module": "@jupyter-widgets/base",
          "model_name": "LayoutModel",
          "state": {
            "_view_name": "LayoutView",
            "grid_template_rows": null,
            "right": null,
            "justify_content": null,
            "_view_module": "@jupyter-widgets/base",
            "overflow": null,
            "_model_module_version": "1.2.0",
            "_view_count": null,
            "flex_flow": null,
            "width": null,
            "min_width": null,
            "border": null,
            "align_items": null,
            "bottom": null,
            "_model_module": "@jupyter-widgets/base",
            "top": null,
            "grid_column": null,
            "overflow_y": null,
            "overflow_x": null,
            "grid_auto_flow": null,
            "grid_area": null,
            "grid_template_columns": null,
            "flex": null,
            "_model_name": "LayoutModel",
            "justify_items": null,
            "grid_row": null,
            "max_height": null,
            "align_content": null,
            "visibility": null,
            "align_self": null,
            "height": null,
            "min_height": null,
            "padding": null,
            "grid_auto_rows": null,
            "grid_gap": null,
            "max_width": null,
            "order": null,
            "_view_module_version": "1.2.0",
            "grid_template_areas": null,
            "object_position": null,
            "object_fit": null,
            "grid_auto_columns": null,
            "margin": null,
            "display": null,
            "left": null
          }
        },
        "7fc55460a16d43bd9a606cffd2e53a45": {
          "model_module": "@jupyter-widgets/controls",
          "model_name": "ProgressStyleModel",
          "state": {
            "_view_name": "StyleView",
            "_model_name": "ProgressStyleModel",
            "description_width": "",
            "_view_module": "@jupyter-widgets/base",
            "_model_module_version": "1.5.0",
            "_view_count": null,
            "_view_module_version": "1.2.0",
            "bar_color": null,
            "_model_module": "@jupyter-widgets/controls"
          }
        },
        "a342e981c3b640018ecad81ecabe7c4c": {
          "model_module": "@jupyter-widgets/base",
          "model_name": "LayoutModel",
          "state": {
            "_view_name": "LayoutView",
            "grid_template_rows": null,
            "right": null,
            "justify_content": null,
            "_view_module": "@jupyter-widgets/base",
            "overflow": null,
            "_model_module_version": "1.2.0",
            "_view_count": null,
            "flex_flow": null,
            "width": null,
            "min_width": null,
            "border": null,
            "align_items": null,
            "bottom": null,
            "_model_module": "@jupyter-widgets/base",
            "top": null,
            "grid_column": null,
            "overflow_y": null,
            "overflow_x": null,
            "grid_auto_flow": null,
            "grid_area": null,
            "grid_template_columns": null,
            "flex": null,
            "_model_name": "LayoutModel",
            "justify_items": null,
            "grid_row": null,
            "max_height": null,
            "align_content": null,
            "visibility": null,
            "align_self": null,
            "height": null,
            "min_height": null,
            "padding": null,
            "grid_auto_rows": null,
            "grid_gap": null,
            "max_width": null,
            "order": null,
            "_view_module_version": "1.2.0",
            "grid_template_areas": null,
            "object_position": null,
            "object_fit": null,
            "grid_auto_columns": null,
            "margin": null,
            "display": null,
            "left": null
          }
        },
        "d5a10191a53c4bed8ab0470f2ca969a7": {
          "model_module": "@jupyter-widgets/controls",
          "model_name": "VBoxModel",
          "state": {
            "_view_name": "VBoxView",
            "_dom_classes": [],
            "_model_name": "VBoxModel",
            "_view_module": "@jupyter-widgets/controls",
            "_model_module_version": "1.5.0",
            "_view_count": null,
            "_view_module_version": "1.5.0",
            "box_style": "",
            "layout": "IPY_MODEL_3bd256ef8a8c405587bfa2fb1a242dab",
            "_model_module": "@jupyter-widgets/controls",
            "children": [
              "IPY_MODEL_f5d532e53c884810882b092496ca8687",
              "IPY_MODEL_87c57bf511dc4539b48510fa2eef685c"
            ]
          }
        },
        "3bd256ef8a8c405587bfa2fb1a242dab": {
          "model_module": "@jupyter-widgets/base",
          "model_name": "LayoutModel",
          "state": {
            "_view_name": "LayoutView",
            "grid_template_rows": null,
            "right": null,
            "justify_content": null,
            "_view_module": "@jupyter-widgets/base",
            "overflow": null,
            "_model_module_version": "1.2.0",
            "_view_count": null,
            "flex_flow": null,
            "width": null,
            "min_width": null,
            "border": null,
            "align_items": null,
            "bottom": null,
            "_model_module": "@jupyter-widgets/base",
            "top": null,
            "grid_column": null,
            "overflow_y": null,
            "overflow_x": null,
            "grid_auto_flow": null,
            "grid_area": null,
            "grid_template_columns": null,
            "flex": null,
            "_model_name": "LayoutModel",
            "justify_items": null,
            "grid_row": null,
            "max_height": null,
            "align_content": null,
            "visibility": null,
            "align_self": null,
            "height": null,
            "min_height": null,
            "padding": null,
            "grid_auto_rows": null,
            "grid_gap": null,
            "max_width": null,
            "order": null,
            "_view_module_version": "1.2.0",
            "grid_template_areas": null,
            "object_position": null,
            "object_fit": null,
            "grid_auto_columns": null,
            "margin": null,
            "display": null,
            "left": null
          }
        },
        "f5d532e53c884810882b092496ca8687": {
          "model_module": "@jupyter-widgets/controls",
          "model_name": "LabelModel",
          "state": {
            "_view_name": "LabelView",
            "style": "IPY_MODEL_770f3718da684c8e86d3a79a248af570",
            "_dom_classes": [],
            "description": "",
            "_model_name": "LabelModel",
            "placeholder": "​",
            "_view_module": "@jupyter-widgets/controls",
            "_model_module_version": "1.5.0",
            "value": " 288.89MB of 288.89MB uploaded (0.00MB deduped)\r",
            "_view_count": null,
            "_view_module_version": "1.5.0",
            "description_tooltip": null,
            "_model_module": "@jupyter-widgets/controls",
            "layout": "IPY_MODEL_f93d40cfd181457c92b5941cbe3f498a"
          }
        },
        "87c57bf511dc4539b48510fa2eef685c": {
          "model_module": "@jupyter-widgets/controls",
          "model_name": "FloatProgressModel",
          "state": {
            "_view_name": "ProgressView",
            "style": "IPY_MODEL_43fdaba677a84dff9f3dbace6a055568",
            "_dom_classes": [],
            "description": "",
            "_model_name": "FloatProgressModel",
            "bar_style": "",
            "max": 1,
            "_view_module": "@jupyter-widgets/controls",
            "_model_module_version": "1.5.0",
            "value": 1,
            "_view_count": null,
            "_view_module_version": "1.5.0",
            "orientation": "horizontal",
            "min": 0,
            "description_tooltip": null,
            "_model_module": "@jupyter-widgets/controls",
            "layout": "IPY_MODEL_bbdf4088edd8484c99ea39cfb26ae48d"
          }
        },
        "770f3718da684c8e86d3a79a248af570": {
          "model_module": "@jupyter-widgets/controls",
          "model_name": "DescriptionStyleModel",
          "state": {
            "_view_name": "StyleView",
            "_model_name": "DescriptionStyleModel",
            "description_width": "",
            "_view_module": "@jupyter-widgets/base",
            "_model_module_version": "1.5.0",
            "_view_count": null,
            "_view_module_version": "1.2.0",
            "_model_module": "@jupyter-widgets/controls"
          }
        },
        "f93d40cfd181457c92b5941cbe3f498a": {
          "model_module": "@jupyter-widgets/base",
          "model_name": "LayoutModel",
          "state": {
            "_view_name": "LayoutView",
            "grid_template_rows": null,
            "right": null,
            "justify_content": null,
            "_view_module": "@jupyter-widgets/base",
            "overflow": null,
            "_model_module_version": "1.2.0",
            "_view_count": null,
            "flex_flow": null,
            "width": null,
            "min_width": null,
            "border": null,
            "align_items": null,
            "bottom": null,
            "_model_module": "@jupyter-widgets/base",
            "top": null,
            "grid_column": null,
            "overflow_y": null,
            "overflow_x": null,
            "grid_auto_flow": null,
            "grid_area": null,
            "grid_template_columns": null,
            "flex": null,
            "_model_name": "LayoutModel",
            "justify_items": null,
            "grid_row": null,
            "max_height": null,
            "align_content": null,
            "visibility": null,
            "align_self": null,
            "height": null,
            "min_height": null,
            "padding": null,
            "grid_auto_rows": null,
            "grid_gap": null,
            "max_width": null,
            "order": null,
            "_view_module_version": "1.2.0",
            "grid_template_areas": null,
            "object_position": null,
            "object_fit": null,
            "grid_auto_columns": null,
            "margin": null,
            "display": null,
            "left": null
          }
        },
        "43fdaba677a84dff9f3dbace6a055568": {
          "model_module": "@jupyter-widgets/controls",
          "model_name": "ProgressStyleModel",
          "state": {
            "_view_name": "StyleView",
            "_model_name": "ProgressStyleModel",
            "description_width": "",
            "_view_module": "@jupyter-widgets/base",
            "_model_module_version": "1.5.0",
            "_view_count": null,
            "_view_module_version": "1.2.0",
            "bar_color": null,
            "_model_module": "@jupyter-widgets/controls"
          }
        },
        "bbdf4088edd8484c99ea39cfb26ae48d": {
          "model_module": "@jupyter-widgets/base",
          "model_name": "LayoutModel",
          "state": {
            "_view_name": "LayoutView",
            "grid_template_rows": null,
            "right": null,
            "justify_content": null,
            "_view_module": "@jupyter-widgets/base",
            "overflow": null,
            "_model_module_version": "1.2.0",
            "_view_count": null,
            "flex_flow": null,
            "width": null,
            "min_width": null,
            "border": null,
            "align_items": null,
            "bottom": null,
            "_model_module": "@jupyter-widgets/base",
            "top": null,
            "grid_column": null,
            "overflow_y": null,
            "overflow_x": null,
            "grid_auto_flow": null,
            "grid_area": null,
            "grid_template_columns": null,
            "flex": null,
            "_model_name": "LayoutModel",
            "justify_items": null,
            "grid_row": null,
            "max_height": null,
            "align_content": null,
            "visibility": null,
            "align_self": null,
            "height": null,
            "min_height": null,
            "padding": null,
            "grid_auto_rows": null,
            "grid_gap": null,
            "max_width": null,
            "order": null,
            "_view_module_version": "1.2.0",
            "grid_template_areas": null,
            "object_position": null,
            "object_fit": null,
            "grid_auto_columns": null,
            "margin": null,
            "display": null,
            "left": null
          }
        },
        "9b89eee74b554062aef6a7d1e697905e": {
          "model_module": "@jupyter-widgets/controls",
          "model_name": "VBoxModel",
          "state": {
            "_view_name": "VBoxView",
            "_dom_classes": [],
            "_model_name": "VBoxModel",
            "_view_module": "@jupyter-widgets/controls",
            "_model_module_version": "1.5.0",
            "_view_count": null,
            "_view_module_version": "1.5.0",
            "box_style": "",
            "layout": "IPY_MODEL_3130bc9e148a42de96102710b4392cb7",
            "_model_module": "@jupyter-widgets/controls",
            "children": [
              "IPY_MODEL_4437b7fd24354584901f5c293639718f",
              "IPY_MODEL_b7fa656db41f472bb5f47789692e75d9"
            ]
          }
        },
        "3130bc9e148a42de96102710b4392cb7": {
          "model_module": "@jupyter-widgets/base",
          "model_name": "LayoutModel",
          "state": {
            "_view_name": "LayoutView",
            "grid_template_rows": null,
            "right": null,
            "justify_content": null,
            "_view_module": "@jupyter-widgets/base",
            "overflow": null,
            "_model_module_version": "1.2.0",
            "_view_count": null,
            "flex_flow": null,
            "width": null,
            "min_width": null,
            "border": null,
            "align_items": null,
            "bottom": null,
            "_model_module": "@jupyter-widgets/base",
            "top": null,
            "grid_column": null,
            "overflow_y": null,
            "overflow_x": null,
            "grid_auto_flow": null,
            "grid_area": null,
            "grid_template_columns": null,
            "flex": null,
            "_model_name": "LayoutModel",
            "justify_items": null,
            "grid_row": null,
            "max_height": null,
            "align_content": null,
            "visibility": null,
            "align_self": null,
            "height": null,
            "min_height": null,
            "padding": null,
            "grid_auto_rows": null,
            "grid_gap": null,
            "max_width": null,
            "order": null,
            "_view_module_version": "1.2.0",
            "grid_template_areas": null,
            "object_position": null,
            "object_fit": null,
            "grid_auto_columns": null,
            "margin": null,
            "display": null,
            "left": null
          }
        },
        "4437b7fd24354584901f5c293639718f": {
          "model_module": "@jupyter-widgets/controls",
          "model_name": "LabelModel",
          "state": {
            "_view_name": "LabelView",
            "style": "IPY_MODEL_a6d1c5d0af9e465195984f731b05a4ab",
            "_dom_classes": [],
            "description": "",
            "_model_name": "LabelModel",
            "placeholder": "​",
            "_view_module": "@jupyter-widgets/controls",
            "_model_module_version": "1.5.0",
            "value": " 0.02MB of 0.02MB uploaded (0.00MB deduped)\r",
            "_view_count": null,
            "_view_module_version": "1.5.0",
            "description_tooltip": null,
            "_model_module": "@jupyter-widgets/controls",
            "layout": "IPY_MODEL_95130916fea447239ff6a8b883172968"
          }
        },
        "b7fa656db41f472bb5f47789692e75d9": {
          "model_module": "@jupyter-widgets/controls",
          "model_name": "FloatProgressModel",
          "state": {
            "_view_name": "ProgressView",
            "style": "IPY_MODEL_f873752dd1ba4869b37ec9436c920622",
            "_dom_classes": [],
            "description": "",
            "_model_name": "FloatProgressModel",
            "bar_style": "",
            "max": 1,
            "_view_module": "@jupyter-widgets/controls",
            "_model_module_version": "1.5.0",
            "value": 1,
            "_view_count": null,
            "_view_module_version": "1.5.0",
            "orientation": "horizontal",
            "min": 0,
            "description_tooltip": null,
            "_model_module": "@jupyter-widgets/controls",
            "layout": "IPY_MODEL_5b150df1f6804038a2a6335557c20830"
          }
        },
        "a6d1c5d0af9e465195984f731b05a4ab": {
          "model_module": "@jupyter-widgets/controls",
          "model_name": "DescriptionStyleModel",
          "state": {
            "_view_name": "StyleView",
            "_model_name": "DescriptionStyleModel",
            "description_width": "",
            "_view_module": "@jupyter-widgets/base",
            "_model_module_version": "1.5.0",
            "_view_count": null,
            "_view_module_version": "1.2.0",
            "_model_module": "@jupyter-widgets/controls"
          }
        },
        "95130916fea447239ff6a8b883172968": {
          "model_module": "@jupyter-widgets/base",
          "model_name": "LayoutModel",
          "state": {
            "_view_name": "LayoutView",
            "grid_template_rows": null,
            "right": null,
            "justify_content": null,
            "_view_module": "@jupyter-widgets/base",
            "overflow": null,
            "_model_module_version": "1.2.0",
            "_view_count": null,
            "flex_flow": null,
            "width": null,
            "min_width": null,
            "border": null,
            "align_items": null,
            "bottom": null,
            "_model_module": "@jupyter-widgets/base",
            "top": null,
            "grid_column": null,
            "overflow_y": null,
            "overflow_x": null,
            "grid_auto_flow": null,
            "grid_area": null,
            "grid_template_columns": null,
            "flex": null,
            "_model_name": "LayoutModel",
            "justify_items": null,
            "grid_row": null,
            "max_height": null,
            "align_content": null,
            "visibility": null,
            "align_self": null,
            "height": null,
            "min_height": null,
            "padding": null,
            "grid_auto_rows": null,
            "grid_gap": null,
            "max_width": null,
            "order": null,
            "_view_module_version": "1.2.0",
            "grid_template_areas": null,
            "object_position": null,
            "object_fit": null,
            "grid_auto_columns": null,
            "margin": null,
            "display": null,
            "left": null
          }
        },
        "f873752dd1ba4869b37ec9436c920622": {
          "model_module": "@jupyter-widgets/controls",
          "model_name": "ProgressStyleModel",
          "state": {
            "_view_name": "StyleView",
            "_model_name": "ProgressStyleModel",
            "description_width": "",
            "_view_module": "@jupyter-widgets/base",
            "_model_module_version": "1.5.0",
            "_view_count": null,
            "_view_module_version": "1.2.0",
            "bar_color": null,
            "_model_module": "@jupyter-widgets/controls"
          }
        },
        "5b150df1f6804038a2a6335557c20830": {
          "model_module": "@jupyter-widgets/base",
          "model_name": "LayoutModel",
          "state": {
            "_view_name": "LayoutView",
            "grid_template_rows": null,
            "right": null,
            "justify_content": null,
            "_view_module": "@jupyter-widgets/base",
            "overflow": null,
            "_model_module_version": "1.2.0",
            "_view_count": null,
            "flex_flow": null,
            "width": null,
            "min_width": null,
            "border": null,
            "align_items": null,
            "bottom": null,
            "_model_module": "@jupyter-widgets/base",
            "top": null,
            "grid_column": null,
            "overflow_y": null,
            "overflow_x": null,
            "grid_auto_flow": null,
            "grid_area": null,
            "grid_template_columns": null,
            "flex": null,
            "_model_name": "LayoutModel",
            "justify_items": null,
            "grid_row": null,
            "max_height": null,
            "align_content": null,
            "visibility": null,
            "align_self": null,
            "height": null,
            "min_height": null,
            "padding": null,
            "grid_auto_rows": null,
            "grid_gap": null,
            "max_width": null,
            "order": null,
            "_view_module_version": "1.2.0",
            "grid_template_areas": null,
            "object_position": null,
            "object_fit": null,
            "grid_auto_columns": null,
            "margin": null,
            "display": null,
            "left": null
          }
        }
      }
    }
  },
  "cells": [
    {
      "cell_type": "markdown",
      "metadata": {
        "id": "view-in-github",
        "colab_type": "text"
      },
      "source": [
        "<a href=\"https://colab.research.google.com/github/ashishthomaschempolil/Neural-Machine-Translation-Italian-to-English/blob/master/italian_to_english_simple_encoder_decoder_model.ipynb\" target=\"_parent\"><img src=\"https://colab.research.google.com/assets/colab-badge.svg\" alt=\"Open In Colab\"/></a>"
      ]
    },
    {
      "cell_type": "markdown",
      "metadata": {
        "id": "lGCUazznTtnA"
      },
      "source": [
        "[dataset](http://www.manythings.org/anki/ita-eng.zip)"
      ]
    },
    {
      "cell_type": "code",
      "metadata": {
        "colab": {
          "base_uri": "https://localhost:8080/"
        },
        "id": "kpVlso_97dZ6",
        "outputId": "3374cec6-5b6d-45b8-a838-67893ffae0a8"
      },
      "source": [
        "!pip install -qq wandb"
      ],
      "execution_count": 1,
      "outputs": [
        {
          "output_type": "stream",
          "text": [
            "\u001b[K     |████████████████████████████████| 1.8MB 7.0MB/s \n",
            "\u001b[K     |████████████████████████████████| 102kB 13.5MB/s \n",
            "\u001b[K     |████████████████████████████████| 133kB 26.4MB/s \n",
            "\u001b[K     |████████████████████████████████| 163kB 33.1MB/s \n",
            "\u001b[K     |████████████████████████████████| 71kB 9.8MB/s \n",
            "\u001b[?25h  Building wheel for subprocess32 (setup.py) ... \u001b[?25l\u001b[?25hdone\n",
            "  Building wheel for pathtools (setup.py) ... \u001b[?25l\u001b[?25hdone\n"
          ],
          "name": "stdout"
        }
      ]
    },
    {
      "cell_type": "code",
      "metadata": {
        "id": "DxpLemF_itGg"
      },
      "source": [
        "import warnings\n",
        "warnings.filterwarnings(\"ignore\")\n",
        "import pandas as pd\n",
        "import matplotlib.pyplot as plt\n",
        "import seaborn as sns\n",
        "sns.set(palette='muted',style='whitegrid')\n",
        "import re\n",
        "from multiprocessing import Process# this is used for multithreading\n",
        "import multiprocessing\n",
        "import tensorflow as tf\n",
        "tf.compat.v1.enable_eager_execution()\n",
        "from tensorflow.keras.layers import TimeDistributed\n",
        "tf.keras.backend.clear_session()\n",
        "from tensorflow.keras.layers import Input, Softmax, RNN, Dense, Embedding, LSTM,Dot\n",
        "from tensorflow.keras.models import Model\n",
        "from sklearn.model_selection import train_test_split\n",
        "import numpy as np\n",
        "import keras.backend as K\n",
        "import nltk.translate.bleu_score as bleu\n",
        "import os\n",
        "import wandb\n",
        "from wandb.keras import WandbCallback"
      ],
      "execution_count": 2,
      "outputs": []
    },
    {
      "cell_type": "markdown",
      "metadata": {
        "id": "3k_AlAuKJqVA"
      },
      "source": [
        "<font color='blue'>**Load the data**</font>"
      ]
    },
    {
      "cell_type": "code",
      "metadata": {
        "id": "ZZVBzt2ijxkT",
        "colab": {
          "base_uri": "https://localhost:8080/"
        },
        "outputId": "64b9e7e6-3ca6-4fce-be43-4042c80ed54c"
      },
      "source": [
        "!curl --header 'Host: www.manythings.org' --user-agent 'Mozilla/5.0 (Macintosh; Intel Mac OS X 10.15; rv:89.0) Gecko/20100101 Firefox/89.0' --header 'Accept: text/html,application/xhtml+xml,application/xml;q=0.9,image/webp,*/*;q=0.8' --header 'Accept-Language: en-US,en;q=0.5' --referer 'https://colab.research.google.com/' --header 'DNT: 1' --header 'Upgrade-Insecure-Requests: 1' 'http://www.manythings.org/anki/ita-eng.zip' --output 'ita-eng.zip'"
      ],
      "execution_count": null,
      "outputs": [
        {
          "output_type": "stream",
          "text": [
            "  % Total    % Received % Xferd  Average Speed   Time    Time     Time  Current\n",
            "                                 Dload  Upload   Total   Spent    Left  Speed\n",
            "100 7466k  100 7466k    0     0  6453k      0  0:00:01  0:00:01 --:--:-- 6453k\n"
          ],
          "name": "stdout"
        }
      ]
    },
    {
      "cell_type": "code",
      "metadata": {
        "id": "GDtNU3RDj05C"
      },
      "source": [
        "!unzip -qq '/content/ita-eng.zip'"
      ],
      "execution_count": null,
      "outputs": []
    },
    {
      "cell_type": "code",
      "metadata": {
        "id": "x554C7-AitGn",
        "colab": {
          "base_uri": "https://localhost:8080/"
        },
        "outputId": "4b06667e-36a3-4984-99d9-c8f92de4ac8e"
      },
      "source": [
        "filepath = './ita.txt'\n",
        "f = open(filepath,'r',encoding=\"utf8\")\n",
        "lines = f.readlines()\n",
        "total = len(lines) #340432\n",
        "print(\"Sample text:\\n\")\n",
        "print(lines[-1],'\\n','*'*100,'\\n')\n",
        "print(\"The total no. of datapoints:\",total)\n",
        "f.close()"
      ],
      "execution_count": null,
      "outputs": [
        {
          "output_type": "stream",
          "text": [
            "Sample text:\n",
            "\n",
            "Doubtless there exists in this world precisely the right woman for any given man to marry and vice versa; but when you consider that a human being has the opportunity of being acquainted with only a few hundred people, and out of the few hundred that there are but a dozen or less whom he knows intimately, and out of the dozen, one or two friends at most, it will easily be seen, when we remember the number of millions who inhabit this world, that probably, since the earth was created, the right man has never yet met the right woman.\tSenza dubbio esiste in questo mondo proprio la donna giusta per ogni uomo da sposare e viceversa; ma se si considera che un essere umano ha l'opportunità di conoscere solo poche centinaia di persone, e fra le poche centinaia che ce ne sono solo una dozzina o meno che conosce intimamente e fra la dozzina, uno o due amici al massimo, si vedrà facilmente, quando ricorderemo il numero di milioni che abitano questo mondo, che probabilmente, da quando è stata creata la terra, l'uomo giusto non ha mai incontrato la donna giusta.\tCC-BY 2.0 (France) Attribution: tatoeba.org #7697649 (RM) & #8729772 (Guybrush88)\n",
            " \n",
            " **************************************************************************************************** \n",
            "\n",
            "The total no. of datapoints: 348324\n"
          ],
          "name": "stdout"
        }
      ]
    },
    {
      "cell_type": "markdown",
      "metadata": {
        "id": "vmGWTdRmKRph"
      },
      "source": [
        "<font color='blue'>**Preprocess data**</font>"
      ]
    },
    {
      "cell_type": "code",
      "metadata": {
        "id": "mJocXArQuXim",
        "colab": {
          "base_uri": "https://localhost:8080/"
        },
        "outputId": "bbff9f08-9d7f-4e63-ff58-54d4c62fa47a"
      },
      "source": [
        "from google.colab import drive\n",
        "drive.mount('/content/drive')"
      ],
      "execution_count": null,
      "outputs": [
        {
          "output_type": "stream",
          "text": [
            "Mounted at /content/drive\n"
          ],
          "name": "stdout"
        }
      ]
    },
    {
      "cell_type": "code",
      "metadata": {
        "id": "jS4rdve54B-T"
      },
      "source": [
        "filepath = '/content/drive/My Drive/italian_to_english_simple/'"
      ],
      "execution_count": null,
      "outputs": []
    },
    {
      "cell_type": "code",
      "metadata": {
        "id": "9QqElB_nKZos",
        "colab": {
          "base_uri": "https://localhost:8080/"
        },
        "outputId": "ac5e5ed0-5c27-44d5-9119-790386781f87"
      },
      "source": [
        "%%time\n",
        "# https://stackoverflow.com/a/47091490/4084039\n",
        "def decontracted(phrase): \n",
        "    \"\"\"Expanding English language contractions in Python\"\"\"\n",
        "    phrase = re.sub(r\"won\\'t\", \"will not\", phrase)\n",
        "    phrase = re.sub(r\"can\\'t\", \"can not\", phrase)\n",
        "\n",
        "    # general\n",
        "    phrase = re.sub(r\"n\\'t\", \" not\", phrase)\n",
        "    phrase = re.sub(r\"\\'re\", \" are\", phrase)\n",
        "    phrase = re.sub(r\"\\'s\", \" is\", phrase)\n",
        "    phrase = re.sub(r\"\\'d\", \" would\", phrase)\n",
        "    phrase = re.sub(r\"\\'ll\", \" will\", phrase)\n",
        "    phrase = re.sub(r\"\\'t\", \" not\", phrase)\n",
        "    phrase = re.sub(r\"\\'ve\", \" have\", phrase)\n",
        "    phrase = re.sub(r\"\\'m\", \" am\", phrase)\n",
        "    return phrase\n",
        "\n",
        "\n",
        "def preprocess(start,end,label):\n",
        "    \"\"\"\n",
        "    preprocess the data from start to end that is given and saves it to label.pkl\n",
        "    if end is False assumes till the end of the list\n",
        "    \"\"\"\n",
        "    \n",
        "    if end:\n",
        "        df = pd.DataFrame(columns=['italian','english'])\n",
        "        with open(filepath,'r',encoding=\"utf8\") as f:\n",
        "            italian = np.array([])\n",
        "            english = np.array([])\n",
        "            for l in f.readlines()[start:end]:\n",
        "                line = re.sub('CC.*',\"\",l) #removing all characters after the start of word CC \n",
        "                line = re.sub('\\t',\"_\",line) #to differentiate between italian and english.\n",
        "                k = line.split('_') #1st will be english and 2nd will be italian of the word\n",
        "                english = np.append(english,decontracted(k[0]).strip().lower()) ##expanding english language contractions and remove trailing spaces and lower all characters\n",
        "                italian = np.append(italian,k[1].strip().lower())\n",
        "        df['italian'] = italian\n",
        "        df['english'] = english\n",
        "    else:\n",
        "        df = pd.DataFrame(columns=['italian','english'])\n",
        "        with open(filepath,'r',encoding=\"utf8\") as f:\n",
        "            italian = np.array([])\n",
        "            english = np.array([])\n",
        "            for l in f.readlines()[start:]:\n",
        "                line = re.sub('CC.*',\"\",l) #removing all characters after the start of word CC \n",
        "                line = re.sub('\\t',\"_\",line) #to differentiate between italian and english.\n",
        "                k = line.split('_') #1st will be english and 2nd will be italian of the word\n",
        "                english = np.append(english,decontracted(k[0]).strip().lower()) ##expanding english language contractions and remove trailing spaces and lower all characters\n",
        "                italian = np.append(italian,k[1].strip().lower())\n",
        "        df['italian'] = italian\n",
        "        df['english'] = english\n",
        "    df.to_pickle(label+'.pkl')\n",
        "\n",
        "def process1():\n",
        "    \"\"\"\n",
        "    first process\n",
        "    \"\"\"\n",
        "    preprocess(start=0,end=int(total/4),label='df1')\n",
        "    \n",
        "\n",
        "def process2():\n",
        "    \"\"\"\n",
        "    first process\n",
        "    \"\"\"\n",
        "    preprocess(start=int(total/4),end=int(2*total/4),label='df2')\n",
        "    \n",
        "\n",
        "def process3():\n",
        "    \"\"\"\n",
        "    first process\n",
        "    \"\"\"\n",
        "    preprocess(start=int(2*total/4),end=int(3*total/4),label='df3')\n",
        "    \n",
        "\n",
        "def process4():\n",
        "    \"\"\"\n",
        "    first process\n",
        "    \"\"\"\n",
        "    preprocess(start=int(3*total/4),end=False,label = 'df4')\n",
        "\n",
        "def main():\n",
        "    #process is used to call multiprogramming\n",
        "    manager=multiprocessing.Manager() \t\n",
        "    p1=Process(target=process1)\n",
        "    p2=Process(target=process2)\n",
        "    p3=Process(target=process3)\n",
        "    p4=Process(target=process4)\n",
        "    #p1.start() is used to start the thread execution\n",
        "    p1.start()\n",
        "    p2.start()\n",
        "    p3.start()\n",
        "    p4.start()\n",
        "    #After completion all the threads are joined\n",
        "    p1.join()\n",
        "    p2.join()\n",
        "    p3.join()\n",
        "    p4.join()\n",
        "\n",
        "if __name__==\"__main__\":\n",
        "  if 'df.pkl' not in os.listdir(filepath):\n",
        "    main()\n",
        "  else:\n",
        "    print(\"df.pkl already generated\")"
      ],
      "execution_count": null,
      "outputs": [
        {
          "output_type": "stream",
          "text": [
            "df.pkl already generated\n",
            "CPU times: user 278 µs, sys: 62 µs, total: 340 µs\n",
            "Wall time: 746 µs\n"
          ],
          "name": "stdout"
        }
      ]
    },
    {
      "cell_type": "code",
      "metadata": {
        "id": "RGqCcY4mitGx"
      },
      "source": [
        "# run = wandb.init(project = 'italian to english',name = 'dataset_generation')\n",
        "# filepath = '/content/drive/My Drive/italian_to_english_simple/'\n",
        "# df1 = pd.read_pickle(filepath+'df1.pkl')\n",
        "# df2 = pd.read_pickle(filepath+'df2.pkl')\n",
        "# df3 = pd.read_pickle(filepath+'df3.pkl')\n",
        "# df4 = pd.read_pickle(filepath+'df4.pkl')\n",
        "# df = df1.append([df2,df3,df4]).reset_index(drop=True)\n",
        "# del df1,df2,df3,df4\n",
        "# artifact = wandb.Artifact(name = \"dataframe_unprocessed\",type = 'dataset')\n",
        "# artifact.add_file(os.path.join(filepath,'df.pkl'))\n",
        "# run.log_artifact(artifact)\n",
        "# run.finish()"
      ],
      "execution_count": null,
      "outputs": []
    },
    {
      "cell_type": "code",
      "metadata": {
        "colab": {
          "base_uri": "https://localhost:8080/",
          "height": 263,
          "referenced_widgets": [
            "25dc2392a6cd46fa8c6c0499e7f65e2a",
            "fc5f061a17f841b98a7309d2ff386e7d",
            "0816466ae75645aebc01627ae3821ec1",
            "ca3019c4a2db41bb9bb194e1f2012525",
            "f2519ef927ee4afd99b95d8aedf8cd62",
            "6b76e6b50dfb42ebb3b1f5e05f6d2695",
            "122cd24fc40c427d93f3e20afa13adbf",
            "e9721abdf05543b1aa61485bb05a6a2d"
          ]
        },
        "id": "x05U57qk7YoH",
        "outputId": "89546789-7346-48ab-9e6a-b2c6494e4c7a"
      },
      "source": [
        "# using the logged artifact\n",
        "run = wandb.init(project = 'italian to english')\n",
        "artifact = run.use_artifact('ashisht7/italian to english/dataframe_unprocessed:latest',type = 'dataset')\n",
        "artifact_dir = artifact.download()\n",
        "run.finish()\n",
        "\n",
        "path = os.path.join(artifact_dir,\"df.pkl\")\n",
        "df = pd.read_pickle(path)"
      ],
      "execution_count": null,
      "outputs": [
        {
          "output_type": "display_data",
          "data": {
            "text/html": [
              "\n",
              "                Tracking run with wandb version 0.10.32<br/>\n",
              "                Syncing run <strong style=\"color:#cdcd00\">fancy-brook-22</strong> to <a href=\"https://wandb.ai\" target=\"_blank\">Weights & Biases</a> <a href=\"https://docs.wandb.com/integrations/jupyter.html\" target=\"_blank\">(Documentation)</a>.<br/>\n",
              "                Project page: <a href=\"https://wandb.ai/ashisht7/italian%20to%20english\" target=\"_blank\">https://wandb.ai/ashisht7/italian%20to%20english</a><br/>\n",
              "                Run page: <a href=\"https://wandb.ai/ashisht7/italian%20to%20english/runs/3hmzt1bn\" target=\"_blank\">https://wandb.ai/ashisht7/italian%20to%20english/runs/3hmzt1bn</a><br/>\n",
              "                Run data is saved locally in <code>/content/wandb/run-20210613_224841-3hmzt1bn</code><br/><br/>\n",
              "            "
            ],
            "text/plain": [
              "<IPython.core.display.HTML object>"
            ]
          },
          "metadata": {
            "tags": []
          }
        },
        {
          "output_type": "display_data",
          "data": {
            "text/html": [
              "<br/>Waiting for W&B process to finish, PID 557<br/>Program ended successfully."
            ],
            "text/plain": [
              "<IPython.core.display.HTML object>"
            ]
          },
          "metadata": {
            "tags": []
          }
        },
        {
          "output_type": "display_data",
          "data": {
            "application/vnd.jupyter.widget-view+json": {
              "model_id": "25dc2392a6cd46fa8c6c0499e7f65e2a",
              "version_minor": 0,
              "version_major": 2
            },
            "text/plain": [
              "VBox(children=(Label(value=' 0.15MB of 0.15MB uploaded (0.00MB deduped)\\r'), FloatProgress(value=1.0, max=1.0)…"
            ]
          },
          "metadata": {
            "tags": []
          }
        },
        {
          "output_type": "display_data",
          "data": {
            "text/html": [
              "Find user logs for this run at: <code>/content/wandb/run-20210613_224841-3hmzt1bn/logs/debug.log</code>"
            ],
            "text/plain": [
              "<IPython.core.display.HTML object>"
            ]
          },
          "metadata": {
            "tags": []
          }
        },
        {
          "output_type": "display_data",
          "data": {
            "text/html": [
              "Find internal logs for this run at: <code>/content/wandb/run-20210613_224841-3hmzt1bn/logs/debug-internal.log</code>"
            ],
            "text/plain": [
              "<IPython.core.display.HTML object>"
            ]
          },
          "metadata": {
            "tags": []
          }
        },
        {
          "output_type": "display_data",
          "data": {
            "text/html": [
              "Synced 4 W&B file(s), 0 media file(s), 2 artifact file(s) and 1 other file(s)"
            ],
            "text/plain": [
              "<IPython.core.display.HTML object>"
            ]
          },
          "metadata": {
            "tags": []
          }
        },
        {
          "output_type": "display_data",
          "data": {
            "text/html": [
              "\n",
              "                    <br/>Synced <strong style=\"color:#cdcd00\">fancy-brook-22</strong>: <a href=\"https://wandb.ai/ashisht7/italian%20to%20english/runs/3hmzt1bn\" target=\"_blank\">https://wandb.ai/ashisht7/italian%20to%20english/runs/3hmzt1bn</a><br/>\n",
              "                "
            ],
            "text/plain": [
              "<IPython.core.display.HTML object>"
            ]
          },
          "metadata": {
            "tags": []
          }
        }
      ]
    },
    {
      "cell_type": "code",
      "metadata": {
        "colab": {
          "base_uri": "https://localhost:8080/",
          "height": 424
        },
        "id": "gIKY3HOVkCUH",
        "outputId": "bdc0da61-2718-4819-af95-5274d15c0d6d"
      },
      "source": [
        "df"
      ],
      "execution_count": null,
      "outputs": [
        {
          "output_type": "execute_result",
          "data": {
            "text/html": [
              "<div>\n",
              "<style scoped>\n",
              "    .dataframe tbody tr th:only-of-type {\n",
              "        vertical-align: middle;\n",
              "    }\n",
              "\n",
              "    .dataframe tbody tr th {\n",
              "        vertical-align: top;\n",
              "    }\n",
              "\n",
              "    .dataframe thead th {\n",
              "        text-align: right;\n",
              "    }\n",
              "</style>\n",
              "<table border=\"1\" class=\"dataframe\">\n",
              "  <thead>\n",
              "    <tr style=\"text-align: right;\">\n",
              "      <th></th>\n",
              "      <th>italian</th>\n",
              "      <th>english</th>\n",
              "    </tr>\n",
              "  </thead>\n",
              "  <tbody>\n",
              "    <tr>\n",
              "      <th>0</th>\n",
              "      <td>ciao!</td>\n",
              "      <td>hi.</td>\n",
              "    </tr>\n",
              "    <tr>\n",
              "      <th>1</th>\n",
              "      <td>corri!</td>\n",
              "      <td>run!</td>\n",
              "    </tr>\n",
              "    <tr>\n",
              "      <th>2</th>\n",
              "      <td>corra!</td>\n",
              "      <td>run!</td>\n",
              "    </tr>\n",
              "    <tr>\n",
              "      <th>3</th>\n",
              "      <td>correte!</td>\n",
              "      <td>run!</td>\n",
              "    </tr>\n",
              "    <tr>\n",
              "      <th>4</th>\n",
              "      <td>chi?</td>\n",
              "      <td>who?</td>\n",
              "    </tr>\n",
              "    <tr>\n",
              "      <th>...</th>\n",
              "      <td>...</td>\n",
              "      <td>...</td>\n",
              "    </tr>\n",
              "    <tr>\n",
              "      <th>348319</th>\n",
              "      <td>se vuoi sembrare un madrelingua, devi essere d...</td>\n",
              "      <td>if you want to sound like a native speaker, yo...</td>\n",
              "    </tr>\n",
              "    <tr>\n",
              "      <th>348320</th>\n",
              "      <td>se vuoi sembrare un madrelingua, devi essere d...</td>\n",
              "      <td>if you want to sound like a native speaker, yo...</td>\n",
              "    </tr>\n",
              "    <tr>\n",
              "      <th>348321</th>\n",
              "      <td>se qualcuno che non conosce il tuo background ...</td>\n",
              "      <td>if someone who does not know your background s...</td>\n",
              "    </tr>\n",
              "    <tr>\n",
              "      <th>348322</th>\n",
              "      <td>senza dubbio esiste in questo mondo proprio la...</td>\n",
              "      <td>doubtless there exists in this world precisely...</td>\n",
              "    </tr>\n",
              "    <tr>\n",
              "      <th>348323</th>\n",
              "      <td>senza dubbio esiste in questo mondo proprio la...</td>\n",
              "      <td>doubtless there exists in this world precisely...</td>\n",
              "    </tr>\n",
              "  </tbody>\n",
              "</table>\n",
              "<p>348324 rows × 2 columns</p>\n",
              "</div>"
            ],
            "text/plain": [
              "                                                  italian                                            english\n",
              "0                                                   ciao!                                                hi.\n",
              "1                                                  corri!                                               run!\n",
              "2                                                  corra!                                               run!\n",
              "3                                                correte!                                               run!\n",
              "4                                                    chi?                                               who?\n",
              "...                                                   ...                                                ...\n",
              "348319  se vuoi sembrare un madrelingua, devi essere d...  if you want to sound like a native speaker, yo...\n",
              "348320  se vuoi sembrare un madrelingua, devi essere d...  if you want to sound like a native speaker, yo...\n",
              "348321  se qualcuno che non conosce il tuo background ...  if someone who does not know your background s...\n",
              "348322  senza dubbio esiste in questo mondo proprio la...  doubtless there exists in this world precisely...\n",
              "348323  senza dubbio esiste in questo mondo proprio la...  doubtless there exists in this world precisely...\n",
              "\n",
              "[348324 rows x 2 columns]"
            ]
          },
          "metadata": {
            "tags": []
          },
          "execution_count": 16
        }
      ]
    },
    {
      "cell_type": "code",
      "metadata": {
        "id": "98-lljv-UT5z"
      },
      "source": [
        "# run = wandb.init(project = \"italian to english\",name = 'preprocessing the data')\n",
        "# artifact = wandb.Artifact(name = \"dataframe_preprocessed\",type = 'dataset')\n",
        "\n",
        "def preprocess_italian(x):\n",
        "    \"\"\"\n",
        "    remove all special characters and add '<start>' & '<end>' to italian (encoder i/p)\n",
        "    while adding only '<start>' to english(decoder i/p)\n",
        "    \"\"\"\n",
        "    x = re.sub('\\W+',\" \",x) #replacing all special characters with space\n",
        "    return '<start> '+ x.strip() + ' <end>'\n",
        "\n",
        "def preprocess_english(x):\n",
        "    \"\"\"\n",
        "    remove all special characters and add '<start>' & '<end>' to italian (encoder i/p)\n",
        "    while adding only '<start>' to english(decoder i/p)\n",
        "    \"\"\"\n",
        "    x = re.sub('\\W+',\" \",x) #replacing all special characters with space\n",
        "    return '<start> '+ x.strip() + ' <end>'\n",
        "\n",
        "# test_df = df.copy()\n",
        "# df['italian'] = df['italian'].apply(preprocess_italian)\n",
        "# df['english'] = df['english'].apply(preprocess_english)\n",
        "\n",
        "# df.to_pickle(\"./df.pkl\")\n",
        "# artifact.add_file(\"df.pkl\")\n",
        "# run.log_artifact(artifact)\n",
        "# run.finish()"
      ],
      "execution_count": 25,
      "outputs": []
    },
    {
      "cell_type": "code",
      "metadata": {
        "colab": {
          "base_uri": "https://localhost:8080/",
          "height": 299,
          "referenced_widgets": [
            "854aec4a1a874ca7ad32e548390bbaac",
            "623567884ac545438daf846b11280f0e",
            "cba2eb15ff7d4c56a435a2e67a343412",
            "e6c76550e6a3453fae3ec2c0ec0fbf8d",
            "af83bf5379124205ad7263e6904b616a",
            "e45752304d104194a1b90d3b8307c20f",
            "7fc55460a16d43bd9a606cffd2e53a45",
            "a342e981c3b640018ecad81ecabe7c4c"
          ]
        },
        "id": "TEyFBq54EwRo",
        "outputId": "a9df0abc-4705-4ad9-f36d-334f63823037"
      },
      "source": [
        "#using the logged artifact\n",
        "run = wandb.init(project = 'italian to english')\n",
        "artifact = run.use_artifact('ashisht7/italian to english/dataframe_preprocessed:latest', type='dataset')\n",
        "artifact_dir = artifact.download()\n",
        "run.finish()\n",
        "\n",
        "path = os.path.join(artifact_dir,\"df.pkl\")\n",
        "df = pd.read_pickle(path)"
      ],
      "execution_count": 3,
      "outputs": [
        {
          "output_type": "display_data",
          "data": {
            "application/javascript": [
              "\n",
              "        window._wandbApiKey = new Promise((resolve, reject) => {\n",
              "            function loadScript(url) {\n",
              "            return new Promise(function(resolve, reject) {\n",
              "                let newScript = document.createElement(\"script\");\n",
              "                newScript.onerror = reject;\n",
              "                newScript.onload = resolve;\n",
              "                document.body.appendChild(newScript);\n",
              "                newScript.src = url;\n",
              "            });\n",
              "            }\n",
              "            loadScript(\"https://cdn.jsdelivr.net/npm/postmate/build/postmate.min.js\").then(() => {\n",
              "            const iframe = document.createElement('iframe')\n",
              "            iframe.style.cssText = \"width:0;height:0;border:none\"\n",
              "            document.body.appendChild(iframe)\n",
              "            const handshake = new Postmate({\n",
              "                container: iframe,\n",
              "                url: 'https://wandb.ai/authorize'\n",
              "            });\n",
              "            const timeout = setTimeout(() => reject(\"Couldn't auto authenticate\"), 5000)\n",
              "            handshake.then(function(child) {\n",
              "                child.on('authorize', data => {\n",
              "                    clearTimeout(timeout)\n",
              "                    resolve(data)\n",
              "                });\n",
              "            });\n",
              "            })\n",
              "        });\n",
              "    "
            ],
            "text/plain": [
              "<IPython.core.display.Javascript object>"
            ]
          },
          "metadata": {
            "tags": []
          }
        },
        {
          "output_type": "stream",
          "text": [
            "\u001b[34m\u001b[1mwandb\u001b[0m: Appending key for api.wandb.ai to your netrc file: /root/.netrc\n"
          ],
          "name": "stderr"
        },
        {
          "output_type": "display_data",
          "data": {
            "text/html": [
              "\n",
              "                Tracking run with wandb version 0.10.32<br/>\n",
              "                Syncing run <strong style=\"color:#cdcd00\">rose-elevator-26</strong> to <a href=\"https://wandb.ai\" target=\"_blank\">Weights & Biases</a> <a href=\"https://docs.wandb.com/integrations/jupyter.html\" target=\"_blank\">(Documentation)</a>.<br/>\n",
              "                Project page: <a href=\"https://wandb.ai/ashisht7/italian%20to%20english\" target=\"_blank\">https://wandb.ai/ashisht7/italian%20to%20english</a><br/>\n",
              "                Run page: <a href=\"https://wandb.ai/ashisht7/italian%20to%20english/runs/3mx1ftqp\" target=\"_blank\">https://wandb.ai/ashisht7/italian%20to%20english/runs/3mx1ftqp</a><br/>\n",
              "                Run data is saved locally in <code>/content/wandb/run-20210616_173615-3mx1ftqp</code><br/><br/>\n",
              "            "
            ],
            "text/plain": [
              "<IPython.core.display.HTML object>"
            ]
          },
          "metadata": {
            "tags": []
          }
        },
        {
          "output_type": "display_data",
          "data": {
            "text/html": [
              "<br/>Waiting for W&B process to finish, PID 143<br/>Program ended successfully."
            ],
            "text/plain": [
              "<IPython.core.display.HTML object>"
            ]
          },
          "metadata": {
            "tags": []
          }
        },
        {
          "output_type": "display_data",
          "data": {
            "application/vnd.jupyter.widget-view+json": {
              "model_id": "854aec4a1a874ca7ad32e548390bbaac",
              "version_minor": 0,
              "version_major": 2
            },
            "text/plain": [
              "VBox(children=(Label(value=' 0.14MB of 0.14MB uploaded (0.00MB deduped)\\r'), FloatProgress(value=1.0, max=1.0)…"
            ]
          },
          "metadata": {
            "tags": []
          }
        },
        {
          "output_type": "display_data",
          "data": {
            "text/html": [
              "Find user logs for this run at: <code>/content/wandb/run-20210616_173615-3mx1ftqp/logs/debug.log</code>"
            ],
            "text/plain": [
              "<IPython.core.display.HTML object>"
            ]
          },
          "metadata": {
            "tags": []
          }
        },
        {
          "output_type": "display_data",
          "data": {
            "text/html": [
              "Find internal logs for this run at: <code>/content/wandb/run-20210616_173615-3mx1ftqp/logs/debug-internal.log</code>"
            ],
            "text/plain": [
              "<IPython.core.display.HTML object>"
            ]
          },
          "metadata": {
            "tags": []
          }
        },
        {
          "output_type": "display_data",
          "data": {
            "text/html": [
              "Synced 4 W&B file(s), 0 media file(s), 2 artifact file(s) and 1 other file(s)"
            ],
            "text/plain": [
              "<IPython.core.display.HTML object>"
            ]
          },
          "metadata": {
            "tags": []
          }
        },
        {
          "output_type": "display_data",
          "data": {
            "text/html": [
              "\n",
              "                    <br/>Synced <strong style=\"color:#cdcd00\">rose-elevator-26</strong>: <a href=\"https://wandb.ai/ashisht7/italian%20to%20english/runs/3mx1ftqp\" target=\"_blank\">https://wandb.ai/ashisht7/italian%20to%20english/runs/3mx1ftqp</a><br/>\n",
              "                "
            ],
            "text/plain": [
              "<IPython.core.display.HTML object>"
            ]
          },
          "metadata": {
            "tags": []
          }
        }
      ]
    },
    {
      "cell_type": "code",
      "metadata": {
        "id": "KQobI6QYUXZT",
        "colab": {
          "base_uri": "https://localhost:8080/",
          "height": 109
        },
        "outputId": "9fd336f8-740a-4973-8005-2f2d21862516"
      },
      "source": [
        "df['italian'].values[-1]"
      ],
      "execution_count": 4,
      "outputs": [
        {
          "output_type": "execute_result",
          "data": {
            "application/vnd.google.colaboratory.intrinsic+json": {
              "type": "string"
            },
            "text/plain": [
              "'<start> senza dubbio esiste in questo mondo proprio la donna giusta per ogni uomo da sposare e viceversa ma se si considera che un essere umano ha l opportunità di conoscere solo poche centinaia di persone e fra le poche centinaia che ce ne sono solo una dozzina o meno che conosce intimamente e fra la dozzina uno o due amici al massimo si vedrà facilmente quando ricorderemo il numero di milioni che abitano questo mondo che probabilmente da quando è stata creata la terra l uomo giusto non ha mai incontrato la donna giusta <end>'"
            ]
          },
          "metadata": {
            "tags": []
          },
          "execution_count": 4
        }
      ]
    },
    {
      "cell_type": "code",
      "metadata": {
        "id": "rd5h9Me9UZYD",
        "colab": {
          "base_uri": "https://localhost:8080/",
          "height": 109
        },
        "outputId": "9b40dc45-38fe-411f-b90a-326a21cd2f06"
      },
      "source": [
        "df['english'].values[-1]"
      ],
      "execution_count": 5,
      "outputs": [
        {
          "output_type": "execute_result",
          "data": {
            "application/vnd.google.colaboratory.intrinsic+json": {
              "type": "string"
            },
            "text/plain": [
              "'<start> doubtless there exists in this world precisely the right woman for any given man to marry and vice versa but when you consider that a human being has the opportunity of being acquainted with only a few hundred people and out of the few hundred that there are but a dozen or less whom he knows intimately and out of the dozen one or two friends at most it will easily be seen when we remember the number of millions who inhabit this world that probably since the earth was created the right man has never yet met the right woman <end>'"
            ]
          },
          "metadata": {
            "tags": []
          },
          "execution_count": 5
        }
      ]
    },
    {
      "cell_type": "code",
      "metadata": {
        "id": "Xrw9_fe4_F2W"
      },
      "source": [
        "def remove_start(x):\n",
        "  x_modified = x.replace('<start>','').strip()\n",
        "  return x_modified\n",
        "\n",
        "def remove_end(x):\n",
        "  x_modified = x.replace('<end>','').strip()\n",
        "  return x_modified  "
      ],
      "execution_count": 6,
      "outputs": []
    },
    {
      "cell_type": "code",
      "metadata": {
        "id": "QccaLqEpUZ9f",
        "colab": {
          "base_uri": "https://localhost:8080/"
        },
        "outputId": "33376c8f-63ad-4090-82b1-533bfcbcd118"
      },
      "source": [
        "np.random.seed(42)\n",
        "k = np.random.choice(range(df['italian'].shape[0]),300000) #we are reducing the dataset to 300000 \n",
        "df_new = df.iloc[k,:].copy()\n",
        "df_new['english_ip'] = pd.DataFrame(df['english'].apply(remove_end)) \n",
        "df_new['english_op'] = pd.DataFrame(df['english'].apply(remove_start))\n",
        "\n",
        "train,val =  train_test_split(df_new,test_size=0.2)\n",
        "train.shape,val.shape"
      ],
      "execution_count": 7,
      "outputs": [
        {
          "output_type": "execute_result",
          "data": {
            "text/plain": [
              "((240000, 4), (60000, 4))"
            ]
          },
          "metadata": {
            "tags": []
          },
          "execution_count": 7
        }
      ]
    },
    {
      "cell_type": "code",
      "metadata": {
        "id": "5wRHE78LUZqI",
        "colab": {
          "base_uri": "https://localhost:8080/"
        },
        "outputId": "f4587a49-9b13-4bb2-d016-f0334b182dd1"
      },
      "source": [
        "#finding lenghts of each snetence for encoder\n",
        "from tensorflow.keras.preprocessing.text import Tokenizer\n",
        "\n",
        "ita_tokenizer = Tokenizer(filters = '')\n",
        "ita_tokenizer.fit_on_texts(texts = train['italian'].values) #fit tokenizer\n",
        "train_italian = ita_tokenizer.texts_to_sequences(train.italian.values) #tokenize \n",
        "val_italian  = ita_tokenizer.texts_to_sequences(val.italian.values) #tokenize \n",
        "italian_len = np.array([len(i) for i in train_italian]) #getting the len of tokenized sentences for finding value of padding\n",
        "inp_vocab_size = len(ita_tokenizer.word_index)+1 #1 is unknown\n",
        "\n",
        "eng_tokenizer = Tokenizer(filters = '')\n",
        "eng_tokenizer.fit_on_texts(texts =  train['english'].values) \n",
        "train_english_ip = eng_tokenizer.texts_to_sequences(train.english_ip.values)\n",
        "train_english_op = eng_tokenizer.texts_to_sequences(train.english_op.values)\n",
        "val_english_ip = eng_tokenizer.texts_to_sequences(val.english_ip.values)\n",
        "val_english_op = eng_tokenizer.texts_to_sequences(val.english_op.values)\n",
        "english_len = np.array([len(i) for i in train_english_ip])\n",
        "op_vocab_size = len(eng_tokenizer.word_index)+1 #1 is unknown\n",
        "\n",
        "from tensorflow.keras.preprocessing.sequence import pad_sequences\n",
        "print('We will use the max length as padding value for both italian and english which are respectively:\\n %i\\tand\\t%i'%(italian_len.max(),english_len.max()))\n",
        "italian_pad = italian_len.max()\n",
        "english_pad = english_len.max()\n",
        "train_italian = pad_sequences(train_italian,maxlen=italian_pad,padding='post')\n",
        "train_english_ip = pad_sequences(train_english_ip,maxlen=english_pad,padding='post')\n",
        "train_english_op = pad_sequences(train_english_op,maxlen=english_pad,padding='post')\n",
        "\n",
        "val_italian = pad_sequences(val_italian,maxlen=italian_pad,padding='post')\n",
        "val_english_ip = pad_sequences(val_english_ip,maxlen=english_pad,padding='post')\n",
        "val_english_op = pad_sequences(val_english_op,maxlen=english_pad,padding='post')"
      ],
      "execution_count": 8,
      "outputs": [
        {
          "output_type": "stream",
          "text": [
            "We will use the max length as padding value for both italian and english which are respectively:\n",
            " 96\tand\t102\n"
          ],
          "name": "stdout"
        }
      ]
    },
    {
      "cell_type": "code",
      "metadata": {
        "id": "fGW455_ZVyoN",
        "colab": {
          "base_uri": "https://localhost:8080/",
          "height": 141
        },
        "outputId": "477f2fbd-5241-47df-82f0-dd8c702c63a0"
      },
      "source": [
        "run = wandb.init(project = \"italian to english\",name = 'modelling')\n",
        "config = run.config\n",
        "config.batch_size = 60\n",
        "config.embedding_dim = 256\n",
        "config.lstm_units = 256\n",
        "config.input_length = italian_pad\n",
        "config.output_length = english_pad\n",
        "config.inp_vocab_size = inp_vocab_size\n",
        "config.op_vocab_size = op_vocab_size\n",
        "config.epochs = 5"
      ],
      "execution_count": 9,
      "outputs": [
        {
          "output_type": "stream",
          "text": [
            "\u001b[34m\u001b[1mwandb\u001b[0m: Currently logged in as: \u001b[33mashisht7\u001b[0m (use `wandb login --relogin` to force relogin)\n"
          ],
          "name": "stderr"
        },
        {
          "output_type": "display_data",
          "data": {
            "text/html": [
              "\n",
              "                Tracking run with wandb version 0.10.32<br/>\n",
              "                Syncing run <strong style=\"color:#cdcd00\">modelling</strong> to <a href=\"https://wandb.ai\" target=\"_blank\">Weights & Biases</a> <a href=\"https://docs.wandb.com/integrations/jupyter.html\" target=\"_blank\">(Documentation)</a>.<br/>\n",
              "                Project page: <a href=\"https://wandb.ai/ashisht7/italian%20to%20english\" target=\"_blank\">https://wandb.ai/ashisht7/italian%20to%20english</a><br/>\n",
              "                Run page: <a href=\"https://wandb.ai/ashisht7/italian%20to%20english/runs/3s7r3ow7\" target=\"_blank\">https://wandb.ai/ashisht7/italian%20to%20english/runs/3s7r3ow7</a><br/>\n",
              "                Run data is saved locally in <code>/content/wandb/run-20210616_173648-3s7r3ow7</code><br/><br/>\n",
              "            "
            ],
            "text/plain": [
              "<IPython.core.display.HTML object>"
            ]
          },
          "metadata": {
            "tags": []
          }
        }
      ]
    },
    {
      "cell_type": "code",
      "metadata": {
        "id": "c9VLuFmrkduL"
      },
      "source": [
        "reverse_eng_word_index = {}\n",
        "for key,value in eng_tokenizer.word_index.items():\n",
        "  reverse_eng_word_index[value] = key"
      ],
      "execution_count": 10,
      "outputs": []
    },
    {
      "cell_type": "markdown",
      "metadata": {
        "id": "HkiWovgUV35O"
      },
      "source": [
        "# Encoder"
      ]
    },
    {
      "cell_type": "code",
      "metadata": {
        "id": "zVeh_nFLV6KV"
      },
      "source": [
        "tf.keras.backend.clear_session()\n",
        "#encoder\n",
        "enc_input = Input(shape=(config.input_length,))\n",
        "enc_embedding = Embedding(input_dim = config.inp_vocab_size,\n",
        "                      output_dim = config.embedding_dim,\n",
        "                      mask_zero=True,\n",
        "                      input_length=config.input_length)(enc_input)\n",
        "enc_op,enc_h,enc_c = LSTM(units = config.lstm_units,\n",
        "            return_state = True,\n",
        "            )(enc_embedding) #return_sequences = True\n",
        "enc_states = [enc_h,enc_c]\n",
        "#decoder\n",
        "dec_input = Input(shape=(config.output_length,))\n",
        "dec_embedding = Embedding(input_dim = config.op_vocab_size,\n",
        "                      output_dim = config.embedding_dim,\n",
        "                      mask_zero=True,\n",
        "                      input_length=config.output_length)(dec_input)\n",
        "dec_op,_,_ = LSTM(units = config.lstm_units,\n",
        "            return_state = True,\n",
        "            return_sequences = True\n",
        "            )(dec_embedding,initial_state = enc_states)  #https://stackoverflow.com/a/58152537\n",
        "dec_dense = Dense(units = config.op_vocab_size,\n",
        "                  activation = 'softmax',\n",
        "                  )\n",
        "dense_op = dec_dense(dec_op) \n",
        "\n",
        "model = Model([enc_input,dec_input],dense_op)\n"
      ],
      "execution_count": 11,
      "outputs": []
    },
    {
      "cell_type": "code",
      "metadata": {
        "id": "re4nqCIIoT17",
        "colab": {
          "base_uri": "https://localhost:8080/"
        },
        "outputId": "884f70d5-d2e8-40fc-a1ec-1c7d37e0915d"
      },
      "source": [
        "config.optimizer = 'adam'\n",
        "model.compile(loss='sparse_categorical_crossentropy',metrics=['accuracy'],optimizer=config.optimizer)\n",
        "model.summary()"
      ],
      "execution_count": 12,
      "outputs": [
        {
          "output_type": "stream",
          "text": [
            "Model: \"model\"\n",
            "__________________________________________________________________________________________________\n",
            "Layer (type)                    Output Shape         Param #     Connected to                     \n",
            "==================================================================================================\n",
            "input_1 (InputLayer)            [(None, 96)]         0                                            \n",
            "__________________________________________________________________________________________________\n",
            "input_2 (InputLayer)            [(None, 102)]        0                                            \n",
            "__________________________________________________________________________________________________\n",
            "embedding (Embedding)           (None, 96, 256)      5616640     input_1[0][0]                    \n",
            "__________________________________________________________________________________________________\n",
            "embedding_1 (Embedding)         (None, 102, 256)     2949376     input_2[0][0]                    \n",
            "__________________________________________________________________________________________________\n",
            "lstm (LSTM)                     [(None, 256), (None, 525312      embedding[0][0]                  \n",
            "__________________________________________________________________________________________________\n",
            "lstm_1 (LSTM)                   [(None, 102, 256), ( 525312      embedding_1[0][0]                \n",
            "                                                                 lstm[0][1]                       \n",
            "                                                                 lstm[0][2]                       \n",
            "__________________________________________________________________________________________________\n",
            "dense (Dense)                   (None, 102, 11521)   2960897     lstm_1[0][0]                     \n",
            "==================================================================================================\n",
            "Total params: 12,577,537\n",
            "Trainable params: 12,577,537\n",
            "Non-trainable params: 0\n",
            "__________________________________________________________________________________________________\n"
          ],
          "name": "stdout"
        }
      ]
    },
    {
      "cell_type": "code",
      "metadata": {
        "id": "Qghmr4qdhhym"
      },
      "source": [
        "ckp = tf.keras.callbacks.ModelCheckpoint('model_normal.hdf5',monitor='val_loss',save_best_only=True)"
      ],
      "execution_count": 14,
      "outputs": []
    },
    {
      "cell_type": "code",
      "metadata": {
        "id": "f8qG6EzlodWe",
        "colab": {
          "base_uri": "https://localhost:8080/"
        },
        "outputId": "e6d9eb4a-7f08-4463-97d2-942846903069"
      },
      "source": [
        "model.fit(x=[train_italian,train_english_ip],\n",
        "          y=train_english_op,\n",
        "          epochs=config.epochs,\n",
        "          verbose=1,\n",
        "          validation_data=([val_italian,val_english_ip],val_english_op),\n",
        "          batch_size=config.batch_size,\n",
        "          callbacks=[ckp,WandbCallback()])\n"
      ],
      "execution_count": 16,
      "outputs": [
        {
          "output_type": "stream",
          "text": [
            "Epoch 1/5\n",
            "4000/4000 [==============================] - 653s 161ms/step - loss: 0.2100 - accuracy: 0.4652 - val_loss: 0.1288 - val_accuracy: 0.6357\n",
            "Epoch 2/5\n",
            "4000/4000 [==============================] - 639s 160ms/step - loss: 0.0927 - accuracy: 0.7245 - val_loss: 0.0713 - val_accuracy: 0.7806\n",
            "Epoch 3/5\n",
            "4000/4000 [==============================] - 590s 148ms/step - loss: 0.0511 - accuracy: 0.8347 - val_loss: 0.0496 - val_accuracy: 0.8435\n",
            "Epoch 4/5\n",
            "4000/4000 [==============================] - 615s 154ms/step - loss: 0.0328 - accuracy: 0.8880 - val_loss: 0.0398 - val_accuracy: 0.8728\n",
            "Epoch 5/5\n",
            "4000/4000 [==============================] - 620s 155ms/step - loss: 0.0231 - accuracy: 0.9177 - val_loss: 0.0346 - val_accuracy: 0.8907\n"
          ],
          "name": "stdout"
        },
        {
          "output_type": "execute_result",
          "data": {
            "text/plain": [
              "<tensorflow.python.keras.callbacks.History at 0x7febc62f0a10>"
            ]
          },
          "metadata": {
            "tags": []
          },
          "execution_count": 16
        }
      ]
    },
    {
      "cell_type": "code",
      "metadata": {
        "colab": {
          "base_uri": "https://localhost:8080/",
          "height": 680,
          "referenced_widgets": [
            "d5a10191a53c4bed8ab0470f2ca969a7",
            "3bd256ef8a8c405587bfa2fb1a242dab",
            "f5d532e53c884810882b092496ca8687",
            "87c57bf511dc4539b48510fa2eef685c",
            "770f3718da684c8e86d3a79a248af570",
            "f93d40cfd181457c92b5941cbe3f498a",
            "43fdaba677a84dff9f3dbace6a055568",
            "bbdf4088edd8484c99ea39cfb26ae48d"
          ]
        },
        "id": "QAipz-YMmQzQ",
        "outputId": "604d78b0-da45-43dd-8cd8-8158ac5156d3"
      },
      "source": [
        "artifact = wandb.Artifact(\"model-best\",type = 'model')\n",
        "artifact.add_file(\"model_normal.hdf5\")\n",
        "run.log_artifact(artifact,name = \"model-best.h5\")\n",
        "run.finish()"
      ],
      "execution_count": 17,
      "outputs": [
        {
          "output_type": "display_data",
          "data": {
            "text/html": [
              "<br/>Waiting for W&B process to finish, PID 222<br/>Program ended successfully."
            ],
            "text/plain": [
              "<IPython.core.display.HTML object>"
            ]
          },
          "metadata": {
            "tags": []
          }
        },
        {
          "output_type": "display_data",
          "data": {
            "application/vnd.jupyter.widget-view+json": {
              "model_id": "d5a10191a53c4bed8ab0470f2ca969a7",
              "version_minor": 0,
              "version_major": 2
            },
            "text/plain": [
              "VBox(children=(Label(value=' 288.87MB of 288.87MB uploaded (0.00MB deduped)\\r'), FloatProgress(value=1.0, max=…"
            ]
          },
          "metadata": {
            "tags": []
          }
        },
        {
          "output_type": "display_data",
          "data": {
            "text/html": [
              "Find user logs for this run at: <code>/content/wandb/run-20210616_173648-3s7r3ow7/logs/debug.log</code>"
            ],
            "text/plain": [
              "<IPython.core.display.HTML object>"
            ]
          },
          "metadata": {
            "tags": []
          }
        },
        {
          "output_type": "display_data",
          "data": {
            "text/html": [
              "Find internal logs for this run at: <code>/content/wandb/run-20210616_173648-3s7r3ow7/logs/debug-internal.log</code>"
            ],
            "text/plain": [
              "<IPython.core.display.HTML object>"
            ]
          },
          "metadata": {
            "tags": []
          }
        },
        {
          "output_type": "display_data",
          "data": {
            "text/html": [
              "<h3>Run summary:</h3><br/><style>\n",
              "    table.wandb td:nth-child(1) { padding: 0 10px; text-align: right }\n",
              "    </style><table class=\"wandb\">\n",
              "<tr><td>epoch</td><td>4</td></tr><tr><td>loss</td><td>0.02306</td></tr><tr><td>accuracy</td><td>0.9177</td></tr><tr><td>val_loss</td><td>0.03464</td></tr><tr><td>val_accuracy</td><td>0.89069</td></tr><tr><td>_runtime</td><td>3179</td></tr><tr><td>_timestamp</td><td>1623868187</td></tr><tr><td>_step</td><td>4</td></tr><tr><td>best_val_loss</td><td>0.03464</td></tr><tr><td>best_epoch</td><td>4</td></tr></table>"
            ],
            "text/plain": [
              "<IPython.core.display.HTML object>"
            ]
          },
          "metadata": {
            "tags": []
          }
        },
        {
          "output_type": "display_data",
          "data": {
            "text/html": [
              "<h3>Run history:</h3><br/><style>\n",
              "    table.wandb td:nth-child(1) { padding: 0 10px; text-align: right }\n",
              "    </style><table class=\"wandb\">\n",
              "<tr><td>epoch</td><td>▁▃▅▆█</td></tr><tr><td>loss</td><td>█▄▂▁▁</td></tr><tr><td>accuracy</td><td>▁▅▇██</td></tr><tr><td>val_loss</td><td>█▄▂▁▁</td></tr><tr><td>val_accuracy</td><td>▁▅▇██</td></tr><tr><td>_runtime</td><td>▁▃▄▆█</td></tr><tr><td>_timestamp</td><td>▁▃▄▆█</td></tr><tr><td>_step</td><td>▁▃▅▆█</td></tr></table><br/>"
            ],
            "text/plain": [
              "<IPython.core.display.HTML object>"
            ]
          },
          "metadata": {
            "tags": []
          }
        },
        {
          "output_type": "display_data",
          "data": {
            "text/html": [
              "Synced 5 W&B file(s), 1 media file(s), 7 artifact file(s) and 2 other file(s)"
            ],
            "text/plain": [
              "<IPython.core.display.HTML object>"
            ]
          },
          "metadata": {
            "tags": []
          }
        },
        {
          "output_type": "display_data",
          "data": {
            "text/html": [
              "\n",
              "                    <br/>Synced <strong style=\"color:#cdcd00\">modelling</strong>: <a href=\"https://wandb.ai/ashisht7/italian%20to%20english/runs/3s7r3ow7\" target=\"_blank\">https://wandb.ai/ashisht7/italian%20to%20english/runs/3s7r3ow7</a><br/>\n",
              "                "
            ],
            "text/plain": [
              "<IPython.core.display.HTML object>"
            ]
          },
          "metadata": {
            "tags": []
          }
        }
      ]
    },
    {
      "cell_type": "code",
      "metadata": {
        "colab": {
          "base_uri": "https://localhost:8080/",
          "height": 282,
          "referenced_widgets": [
            "9b89eee74b554062aef6a7d1e697905e",
            "3130bc9e148a42de96102710b4392cb7",
            "4437b7fd24354584901f5c293639718f",
            "b7fa656db41f472bb5f47789692e75d9",
            "a6d1c5d0af9e465195984f731b05a4ab",
            "95130916fea447239ff6a8b883172968",
            "f873752dd1ba4869b37ec9436c920622",
            "5b150df1f6804038a2a6335557c20830"
          ]
        },
        "id": "b3H_AobPoMCw",
        "outputId": "029344dc-f40b-48b3-8902-fbcb26460f2a"
      },
      "source": [
        "#using the logged artifact\n",
        "run = wandb.init(project = 'italian to english')\n",
        "artifact = run.use_artifact('ashisht7/italian to english/model-best:latest', type='model')\n",
        "artifact_dir = artifact.download()\n",
        "run.finish()\n",
        "\n",
        "path = os.path.join(artifact_dir,\"model_normal.hdf5\")"
      ],
      "execution_count": 18,
      "outputs": [
        {
          "output_type": "display_data",
          "data": {
            "text/html": [
              "\n",
              "                Tracking run with wandb version 0.10.32<br/>\n",
              "                Syncing run <strong style=\"color:#cdcd00\">lively-water-28</strong> to <a href=\"https://wandb.ai\" target=\"_blank\">Weights & Biases</a> <a href=\"https://docs.wandb.com/integrations/jupyter.html\" target=\"_blank\">(Documentation)</a>.<br/>\n",
              "                Project page: <a href=\"https://wandb.ai/ashisht7/italian%20to%20english\" target=\"_blank\">https://wandb.ai/ashisht7/italian%20to%20english</a><br/>\n",
              "                Run page: <a href=\"https://wandb.ai/ashisht7/italian%20to%20english/runs/15y01ads\" target=\"_blank\">https://wandb.ai/ashisht7/italian%20to%20english/runs/15y01ads</a><br/>\n",
              "                Run data is saved locally in <code>/content/wandb/run-20210616_183029-15y01ads</code><br/><br/>\n",
              "            "
            ],
            "text/plain": [
              "<IPython.core.display.HTML object>"
            ]
          },
          "metadata": {
            "tags": []
          }
        },
        {
          "output_type": "stream",
          "text": [
            "\u001b[34m\u001b[1mwandb\u001b[0m: Downloading large artifact model-best:latest, 143.99MB. 1 files... Done. 0:0:0\n"
          ],
          "name": "stderr"
        },
        {
          "output_type": "display_data",
          "data": {
            "text/html": [
              "<br/>Waiting for W&B process to finish, PID 363<br/>Program ended successfully."
            ],
            "text/plain": [
              "<IPython.core.display.HTML object>"
            ]
          },
          "metadata": {
            "tags": []
          }
        },
        {
          "output_type": "display_data",
          "data": {
            "application/vnd.jupyter.widget-view+json": {
              "model_id": "9b89eee74b554062aef6a7d1e697905e",
              "version_minor": 0,
              "version_major": 2
            },
            "text/plain": [
              "VBox(children=(Label(value=' 0.00MB of 0.00MB uploaded (0.00MB deduped)\\r'), FloatProgress(value=1.0, max=1.0)…"
            ]
          },
          "metadata": {
            "tags": []
          }
        },
        {
          "output_type": "display_data",
          "data": {
            "text/html": [
              "Find user logs for this run at: <code>/content/wandb/run-20210616_183029-15y01ads/logs/debug.log</code>"
            ],
            "text/plain": [
              "<IPython.core.display.HTML object>"
            ]
          },
          "metadata": {
            "tags": []
          }
        },
        {
          "output_type": "display_data",
          "data": {
            "text/html": [
              "Find internal logs for this run at: <code>/content/wandb/run-20210616_183029-15y01ads/logs/debug-internal.log</code>"
            ],
            "text/plain": [
              "<IPython.core.display.HTML object>"
            ]
          },
          "metadata": {
            "tags": []
          }
        },
        {
          "output_type": "display_data",
          "data": {
            "text/html": [
              "Synced 5 W&B file(s), 0 media file(s), 0 artifact file(s) and 1 other file(s)"
            ],
            "text/plain": [
              "<IPython.core.display.HTML object>"
            ]
          },
          "metadata": {
            "tags": []
          }
        },
        {
          "output_type": "display_data",
          "data": {
            "text/html": [
              "\n",
              "                    <br/>Synced <strong style=\"color:#cdcd00\">lively-water-28</strong>: <a href=\"https://wandb.ai/ashisht7/italian%20to%20english/runs/15y01ads\" target=\"_blank\">https://wandb.ai/ashisht7/italian%20to%20english/runs/15y01ads</a><br/>\n",
              "                "
            ],
            "text/plain": [
              "<IPython.core.display.HTML object>"
            ]
          },
          "metadata": {
            "tags": []
          }
        }
      ]
    },
    {
      "cell_type": "code",
      "metadata": {
        "id": "a81ovMtVr8aj",
        "colab": {
          "base_uri": "https://localhost:8080/"
        },
        "outputId": "a75926fc-f234-4946-c806-4d6778bf28a2"
      },
      "source": [
        "model = tf.keras.models.load_model(path)\n",
        "model.summary()"
      ],
      "execution_count": 19,
      "outputs": [
        {
          "output_type": "stream",
          "text": [
            "Model: \"model\"\n",
            "__________________________________________________________________________________________________\n",
            "Layer (type)                    Output Shape         Param #     Connected to                     \n",
            "==================================================================================================\n",
            "input_1 (InputLayer)            [(None, 96)]         0                                            \n",
            "__________________________________________________________________________________________________\n",
            "input_2 (InputLayer)            [(None, 102)]        0                                            \n",
            "__________________________________________________________________________________________________\n",
            "embedding (Embedding)           (None, 96, 256)      5616640     input_1[0][0]                    \n",
            "__________________________________________________________________________________________________\n",
            "embedding_1 (Embedding)         (None, 102, 256)     2949376     input_2[0][0]                    \n",
            "__________________________________________________________________________________________________\n",
            "lstm (LSTM)                     [(None, 256), (None, 525312      embedding[0][0]                  \n",
            "__________________________________________________________________________________________________\n",
            "lstm_1 (LSTM)                   [(None, 102, 256), ( 525312      embedding_1[0][0]                \n",
            "                                                                 lstm[0][1]                       \n",
            "                                                                 lstm[0][2]                       \n",
            "__________________________________________________________________________________________________\n",
            "dense (Dense)                   (None, 102, 11521)   2960897     lstm_1[0][0]                     \n",
            "==================================================================================================\n",
            "Total params: 12,577,537\n",
            "Trainable params: 12,577,537\n",
            "Non-trainable params: 0\n",
            "__________________________________________________________________________________________________\n"
          ],
          "name": "stdout"
        }
      ]
    },
    {
      "cell_type": "code",
      "metadata": {
        "id": "SxaNYl3U0LzL",
        "colab": {
          "base_uri": "https://localhost:8080/",
          "height": 533
        },
        "outputId": "e7f97e49-5fa3-449a-9a02-dc09909d8bb6"
      },
      "source": [
        "from tensorflow.keras.utils import plot_model\n",
        "plot_model(model,show_shapes=True)"
      ],
      "execution_count": 20,
      "outputs": [
        {
          "output_type": "execute_result",
          "data": {
            "image/png": "[encoded data removed]",
            "text/plain": [
              "<IPython.core.display.Image object>"
            ]
          },
          "metadata": {
            "tags": []
          },
          "execution_count": 20
        }
      ]
    },
    {
      "cell_type": "markdown",
      "metadata": {
        "id": "1DzTenrTme0k"
      },
      "source": [
        "# Predict"
      ]
    },
    {
      "cell_type": "code",
      "metadata": {
        "id": "ZqhjSukWqGVO"
      },
      "source": [
        "def predict_model(input_sentence):\n",
        "#https://stackoverflow.com/a/43749036\n",
        "  input_sentence = input_sentence.replace('<start>','') #we need to remove all special characters so we will remove <start> and <end> and add it later if there is one\n",
        "  input_sentence = input_sentence.replace('<end>','') #encoder inp shld contain <start> and <end> as model was trained like that\n",
        "  input_sentence = preprocess_italian(input_sentence)#removes all special characters and adding <start> and <end> to the  input_sentence\n",
        "  input_sentence = np.array([input_sentence])#tokenizer works on array type otherwise there will be error\n",
        "  tokenizer_ip = ita_tokenizer.texts_to_sequences(input_sentence) #tokenizer\n",
        "  tokenizer_ip = pad_sequences(tokenizer_ip,maxlen=italian_pad,padding='post') #padding\n",
        "  encoder_embedding_op = model.layers[2](tokenizer_ip)\n",
        "  encoder_op,encoder_h,encoder_c = model.layers[4](encoder_embedding_op)  #getting the op from encoder embedding\n",
        "  states = [encoder_h,encoder_c]\n",
        "  dec_input = np.array(eng_tokenizer.word_index['<start>']).reshape((1,1)) #index of <start>, shape = 1 row 1 column, input for decoder\n",
        "  dec_op = np.array([])\n",
        "  for i in range(config.output_length): #maximum length of output sequence\n",
        "    decoder_embedding_op = model.layers[3](dec_input)\n",
        "    decoder_op,decoder_h,decoder_c = model.layers[5](decoder_embedding_op,initial_state = states)\n",
        "    states = [decoder_h,decoder_c]\n",
        "    dense_op = model.layers[-1](decoder_op)\n",
        "    op_value =np.argmax(dense_op) #finding the index with highest probability\n",
        "    if op_value == eng_tokenizer.word_index['<end>']:\n",
        "      break;\n",
        "    dec_op = np.append(dec_op,reverse_eng_word_index[op_value]) #appending the word to a output list\n",
        "    dec_input = np.array(op_value).reshape((1,1)) #the next input\n",
        "  \n",
        "  sentence = \" \".join(j for j in dec_op) #combining the words stored in the list as a sentence\n",
        "  return sentence"
      ],
      "execution_count": 28,
      "outputs": []
    },
    {
      "cell_type": "code",
      "metadata": {
        "id": "JHcylHhKqWjP",
        "colab": {
          "base_uri": "https://localhost:8080/",
          "height": 36
        },
        "outputId": "f1c3083a-d81f-44a5-c120-16cc2ff17e6d"
      },
      "source": [
        "i=1\n",
        "predict_model('tu pensi che tom sia ancora in australia')"
      ],
      "execution_count": 29,
      "outputs": [
        {
          "output_type": "execute_result",
          "data": {
            "application/vnd.google.colaboratory.intrinsic+json": {
              "type": "string"
            },
            "text/plain": [
              "'do you think tom is still in australia'"
            ]
          },
          "metadata": {
            "tags": []
          },
          "execution_count": 29
        }
      ]
    },
    {
      "cell_type": "code",
      "metadata": {
        "colab": {
          "base_uri": "https://localhost:8080/",
          "height": 36
        },
        "id": "QKSExlOOKXFZ",
        "outputId": "317616a2-06e5-4144-bfec-4af275d41b6c"
      },
      "source": [
        "predict_model(val.italian.values[i])"
      ],
      "execution_count": 32,
      "outputs": [
        {
          "output_type": "execute_result",
          "data": {
            "application/vnd.google.colaboratory.intrinsic+json": {
              "type": "string"
            },
            "text/plain": [
              "'tom is apartment is very tidy'"
            ]
          },
          "metadata": {
            "tags": []
          },
          "execution_count": 32
        }
      ]
    },
    {
      "cell_type": "code",
      "metadata": {
        "id": "MXfCV8Airx97",
        "colab": {
          "base_uri": "https://localhost:8080/",
          "height": 36
        },
        "outputId": "10480d84-c3bf-4639-c096-6e20fb86058e"
      },
      "source": [
        "val.italian.values[i] #italian sentence given as input"
      ],
      "execution_count": 30,
      "outputs": [
        {
          "output_type": "execute_result",
          "data": {
            "application/vnd.google.colaboratory.intrinsic+json": {
              "type": "string"
            },
            "text/plain": [
              "'<start> l appartamento di tom è molto ordinato <end>'"
            ]
          },
          "metadata": {
            "tags": []
          },
          "execution_count": 30
        }
      ]
    },
    {
      "cell_type": "code",
      "metadata": {
        "id": "1u7UvyzqBxpK",
        "colab": {
          "base_uri": "https://localhost:8080/",
          "height": 36
        },
        "outputId": "5dde0ae0-fa7d-479c-8824-f46859640691"
      },
      "source": [
        "val.english.values[i] #true english translation"
      ],
      "execution_count": 31,
      "outputs": [
        {
          "output_type": "execute_result",
          "data": {
            "application/vnd.google.colaboratory.intrinsic+json": {
              "type": "string"
            },
            "text/plain": [
              "'<start> tom is apartment is very tidy <end>'"
            ]
          },
          "metadata": {
            "tags": []
          },
          "execution_count": 31
        }
      ]
    },
    {
      "cell_type": "markdown",
      "metadata": {
        "id": "z2E88TsUmixp"
      },
      "source": [
        "# Bleu Score"
      ]
    },
    {
      "cell_type": "code",
      "metadata": {
        "id": "UJ1gFeWEF8mV",
        "colab": {
          "base_uri": "https://localhost:8080/"
        },
        "outputId": "318ad10e-5a19-4f74-add2-da56f77f34a7"
      },
      "source": [
        "k = np.random.choice(range(val.shape[0]),1000)\n",
        "bleu_score = []\n",
        "predicted_sentence = []\n",
        "for i in k:\n",
        "  predict = predict_model(val.italian.values[i])\n",
        "  predicted_sentence.append(predict)\n",
        "  reference = val.english.values[i].replace('<start>','') #replace start and end from the text\n",
        "  reference = reference.replace('<end>','').strip()\n",
        "  _ = bleu.sentence_bleu([reference],predict)\n",
        "  bleu_score.append(_)\n",
        "\n",
        "bleu_score=np.array(bleu_score)\n",
        "print(\"The average bleu score obtained is:\\n%.3f\"%(bleu_score.mean()))"
      ],
      "execution_count": 33,
      "outputs": [
        {
          "output_type": "stream",
          "text": [
            "The average bleu score obtained is:\n",
            "0.835\n"
          ],
          "name": "stdout"
        }
      ]
    }
  ]
}